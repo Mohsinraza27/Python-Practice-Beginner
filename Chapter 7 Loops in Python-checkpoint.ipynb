{
 "cells": [
  {
   "cell_type": "code",
   "execution_count": null,
   "id": "df9a532a",
   "metadata": {},
   "outputs": [],
   "source": [
    "i = 1\n",
    "while i < 25:\n",
    "    print(\"Yes\")\n",
    "    i = i +1\n",
    "print(\"Done\")"
   ]
  },
  {
   "cell_type": "code",
   "execution_count": null,
   "id": "3e320f31",
   "metadata": {},
   "outputs": [],
   "source": [
    "i = 2\n",
    "while i < 25:\n",
    "    print(\"yes \" + str(i))\n",
    "    i = i +1\n",
    "print(\"Done\")\n",
    "\n"
   ]
  },
  {
   "cell_type": "code",
   "execution_count": null,
   "id": "f5b142f0",
   "metadata": {},
   "outputs": [],
   "source": [
    "i = 0\n",
    "while i <= 50:\n",
    "    print(\"Harry \" + str(i))\n",
    "    i = i +1\n",
    "print(\"Done\")"
   ]
  },
  {
   "cell_type": "code",
   "execution_count": null,
   "id": "90eabd7d",
   "metadata": {},
   "outputs": [],
   "source": [
    "list = [\"Harry\", \"Code\", \"Raza\", \"Mohsin\", \"Coder\"]\n",
    "i = 0\n",
    "while i < len(list):\n",
    "    print(list[i])\n",
    "    i = i +1"
   ]
  },
  {
   "cell_type": "code",
   "execution_count": null,
   "id": "ed0d8e0f",
   "metadata": {},
   "outputs": [],
   "source": [
    "l = [\"Mohsin \", \"Raza \", \"Ali \", \"Ahmad \", \"Ali \", \"Raza \"]\n",
    "i=0\n",
    "for item in l:\n",
    "    print(item + str(i))\n",
    "    i = i+1"
   ]
  },
  {
   "cell_type": "code",
   "execution_count": null,
   "id": "718fc51a",
   "metadata": {},
   "outputs": [],
   "source": [
    "l = [\"Mohsin \", \"Raza \", \"Ali \", \"Ahmad \", \"Ali \", \"Raza \"]\n",
    "for item in l:\n",
    "    print(item)"
   ]
  },
  {
   "cell_type": "code",
   "execution_count": null,
   "id": "a03f36b1",
   "metadata": {},
   "outputs": [],
   "source": [
    "#Range Function\n",
    "for i in range(40):\n",
    "    print(i)"
   ]
  },
  {
   "cell_type": "code",
   "execution_count": null,
   "id": "b4a9019c",
   "metadata": {},
   "outputs": [],
   "source": [
    "for i in range(15, 40):\n",
    "    print(i)\n",
    "print(\"Done\")"
   ]
  },
  {
   "cell_type": "code",
   "execution_count": null,
   "id": "18873adf",
   "metadata": {},
   "outputs": [],
   "source": [
    "#Else\n",
    "l = [1, 3, 4, 7, 9]\n",
    "for item in l:\n",
    "    print(item)\n",
    "else:\n",
    "    print(\"No\")"
   ]
  },
  {
   "cell_type": "code",
   "execution_count": null,
   "id": "fd708f79",
   "metadata": {},
   "outputs": [],
   "source": [
    "#Break statement\n",
    "for i in range(0, 26):\n",
    "    print(i)\n",
    "    if i == 11:\n",
    "        break\n"
   ]
  },
  {
   "cell_type": "code",
   "execution_count": null,
   "id": "b24774b2",
   "metadata": {},
   "outputs": [],
   "source": [
    "for i in range(0, 26):\n",
    "    print(i)\n",
    "    if i == 11:\n",
    "        break\n",
    "else:\n",
    "    print(\"No\")"
   ]
  },
  {
   "cell_type": "code",
   "execution_count": null,
   "id": "4e637ae9",
   "metadata": {},
   "outputs": [],
   "source": [
    "#Continue\n",
    "for i in range(0, 26):\n",
    "    print(i)\n",
    "    if i == 11:\n",
    "        continue\n",
    "else:\n",
    "    print(\"No\")"
   ]
  },
  {
   "cell_type": "code",
   "execution_count": null,
   "id": "f07a8bf1",
   "metadata": {},
   "outputs": [],
   "source": [
    "for i in range(0, 26):\n",
    "    print(\"Raza \" +str(i))\n",
    "    if i == 11:\n",
    "        continue\n",
    "else:\n",
    "    print(\"No\")"
   ]
  },
  {
   "cell_type": "code",
   "execution_count": null,
   "id": "81f0e224",
   "metadata": {},
   "outputs": [],
   "source": [
    "#Pass statement # stop  the error through with pass\n",
    " \n",
    "l = [2, 1, 4, 6, 4, 8, 9]\n",
    "for item in l:\n",
    "    pass"
   ]
  },
  {
   "cell_type": "code",
   "execution_count": 1,
   "id": "6987db1f",
   "metadata": {},
   "outputs": [
    {
     "name": "stdout",
     "output_type": "stream",
     "text": [
      "Harry is a good boy\n"
     ]
    }
   ],
   "source": [
    "i = 4\n",
    "\n",
    "def run(player):\n",
    "    pass\n",
    "\n",
    "def ouch(player):\n",
    "    pass\n",
    "\n",
    "if i>0:\n",
    "    pass\n",
    "\n",
    "while i>6:\n",
    "  pass\n",
    "\n",
    "print(\"Harry is a good boy\")"
   ]
  },
  {
   "cell_type": "code",
   "execution_count": 2,
   "id": "5f513c61",
   "metadata": {},
   "outputs": [
    {
     "name": "stdout",
     "output_type": "stream",
     "text": [
      "Enter the number: 55\n",
      "55X1=55\n",
      "55X2=110\n",
      "55X3=165\n",
      "55X4=220\n",
      "55X5=275\n",
      "55X6=330\n",
      "55X7=385\n",
      "55X8=440\n",
      "55X9=495\n",
      "55X10=550\n"
     ]
    }
   ],
   "source": [
    "#PRACTICE SET\n",
    "num = int(input(\"Enter the number: \"))\n",
    "for i in range(1, 11):\n",
    "    print(str(num) + \"X\" + str(i) + \"=\" + str(num*i))"
   ]
  },
  {
   "cell_type": "code",
   "execution_count": 3,
   "id": "532b0ad4",
   "metadata": {},
   "outputs": [
    {
     "name": "stdout",
     "output_type": "stream",
     "text": [
      "Enter the number: 10\n",
      " 10 X 1 = 10 \n",
      " 10 X 2 = 20 \n",
      " 10 X 3 = 30 \n",
      " 10 X 4 = 40 \n",
      " 10 X 5 = 50 \n",
      " 10 X 6 = 60 \n",
      " 10 X 7 = 70 \n",
      " 10 X 8 = 80 \n",
      " 10 X 9 = 90 \n",
      " 10 X 10 = 100 \n"
     ]
    }
   ],
   "source": [
    "num = int(input(\"Enter the number: \"))\n",
    "for i in range(1, 11):\n",
    "     print(f\" {num} X {i} = {num*i} \")"
   ]
  },
  {
   "cell_type": "code",
   "execution_count": 7,
   "id": "6132156f",
   "metadata": {},
   "outputs": [
    {
     "ename": "SyntaxError",
     "evalue": "invalid syntax (<ipython-input-7-10921c4a1055>, line 4)",
     "output_type": "error",
     "traceback": [
      "\u001b[1;36m  File \u001b[1;32m\"<ipython-input-7-10921c4a1055>\"\u001b[1;36m, line \u001b[1;32m4\u001b[0m\n\u001b[1;33m    print((num) + \"X\" + (i) \"=\" + (num*i))\u001b[0m\n\u001b[1;37m                            ^\u001b[0m\n\u001b[1;31mSyntaxError\u001b[0m\u001b[1;31m:\u001b[0m invalid syntax\n"
     ]
    }
   ],
   "source": [
    "num = input(\"Enter the number: \")\n",
    "i = 1\n",
    "while i<11:\n",
    "    print((num) + \"X\" + (i) \"=\" + (num*i))"
   ]
  },
  {
   "cell_type": "code",
   "execution_count": 8,
   "id": "f88e551d",
   "metadata": {},
   "outputs": [
    {
     "name": "stdout",
     "output_type": "stream",
     "text": [
      "Hello Sohan\n",
      "Hello Sachin\n"
     ]
    }
   ],
   "source": [
    "l1 = [\"Harry\", \"Sohan\", \"Sachin\", \"Rahul\"]\n",
    "for name in l1:\n",
    "    if name.startswith(\"S\"):\n",
    "    \n",
    "        print(\"Hello \"+ name)"
   ]
  },
  {
   "cell_type": "code",
   "execution_count": null,
   "id": "6f6b7824",
   "metadata": {},
   "outputs": [],
   "source": []
  }
 ],
 "metadata": {
  "kernelspec": {
   "display_name": "Python 3",
   "language": "python",
   "name": "python3"
  },
  "language_info": {
   "codemirror_mode": {
    "name": "ipython",
    "version": 3
   },
   "file_extension": ".py",
   "mimetype": "text/x-python",
   "name": "python",
   "nbconvert_exporter": "python",
   "pygments_lexer": "ipython3",
   "version": "3.8.8"
  }
 },
 "nbformat": 4,
 "nbformat_minor": 5
}
