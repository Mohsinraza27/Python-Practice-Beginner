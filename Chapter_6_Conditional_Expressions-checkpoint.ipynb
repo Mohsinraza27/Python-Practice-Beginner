{
 "cells": [
  {
   "cell_type": "code",
   "execution_count": null,
   "id": "cd955d87",
   "metadata": {},
   "outputs": [],
   "source": [
    "# if (condition 1):\n",
    "#    print(\"Yes\")     IF CONDITION 1 IS TRUE\n",
    "#elif (condition 2):\n",
    "#    print(\"No\")      IF CONDITION 2 IS TRUE\n",
    "#else:\n",
    "#    print(\"Maybe\")   OTHERWISE"
   ]
  },
  {
   "cell_type": "code",
   "execution_count": 5,
   "id": "fc05d787",
   "metadata": {},
   "outputs": [
    {
     "name": "stdout",
     "output_type": "stream",
     "text": [
      "Greater\n",
      "lesser\n",
      "Equal\n"
     ]
    }
   ],
   "source": [
    "a = 22\n",
    "if (a > 9):\n",
    "    print(\"Greater\")\n",
    "else:\n",
    "    print(\"lesser\")\n",
    "    \n",
    "a = 6\n",
    "if (a > 9):\n",
    "    print(\"Greater\")\n",
    "else:\n",
    "    print(\"lesser\")\n",
    "    \n",
    "a = 9\n",
    "if (a > 9):\n",
    "    print(\"Greater\")\n",
    "elif (a >= 9):\n",
    "    print(\"Equal\")\n",
    "else:\n",
    "    print(\"lesser\")"
   ]
  },
  {
   "cell_type": "code",
   "execution_count": 7,
   "id": "80e35cf2",
   "metadata": {},
   "outputs": [
    {
     "name": "stdout",
     "output_type": "stream",
     "text": [
      "Enter your Age: 23\n",
      "Yes\n",
      "Enter your Age: 14\n",
      "No\n"
     ]
    }
   ],
   "source": [
    "age = int(input(\"Enter your Age: \"))\n",
    "if (age >= 18):\n",
    "    print(\"Yes\")\n",
    "else:\n",
    "    print(\"No\")\n",
    "    \n",
    "age = int(input(\"Enter your Age: \"))\n",
    "if (age >= 18):\n",
    "    print(\"Yes\")\n",
    "else:\n",
    "    print(\"No\")"
   ]
  },
  {
   "cell_type": "code",
   "execution_count": 16,
   "id": "7a8d89f2",
   "metadata": {},
   "outputs": [
    {
     "name": "stdout",
     "output_type": "stream",
     "text": [
      "You are selected\n",
      "Try next Time\n",
      "you are not selected\n",
      "You are selected\n",
      "Try next Time\n"
     ]
    }
   ],
   "source": [
    "x = 23\n",
    "if (45 > x > 20):\n",
    "    print(\"You are selected\")\n",
    "elif (x < 20):\n",
    "    print(\"you are not selected\")\n",
    "else:\n",
    "    print(\"Try next Time\")\n",
    "    \n",
    "x = 46\n",
    "if (45 > x > 20):\n",
    "    print(\"You are selected\")\n",
    "elif (x < 20):\n",
    "    print(\"you are not selected\")\n",
    "else:\n",
    "    print(\"Try next Time\")\n",
    "    \n",
    "x = 20\n",
    "if (45 <= x >= 20):\n",
    "    print(\"You are selected\")\n",
    "elif (x <= 20):\n",
    "    print(\"you are not selected\")\n",
    "else:\n",
    "    print(\"Try next Time\")\n",
    "    \n",
    "a = 25\n",
    "if (a == 25):\n",
    "    print(\"You are selected\")\n",
    "else:\n",
    "    print(\"Try next Time\")\n",
    "\n",
    "a = 28\n",
    "if (a == 25):\n",
    "    print(\"You are selected\")\n",
    "else:\n",
    "    print(\"Try next Time\")"
   ]
  },
  {
   "cell_type": "code",
   "execution_count": 20,
   "id": "05f4e489",
   "metadata": {},
   "outputs": [
    {
     "name": "stdout",
     "output_type": "stream",
     "text": [
      "No\n",
      "Yes\n",
      "No\n"
     ]
    }
   ],
   "source": [
    "b = True\n",
    "c = False               #If b and c one condition is True and False then print \"No\"\n",
    "if (b and c):\n",
    "    print(\"Yes\")\n",
    "else:\n",
    "    print(\"No\")\n",
    "\n",
    "b = True\n",
    "c = True\n",
    "if (b and c):\n",
    "    print(\"Yes\")         #If b and c one condition is True and True then print \"yes\"\n",
    "else:\n",
    "    print(\"No\")\n",
    "\n",
    "b = False\n",
    "c = False\n",
    "if (b and c):\n",
    "    print(\"Yes\")         #If b and c one condition is False and False then print \"No\"\n",
    "else:\n",
    "    print(\"No\")\n",
    "    \n",
    "    "
   ]
  },
  {
   "cell_type": "code",
   "execution_count": 23,
   "id": "ceaddb32",
   "metadata": {},
   "outputs": [
    {
     "name": "stdout",
     "output_type": "stream",
     "text": [
      "Yes\n",
      "No\n",
      "Yes\n"
     ]
    }
   ],
   "source": [
    "b = True\n",
    "c = False\n",
    "if (b or c):\n",
    "    print(\"Yes\")          #If b and c one condition is True or False then print \"yes\"\n",
    "else:\n",
    "    print(\"No\")\n",
    "\n",
    "b = False\n",
    "c = False\n",
    "if (b or c):\n",
    "    print(\"Yes\")          #If b and c one condition is False or False then print \"No\"      \n",
    "else:\n",
    "    print(\"No\")\n",
    "    \n",
    "b = True\n",
    "c = True\n",
    "if (b or c):\n",
    "    print(\"Yes\")          #If b and c one condition is True or True then print \"yes\"\n",
    "else:\n",
    "    print(\"No\")    "
   ]
  },
  {
   "cell_type": "code",
   "execution_count": 27,
   "id": "668dd737",
   "metadata": {},
   "outputs": [
    {
     "name": "stdout",
     "output_type": "stream",
     "text": [
      "Yes\n",
      "No\n"
     ]
    }
   ],
   "source": [
    "b = True\n",
    "c = False\n",
    "if (not c):\n",
    "    print(\"Yes\")          #If b and c one condition is \"not c\" then print \"yes\"\n",
    "else:\n",
    "    print(\"No\")\n",
    "    \n",
    "b = True\n",
    "c = False\n",
    "if (not b):\n",
    "    print(\"Yes\")          #If b and c one condition is \"not b\" then print \"No\"\n",
    "else:\n",
    "    print(\"No\")    "
   ]
  },
  {
   "cell_type": "code",
   "execution_count": 33,
   "id": "0fd5bafe",
   "metadata": {},
   "outputs": [
    {
     "name": "stdout",
     "output_type": "stream",
     "text": [
      "Yes\n",
      "No\n",
      "Yes\n",
      "No\n"
     ]
    }
   ],
   "source": [
    "#Important Note\n",
    "#is and in\n",
    "a = None\n",
    "if (a is None):\n",
    "    print(\"Yes\")\n",
    "else:\n",
    "    print(\"No\")\n",
    "    \n",
    "a = 5\n",
    "if (a is None):\n",
    "    print(\"Yes\")\n",
    "else:\n",
    "    print(\"No\")    \n",
    "    \n",
    "a = [45, 56, 6]\n",
    "if(45 in a):\n",
    "    print(\"Yes\")\n",
    "else:\n",
    "    print(\"No\")\n",
    "    \n",
    "a = [45, 56, 6]\n",
    "if(55 in a):\n",
    "    print(\"Yes\")\n",
    "else:\n",
    "   print(\"No\")    "
   ]
  },
  {
   "cell_type": "code",
   "execution_count": 35,
   "id": "56762482",
   "metadata": {},
   "outputs": [
    {
     "name": "stdout",
     "output_type": "stream",
     "text": [
      "Enter the num1: 12\n",
      "Enter the num2: 34\n",
      "Enter the num3: 67\n",
      "Enter the num4: 34\n",
      "67 Is greatest\n"
     ]
    }
   ],
   "source": [
    "#PRACICE SET\n",
    "#PR 01\n",
    "num1= int(input(\"Enter the num1: \"))\n",
    "num2= int(input(\"Enter the num2: \"))\n",
    "num3= int(input(\"Enter the num3: \"))\n",
    "num4= int(input(\"Enter the num4: \"))\n",
    "\n",
    "if (num1>num3):\n",
    "    f1 = num1\n",
    "else:\n",
    "    f1 = num3\n",
    "if (num2>num4):\n",
    "    f2 = num2\n",
    "else:\n",
    "    f2 = num4\n",
    "\n",
    "if (f1>f2):\n",
    "    print(str(f1) + \" Is greatest\")\n",
    "else: \n",
    "    print(str(f2) + \"Is greatest\")"
   ]
  },
  {
   "cell_type": "code",
   "execution_count": 1,
   "id": "f5e35ea8",
   "metadata": {},
   "outputs": [
    {
     "name": "stdout",
     "output_type": "stream",
     "text": [
      "Enter your sub1 marks: 32\n",
      "Enter your sub2 marks: 22\n",
      "Enter your sub3 marks: 35\n",
      "You are 'Fail' due to less marks\n",
      "Enter your sub1 marks: 35\n",
      "Enter your sub2 marks: 45\n",
      "Enter your sub3 marks: 38\n",
      "You are 'Fail' due to less marks of total percentage\n",
      "Enter your sub1 marks: 44\n",
      "Enter your sub2 marks: 67\n",
      "Enter your sub3 marks: 79\n",
      "Conratulations! You are pass\n"
     ]
    }
   ],
   "source": [
    "#PR 02\n",
    "sub1 = int(input(\"Enter your sub1 marks: \"))\n",
    "sub2 = int(input(\"Enter your sub2 marks: \"))\n",
    "sub3 = int(input(\"Enter your sub3 marks: \"))\n",
    "\n",
    "if (sub1<33 or sub2<33 or sub3<33):\n",
    "    print(\"You are 'Fail' due to less marks\")\n",
    "elif (sub1+sub2+sub3)/3<40:\n",
    "    print(\"You are 'Fail' due to less marks of total percentage\")\n",
    "else:\n",
    "    print(\"Conratulations! You are pass\")\n",
    "\n",
    "#02\n",
    "sub1 = int(input(\"Enter your sub1 marks: \"))\n",
    "sub2 = int(input(\"Enter your sub2 marks: \"))\n",
    "sub3 = int(input(\"Enter your sub3 marks: \"))\n",
    "\n",
    "if (sub1<33 or sub2<33 or sub3<33):\n",
    "    print(\"You are 'Fail' due to less marks\")\n",
    "elif (sub1+sub2+sub3)/3<40:\n",
    "    print(\"You are 'Fail' due to less marks of total percentage\")\n",
    "else:\n",
    "    print(\"Conratulations! You are pass\")\n",
    "\n",
    "#03\n",
    "sub1 = int(input(\"Enter your sub1 marks: \"))\n",
    "sub2 = int(input(\"Enter your sub2 marks: \"))\n",
    "sub3 = int(input(\"Enter your sub3 marks: \"))\n",
    "\n",
    "if (sub1<33 or sub2<33 or sub3<33):\n",
    "    print(\"You are 'Fail' due to less marks\")\n",
    "elif (sub1+sub2+sub3)/3 <40:\n",
    "    print(\"You are 'Fail' due to less marks of total percentage\")\n",
    "else:\n",
    "    print(\"Conratulations! You are pass\")"
   ]
  },
  {
   "cell_type": "code",
   "execution_count": 3,
   "id": "2c10d5c4",
   "metadata": {},
   "outputs": [
    {
     "name": "stdout",
     "output_type": "stream",
     "text": [
      "Enter the text\n",
      "click this link and make a lot of money  by subscribe this!\n",
      "This text is spam\n",
      "Enter the text\n",
      "Nice video brother\n",
      "This text is not spam\n"
     ]
    }
   ],
   "source": [
    "#PR 03\n",
    "text = input(\"Enter the text\\n\")\n",
    "\n",
    "if(\"make a lot of money\" in text):\n",
    "    spam = True\n",
    "elif(\"buy now\" in text):\n",
    "    spam = True\n",
    "elif(\"click this\" in text):\n",
    "    spam = True\n",
    "elif(\"subscribe this\" in text):\n",
    "    spam = True\n",
    "else:\n",
    "    spam = False\n",
    "\n",
    "if(spam):\n",
    "    print(\"This text is spam\")\n",
    "else:\n",
    "    print(\"This text is not spam\")\n",
    "\n",
    "#02\n",
    "text = input(\"Enter the text\\n\")\n",
    "\n",
    "if(\"make a lot of money\" in text):\n",
    "    spam = True\n",
    "elif(\"buy now\" in text):\n",
    "    spam = True\n",
    "elif(\"click this\" in text):\n",
    "    spam = True\n",
    "elif(\"subscribe this\" in text):\n",
    "    spam = True\n",
    "else:\n",
    "    spam = False\n",
    "\n",
    "if(spam):\n",
    "    print(\"This text is spam\")\n",
    "else:\n",
    "    print(\"This text is not spam\")"
   ]
  },
  {
   "cell_type": "code",
   "execution_count": 1,
   "id": "29f0de9e",
   "metadata": {},
   "outputs": [
    {
     "name": "stdout",
     "output_type": "stream",
     "text": [
      "Enter your name: Mohsin\n",
      "Your name is less than '10 characters'\n",
      "Enter your name: Mohsin Raza\n",
      "your name is not less '10 characters'\n"
     ]
    }
   ],
   "source": [
    "a = input(\"Enter your name: \")\n",
    "\n",
    "if (len(a)<=10):\n",
    "    print(\"Your name is less than '10 characters'\")\n",
    "else:\n",
    "    print(\"your name is not less '10 characters'\")\n",
    "    \n",
    "#02\n",
    "a = input(\"Enter your name: \")\n",
    "\n",
    "if (len(a)<=10):\n",
    "    print(\"Your name is less than '10 characters'\")\n",
    "else:\n",
    "    print(\"your name is not less '10 characters'\")"
   ]
  },
  {
   "cell_type": "code",
   "execution_count": 5,
   "id": "1b5f2083",
   "metadata": {},
   "outputs": [
    {
     "name": "stdout",
     "output_type": "stream",
     "text": [
      "Enter your name: Mohsin\n",
      "Your name is in list\n",
      "Enter your name: raza\n",
      "Your name is not in the list\n"
     ]
    }
   ],
   "source": [
    "#PR 05\n",
    "a = [\"Mohsin\", \"Raza\", \"Abdullah\", \"Ali\", \"Hamza\", \"Hamid\"]\n",
    "b = input(\"Enter your name: \")\n",
    "if (b in a):\n",
    "    print(\"Your name is in list\")   \n",
    "else:\n",
    "    print(\"Your name is not in the list\")\n",
    "    \n",
    "#02\n",
    "a = [\"Mohsin\", \"Raza\", \"Abdullah\", \"Ali\", \"Hamza\", \"Hamid\"]\n",
    "b = input(\"Enter your name: \")\n",
    "if (b in a):\n",
    "    print(\"Your name is in list\")   \n",
    "else:\n",
    "    print(\"Your name is not in the list\")"
   ]
  },
  {
   "cell_type": "code",
   "execution_count": null,
   "id": "bad9548a",
   "metadata": {},
   "outputs": [],
   "source": []
  }
 ],
 "metadata": {
  "kernelspec": {
   "display_name": "Python 3",
   "language": "python",
   "name": "python3"
  },
  "language_info": {
   "codemirror_mode": {
    "name": "ipython",
    "version": 3
   },
   "file_extension": ".py",
   "mimetype": "text/x-python",
   "name": "python",
   "nbconvert_exporter": "python",
   "pygments_lexer": "ipython3",
   "version": "3.8.8"
  }
 },
 "nbformat": 4,
 "nbformat_minor": 5
}
