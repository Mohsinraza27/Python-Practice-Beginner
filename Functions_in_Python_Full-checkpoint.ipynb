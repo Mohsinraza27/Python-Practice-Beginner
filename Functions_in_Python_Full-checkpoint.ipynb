{
 "cells": [
  {
   "cell_type": "markdown",
   "id": "829c767c",
   "metadata": {},
   "source": [
    "FUNCTIONS\n"
   ]
  },
  {
   "cell_type": "markdown",
   "id": "519691bd",
   "metadata": {},
   "source": [
    "# Built in Functions\n"
   ]
  },
  {
   "cell_type": "code",
   "execution_count": 2,
   "id": "81d574c0",
   "metadata": {},
   "outputs": [
    {
     "data": {
      "text/plain": [
       "<function abs(x, /)>"
      ]
     },
     "execution_count": 2,
     "metadata": {},
     "output_type": "execute_result"
    }
   ],
   "source": [
    "abs                             # abs()"
   ]
  },
  {
   "cell_type": "code",
   "execution_count": 4,
   "id": "79dd76ff",
   "metadata": {},
   "outputs": [
    {
     "data": {
      "text/plain": [
       "13"
      ]
     },
     "execution_count": 4,
     "metadata": {},
     "output_type": "execute_result"
    }
   ],
   "source": [
    "abs(13)"
   ]
  },
  {
   "cell_type": "code",
   "execution_count": 6,
   "id": "d664794d",
   "metadata": {},
   "outputs": [
    {
     "ename": "TypeError",
     "evalue": "bad operand type for abs(): 'range'",
     "output_type": "error",
     "traceback": [
      "\u001b[1;31m---------------------------------------------------------------------------\u001b[0m",
      "\u001b[1;31mTypeError\u001b[0m                                 Traceback (most recent call last)",
      "\u001b[1;32m<ipython-input-6-f1377cbc5b9e>\u001b[0m in \u001b[0;36m<module>\u001b[1;34m\u001b[0m\n\u001b[1;32m----> 1\u001b[1;33m \u001b[0mabs\u001b[0m\u001b[1;33m(\u001b[0m\u001b[0mrange\u001b[0m\u001b[1;33m(\u001b[0m\u001b[1;36m2\u001b[0m\u001b[1;33m,\u001b[0m\u001b[1;36m18\u001b[0m\u001b[1;33m)\u001b[0m\u001b[1;33m)\u001b[0m\u001b[1;33m\u001b[0m\u001b[1;33m\u001b[0m\u001b[0m\n\u001b[0m",
      "\u001b[1;31mTypeError\u001b[0m: bad operand type for abs(): 'range'"
     ]
    }
   ],
   "source": [
    "abs(range(2,18))"
   ]
  },
  {
   "cell_type": "code",
   "execution_count": 3,
   "id": "bff31169",
   "metadata": {},
   "outputs": [
    {
     "data": {
      "text/plain": [
       "<function all(iterable, /)>"
      ]
     },
     "execution_count": 3,
     "metadata": {},
     "output_type": "execute_result"
    }
   ],
   "source": [
    "all                             # all()"
   ]
  },
  {
   "cell_type": "code",
   "execution_count": 8,
   "id": "4ff4cb15",
   "metadata": {},
   "outputs": [
    {
     "data": {
      "text/plain": [
       "True"
      ]
     },
     "execution_count": 8,
     "metadata": {},
     "output_type": "execute_result"
    }
   ],
   "source": [
    "all('34')"
   ]
  },
  {
   "cell_type": "code",
   "execution_count": 9,
   "id": "87696a92",
   "metadata": {},
   "outputs": [
    {
     "data": {
      "text/plain": [
       "True"
      ]
     },
     "execution_count": 9,
     "metadata": {},
     "output_type": "execute_result"
    }
   ],
   "source": [
    "all(\"Python\")"
   ]
  },
  {
   "cell_type": "code",
   "execution_count": 10,
   "id": "95e7b8ba",
   "metadata": {},
   "outputs": [
    {
     "ename": "TypeError",
     "evalue": "'int' object is not iterable",
     "output_type": "error",
     "traceback": [
      "\u001b[1;31m---------------------------------------------------------------------------\u001b[0m",
      "\u001b[1;31mTypeError\u001b[0m                                 Traceback (most recent call last)",
      "\u001b[1;32m<ipython-input-10-13fb2e865b9f>\u001b[0m in \u001b[0;36m<module>\u001b[1;34m\u001b[0m\n\u001b[1;32m----> 1\u001b[1;33m \u001b[0mall\u001b[0m\u001b[1;33m(\u001b[0m\u001b[1;36m3\u001b[0m\u001b[1;33m)\u001b[0m\u001b[1;33m\u001b[0m\u001b[1;33m\u001b[0m\u001b[0m\n\u001b[0m",
      "\u001b[1;31mTypeError\u001b[0m: 'int' object is not iterable"
     ]
    }
   ],
   "source": [
    "all(3)"
   ]
  },
  {
   "cell_type": "code",
   "execution_count": 4,
   "id": "31758e45",
   "metadata": {},
   "outputs": [
    {
     "data": {
      "text/plain": [
       "<function any(iterable, /)>"
      ]
     },
     "execution_count": 4,
     "metadata": {},
     "output_type": "execute_result"
    }
   ],
   "source": [
    "any                             # any()"
   ]
  },
  {
   "cell_type": "code",
   "execution_count": 12,
   "id": "a8571e8d",
   "metadata": {},
   "outputs": [
    {
     "data": {
      "text/plain": [
       "True"
      ]
     },
     "execution_count": 12,
     "metadata": {},
     "output_type": "execute_result"
    }
   ],
   "source": [
    "any('func')"
   ]
  },
  {
   "cell_type": "code",
   "execution_count": 13,
   "id": "a5566069",
   "metadata": {},
   "outputs": [
    {
     "data": {
      "text/plain": [
       "True"
      ]
     },
     "execution_count": 13,
     "metadata": {},
     "output_type": "execute_result"
    }
   ],
   "source": [
    "any(\"cell\")"
   ]
  },
  {
   "cell_type": "code",
   "execution_count": 5,
   "id": "ec552a3e",
   "metadata": {},
   "outputs": [
    {
     "data": {
      "text/plain": [
       "<function ascii(obj, /)>"
      ]
     },
     "execution_count": 5,
     "metadata": {},
     "output_type": "execute_result"
    }
   ],
   "source": [
    "ascii                           # ascii()"
   ]
  },
  {
   "cell_type": "code",
   "execution_count": null,
   "id": "063c6e8a",
   "metadata": {},
   "outputs": [],
   "source": []
  },
  {
   "cell_type": "code",
   "execution_count": 6,
   "id": "2f7f5fd4",
   "metadata": {},
   "outputs": [
    {
     "data": {
      "text/plain": [
       "<function bin(number, /)>"
      ]
     },
     "execution_count": 6,
     "metadata": {},
     "output_type": "execute_result"
    }
   ],
   "source": [
    "bin                             # bin()"
   ]
  },
  {
   "cell_type": "code",
   "execution_count": null,
   "id": "c977e9bf",
   "metadata": {},
   "outputs": [],
   "source": []
  },
  {
   "cell_type": "code",
   "execution_count": 7,
   "id": "0f6e51e9",
   "metadata": {},
   "outputs": [
    {
     "data": {
      "text/plain": [
       "bool"
      ]
     },
     "execution_count": 7,
     "metadata": {},
     "output_type": "execute_result"
    }
   ],
   "source": [
    "bool                            # bool()"
   ]
  },
  {
   "cell_type": "code",
   "execution_count": null,
   "id": "ab525376",
   "metadata": {},
   "outputs": [],
   "source": []
  },
  {
   "cell_type": "code",
   "execution_count": 8,
   "id": "3c16a43d",
   "metadata": {},
   "outputs": [
    {
     "data": {
      "text/plain": [
       "bytearray"
      ]
     },
     "execution_count": 8,
     "metadata": {},
     "output_type": "execute_result"
    }
   ],
   "source": [
    "bytearray                       # bytearray()"
   ]
  },
  {
   "cell_type": "code",
   "execution_count": null,
   "id": "cd3d35f2",
   "metadata": {},
   "outputs": [],
   "source": []
  },
  {
   "cell_type": "code",
   "execution_count": 9,
   "id": "d6cd86f2",
   "metadata": {},
   "outputs": [
    {
     "data": {
      "text/plain": [
       "bytes"
      ]
     },
     "execution_count": 9,
     "metadata": {},
     "output_type": "execute_result"
    }
   ],
   "source": [
    "bytes                           # bytes()"
   ]
  },
  {
   "cell_type": "code",
   "execution_count": null,
   "id": "47a5ae83",
   "metadata": {},
   "outputs": [],
   "source": []
  },
  {
   "cell_type": "code",
   "execution_count": 10,
   "id": "e776511b",
   "metadata": {},
   "outputs": [
    {
     "data": {
      "text/plain": [
       "<function callable(obj, /)>"
      ]
     },
     "execution_count": 10,
     "metadata": {},
     "output_type": "execute_result"
    }
   ],
   "source": [
    "callable                        # callable()"
   ]
  },
  {
   "cell_type": "code",
   "execution_count": 11,
   "id": "c3a07bf9",
   "metadata": {},
   "outputs": [
    {
     "data": {
      "text/plain": [
       "<function chr(i, /)>"
      ]
     },
     "execution_count": 11,
     "metadata": {},
     "output_type": "execute_result"
    }
   ],
   "source": [
    "chr                             # chr()"
   ]
  },
  {
   "cell_type": "code",
   "execution_count": 12,
   "id": "6579b1bd",
   "metadata": {},
   "outputs": [
    {
     "data": {
      "text/plain": [
       "classmethod"
      ]
     },
     "execution_count": 12,
     "metadata": {},
     "output_type": "execute_result"
    }
   ],
   "source": [
    "classmethod                     # classmethod()"
   ]
  },
  {
   "cell_type": "code",
   "execution_count": 13,
   "id": "0167c0a0",
   "metadata": {},
   "outputs": [
    {
     "data": {
      "text/plain": [
       "<function compile(source, filename, mode, flags=0, dont_inherit=False, optimize=-1, *, _feature_version=-1)>"
      ]
     },
     "execution_count": 13,
     "metadata": {},
     "output_type": "execute_result"
    }
   ],
   "source": [
    "compile                         # compile()"
   ]
  },
  {
   "cell_type": "code",
   "execution_count": 14,
   "id": "9ecd5ddf",
   "metadata": {},
   "outputs": [
    {
     "data": {
      "text/plain": [
       "complex"
      ]
     },
     "execution_count": 14,
     "metadata": {},
     "output_type": "execute_result"
    }
   ],
   "source": [
    "complex                         # complex()"
   ]
  },
  {
   "cell_type": "code",
   "execution_count": 15,
   "id": "1a980e97",
   "metadata": {},
   "outputs": [
    {
     "data": {
      "text/plain": [
       "<function delattr(obj, name, /)>"
      ]
     },
     "execution_count": 15,
     "metadata": {},
     "output_type": "execute_result"
    }
   ],
   "source": [
    "delattr                         # delattr()"
   ]
  },
  {
   "cell_type": "code",
   "execution_count": 16,
   "id": "0458b9f2",
   "metadata": {},
   "outputs": [
    {
     "data": {
      "text/plain": [
       "dict"
      ]
     },
     "execution_count": 16,
     "metadata": {},
     "output_type": "execute_result"
    }
   ],
   "source": [
    "dict                            # dict()"
   ]
  },
  {
   "cell_type": "code",
   "execution_count": 17,
   "id": "9a3bc20f",
   "metadata": {},
   "outputs": [
    {
     "data": {
      "text/plain": [
       "<function dir>"
      ]
     },
     "execution_count": 17,
     "metadata": {},
     "output_type": "execute_result"
    }
   ],
   "source": [
    "dir                             # dir()"
   ]
  },
  {
   "cell_type": "code",
   "execution_count": 18,
   "id": "150faa7a",
   "metadata": {},
   "outputs": [
    {
     "data": {
      "text/plain": [
       "<function divmod(x, y, /)>"
      ]
     },
     "execution_count": 18,
     "metadata": {},
     "output_type": "execute_result"
    }
   ],
   "source": [
    "divmod                          # divmod()"
   ]
  },
  {
   "cell_type": "code",
   "execution_count": 19,
   "id": "bde24391",
   "metadata": {},
   "outputs": [
    {
     "data": {
      "text/plain": [
       "enumerate"
      ]
     },
     "execution_count": 19,
     "metadata": {},
     "output_type": "execute_result"
    }
   ],
   "source": [
    "enumerate                       # enumerate()"
   ]
  },
  {
   "cell_type": "code",
   "execution_count": 20,
   "id": "2acfb19d",
   "metadata": {},
   "outputs": [
    {
     "data": {
      "text/plain": [
       "<function eval(source, globals=None, locals=None, /)>"
      ]
     },
     "execution_count": 20,
     "metadata": {},
     "output_type": "execute_result"
    }
   ],
   "source": [
    "eval                            # eval()"
   ]
  },
  {
   "cell_type": "code",
   "execution_count": 21,
   "id": "6d61e648",
   "metadata": {},
   "outputs": [
    {
     "data": {
      "text/plain": [
       "<function exec(source, globals=None, locals=None, /)>"
      ]
     },
     "execution_count": 21,
     "metadata": {},
     "output_type": "execute_result"
    }
   ],
   "source": [
    "exec                            # exec()"
   ]
  },
  {
   "cell_type": "code",
   "execution_count": 22,
   "id": "801225a8",
   "metadata": {},
   "outputs": [
    {
     "data": {
      "text/plain": [
       "filter"
      ]
     },
     "execution_count": 22,
     "metadata": {},
     "output_type": "execute_result"
    }
   ],
   "source": [
    "filter                          # filter()"
   ]
  },
  {
   "cell_type": "code",
   "execution_count": 23,
   "id": "fc05e0de",
   "metadata": {},
   "outputs": [
    {
     "data": {
      "text/plain": [
       "float"
      ]
     },
     "execution_count": 23,
     "metadata": {},
     "output_type": "execute_result"
    }
   ],
   "source": [
    "float                           # float()"
   ]
  },
  {
   "cell_type": "code",
   "execution_count": 24,
   "id": "72f505aa",
   "metadata": {},
   "outputs": [
    {
     "data": {
      "text/plain": [
       "<function format(value, format_spec='', /)>"
      ]
     },
     "execution_count": 24,
     "metadata": {},
     "output_type": "execute_result"
    }
   ],
   "source": [
    "format                          # format()"
   ]
  },
  {
   "cell_type": "code",
   "execution_count": 25,
   "id": "3b5a0666",
   "metadata": {},
   "outputs": [
    {
     "data": {
      "text/plain": [
       "frozenset"
      ]
     },
     "execution_count": 25,
     "metadata": {},
     "output_type": "execute_result"
    }
   ],
   "source": [
    "frozenset                       # frozenset()"
   ]
  },
  {
   "cell_type": "code",
   "execution_count": 26,
   "id": "de2b7b4d",
   "metadata": {},
   "outputs": [
    {
     "data": {
      "text/plain": [
       "<function getattr>"
      ]
     },
     "execution_count": 26,
     "metadata": {},
     "output_type": "execute_result"
    }
   ],
   "source": [
    "getattr                         # getattr()"
   ]
  },
  {
   "cell_type": "code",
   "execution_count": 32,
   "id": "de4f567c",
   "metadata": {},
   "outputs": [
    {
     "data": {
      "text/plain": [
       "<function globals()>"
      ]
     },
     "execution_count": 32,
     "metadata": {},
     "output_type": "execute_result"
    }
   ],
   "source": [
    "globals                         # globals()"
   ]
  },
  {
   "cell_type": "code",
   "execution_count": 33,
   "id": "546c0554",
   "metadata": {},
   "outputs": [
    {
     "data": {
      "text/plain": [
       "<function hasattr(obj, name, /)>"
      ]
     },
     "execution_count": 33,
     "metadata": {},
     "output_type": "execute_result"
    }
   ],
   "source": [
    "hasattr                         # hasattr()"
   ]
  },
  {
   "cell_type": "code",
   "execution_count": 34,
   "id": "b981d685",
   "metadata": {},
   "outputs": [
    {
     "data": {
      "text/plain": [
       "<function hash(obj, /)>"
      ]
     },
     "execution_count": 34,
     "metadata": {},
     "output_type": "execute_result"
    }
   ],
   "source": [
    "hash                            # hash()"
   ]
  },
  {
   "cell_type": "code",
   "execution_count": 35,
   "id": "4c18f386",
   "metadata": {},
   "outputs": [
    {
     "data": {
      "text/plain": [
       "Type help() for interactive help, or help(object) for help about object."
      ]
     },
     "execution_count": 35,
     "metadata": {},
     "output_type": "execute_result"
    }
   ],
   "source": [
    "help                            # help()"
   ]
  },
  {
   "cell_type": "code",
   "execution_count": 36,
   "id": "0ce0ee4b",
   "metadata": {},
   "outputs": [
    {
     "data": {
      "text/plain": [
       "<function hex(number, /)>"
      ]
     },
     "execution_count": 36,
     "metadata": {},
     "output_type": "execute_result"
    }
   ],
   "source": [
    "hex                             # hex()"
   ]
  },
  {
   "cell_type": "code",
   "execution_count": 37,
   "id": "4036e1b7",
   "metadata": {},
   "outputs": [
    {
     "data": {
      "text/plain": [
       "<function id(obj, /)>"
      ]
     },
     "execution_count": 37,
     "metadata": {},
     "output_type": "execute_result"
    }
   ],
   "source": [
    "id                              # id()"
   ]
  },
  {
   "cell_type": "code",
   "execution_count": 38,
   "id": "7bba2ec8",
   "metadata": {},
   "outputs": [
    {
     "data": {
      "text/plain": [
       "<bound method Kernel.raw_input of <ipykernel.ipkernel.IPythonKernel object at 0x000001C420611910>>"
      ]
     },
     "execution_count": 38,
     "metadata": {},
     "output_type": "execute_result"
    }
   ],
   "source": [
    "input                           # input()"
   ]
  },
  {
   "cell_type": "code",
   "execution_count": 39,
   "id": "150b863a",
   "metadata": {},
   "outputs": [
    {
     "data": {
      "text/plain": [
       "int"
      ]
     },
     "execution_count": 39,
     "metadata": {},
     "output_type": "execute_result"
    }
   ],
   "source": [
    "int                             # int()"
   ]
  },
  {
   "cell_type": "code",
   "execution_count": 40,
   "id": "abfc195c",
   "metadata": {},
   "outputs": [
    {
     "data": {
      "text/plain": [
       "<function isinstance(obj, class_or_tuple, /)>"
      ]
     },
     "execution_count": 40,
     "metadata": {},
     "output_type": "execute_result"
    }
   ],
   "source": [
    "isinstance                      # isimstance()"
   ]
  },
  {
   "cell_type": "code",
   "execution_count": 41,
   "id": "ae66983e",
   "metadata": {},
   "outputs": [
    {
     "data": {
      "text/plain": [
       "<function issubclass(cls, class_or_tuple, /)>"
      ]
     },
     "execution_count": 41,
     "metadata": {},
     "output_type": "execute_result"
    }
   ],
   "source": [
    "issubclass                      # issubclass()"
   ]
  },
  {
   "cell_type": "code",
   "execution_count": 42,
   "id": "8bdb4108",
   "metadata": {},
   "outputs": [
    {
     "data": {
      "text/plain": [
       "<function iter>"
      ]
     },
     "execution_count": 42,
     "metadata": {},
     "output_type": "execute_result"
    }
   ],
   "source": [
    "iter                            # iter()"
   ]
  },
  {
   "cell_type": "code",
   "execution_count": 77,
   "id": "fb6fd829",
   "metadata": {},
   "outputs": [
    {
     "data": {
      "text/plain": [
       "<function len(obj, /)>"
      ]
     },
     "execution_count": 77,
     "metadata": {},
     "output_type": "execute_result"
    }
   ],
   "source": [
    "len                             # len()"
   ]
  },
  {
   "cell_type": "code",
   "execution_count": 44,
   "id": "602b4859",
   "metadata": {},
   "outputs": [
    {
     "data": {
      "text/plain": [
       "list"
      ]
     },
     "execution_count": 44,
     "metadata": {},
     "output_type": "execute_result"
    }
   ],
   "source": [
    "list                            # list()"
   ]
  },
  {
   "cell_type": "code",
   "execution_count": 45,
   "id": "fafa432f",
   "metadata": {},
   "outputs": [
    {
     "data": {
      "text/plain": [
       "<function locals()>"
      ]
     },
     "execution_count": 45,
     "metadata": {},
     "output_type": "execute_result"
    }
   ],
   "source": [
    "locals                          # locals()"
   ]
  },
  {
   "cell_type": "code",
   "execution_count": 46,
   "id": "e918421b",
   "metadata": {},
   "outputs": [
    {
     "data": {
      "text/plain": [
       "map"
      ]
     },
     "execution_count": 46,
     "metadata": {},
     "output_type": "execute_result"
    }
   ],
   "source": [
    "map                             # map()"
   ]
  },
  {
   "cell_type": "code",
   "execution_count": 47,
   "id": "2c0650de",
   "metadata": {},
   "outputs": [
    {
     "data": {
      "text/plain": [
       "<function max>"
      ]
     },
     "execution_count": 47,
     "metadata": {},
     "output_type": "execute_result"
    }
   ],
   "source": [
    "max                             # max()"
   ]
  },
  {
   "cell_type": "code",
   "execution_count": 48,
   "id": "90ac0b94",
   "metadata": {},
   "outputs": [
    {
     "data": {
      "text/plain": [
       "memoryview"
      ]
     },
     "execution_count": 48,
     "metadata": {},
     "output_type": "execute_result"
    }
   ],
   "source": [
    "memoryview                      # memoryview()"
   ]
  },
  {
   "cell_type": "code",
   "execution_count": 49,
   "id": "1c098181",
   "metadata": {},
   "outputs": [
    {
     "data": {
      "text/plain": [
       "<function min>"
      ]
     },
     "execution_count": 49,
     "metadata": {},
     "output_type": "execute_result"
    }
   ],
   "source": [
    "min                             # min()"
   ]
  },
  {
   "cell_type": "code",
   "execution_count": 50,
   "id": "2e6a0693",
   "metadata": {},
   "outputs": [
    {
     "data": {
      "text/plain": [
       "<function next>"
      ]
     },
     "execution_count": 50,
     "metadata": {},
     "output_type": "execute_result"
    }
   ],
   "source": [
    "next                            # next()"
   ]
  },
  {
   "cell_type": "code",
   "execution_count": 51,
   "id": "33a41525",
   "metadata": {},
   "outputs": [
    {
     "data": {
      "text/plain": [
       "object"
      ]
     },
     "execution_count": 51,
     "metadata": {},
     "output_type": "execute_result"
    }
   ],
   "source": [
    "object                          # object()"
   ]
  },
  {
   "cell_type": "code",
   "execution_count": 52,
   "id": "60241fdf",
   "metadata": {},
   "outputs": [
    {
     "data": {
      "text/plain": [
       "<function oct(number, /)>"
      ]
     },
     "execution_count": 52,
     "metadata": {},
     "output_type": "execute_result"
    }
   ],
   "source": [
    "oct                             # oct()"
   ]
  },
  {
   "cell_type": "code",
   "execution_count": 53,
   "id": "01a082a7",
   "metadata": {},
   "outputs": [
    {
     "data": {
      "text/plain": [
       "<function io.open(file, mode='r', buffering=-1, encoding=None, errors=None, newline=None, closefd=True, opener=None)>"
      ]
     },
     "execution_count": 53,
     "metadata": {},
     "output_type": "execute_result"
    }
   ],
   "source": [
    "open                            # open()"
   ]
  },
  {
   "cell_type": "code",
   "execution_count": 54,
   "id": "708420d1",
   "metadata": {},
   "outputs": [
    {
     "data": {
      "text/plain": [
       "<function ord(c, /)>"
      ]
     },
     "execution_count": 54,
     "metadata": {},
     "output_type": "execute_result"
    }
   ],
   "source": [
    "ord                             # ord()"
   ]
  },
  {
   "cell_type": "code",
   "execution_count": 55,
   "id": "bee8ff89",
   "metadata": {},
   "outputs": [
    {
     "data": {
      "text/plain": [
       "<function pow(base, exp, mod=None)>"
      ]
     },
     "execution_count": 55,
     "metadata": {},
     "output_type": "execute_result"
    }
   ],
   "source": [
    "pow                             # pow()"
   ]
  },
  {
   "cell_type": "code",
   "execution_count": 56,
   "id": "26937c0c",
   "metadata": {},
   "outputs": [
    {
     "data": {
      "text/plain": [
       "<function print>"
      ]
     },
     "execution_count": 56,
     "metadata": {},
     "output_type": "execute_result"
    }
   ],
   "source": [
    "print                           # print()"
   ]
  },
  {
   "cell_type": "code",
   "execution_count": 57,
   "id": "d4bf88aa",
   "metadata": {},
   "outputs": [
    {
     "data": {
      "text/plain": [
       "property"
      ]
     },
     "execution_count": 57,
     "metadata": {},
     "output_type": "execute_result"
    }
   ],
   "source": [
    "property                        # property()"
   ]
  },
  {
   "cell_type": "code",
   "execution_count": 58,
   "id": "3d661b9b",
   "metadata": {},
   "outputs": [
    {
     "data": {
      "text/plain": [
       "range"
      ]
     },
     "execution_count": 58,
     "metadata": {},
     "output_type": "execute_result"
    }
   ],
   "source": [
    "range                           # range()"
   ]
  },
  {
   "cell_type": "code",
   "execution_count": 59,
   "id": "3a7a0914",
   "metadata": {},
   "outputs": [
    {
     "data": {
      "text/plain": [
       "<function repr(obj, /)>"
      ]
     },
     "execution_count": 59,
     "metadata": {},
     "output_type": "execute_result"
    }
   ],
   "source": [
    "repr                            # repr()"
   ]
  },
  {
   "cell_type": "code",
   "execution_count": 60,
   "id": "fe700446",
   "metadata": {},
   "outputs": [
    {
     "data": {
      "text/plain": [
       "reversed"
      ]
     },
     "execution_count": 60,
     "metadata": {},
     "output_type": "execute_result"
    }
   ],
   "source": [
    "reversed                        # reversed()"
   ]
  },
  {
   "cell_type": "code",
   "execution_count": 61,
   "id": "d740c930",
   "metadata": {},
   "outputs": [
    {
     "data": {
      "text/plain": [
       "<function round(number, ndigits=None)>"
      ]
     },
     "execution_count": 61,
     "metadata": {},
     "output_type": "execute_result"
    }
   ],
   "source": [
    "round                           # round()"
   ]
  },
  {
   "cell_type": "code",
   "execution_count": 62,
   "id": "88fb3516",
   "metadata": {},
   "outputs": [
    {
     "data": {
      "text/plain": [
       "set"
      ]
     },
     "execution_count": 62,
     "metadata": {},
     "output_type": "execute_result"
    }
   ],
   "source": [
    "set                             # set()"
   ]
  },
  {
   "cell_type": "code",
   "execution_count": 63,
   "id": "e27dae1a",
   "metadata": {},
   "outputs": [
    {
     "data": {
      "text/plain": [
       "<function setattr(obj, name, value, /)>"
      ]
     },
     "execution_count": 63,
     "metadata": {},
     "output_type": "execute_result"
    }
   ],
   "source": [
    "setattr                         # setattr()"
   ]
  },
  {
   "cell_type": "code",
   "execution_count": 64,
   "id": "55472fd6",
   "metadata": {},
   "outputs": [
    {
     "data": {
      "text/plain": [
       "slice"
      ]
     },
     "execution_count": 64,
     "metadata": {},
     "output_type": "execute_result"
    }
   ],
   "source": [
    "slice                           # slice()"
   ]
  },
  {
   "cell_type": "code",
   "execution_count": 65,
   "id": "09efa5ee",
   "metadata": {},
   "outputs": [
    {
     "data": {
      "text/plain": [
       "<function sorted(iterable, /, *, key=None, reverse=False)>"
      ]
     },
     "execution_count": 65,
     "metadata": {},
     "output_type": "execute_result"
    }
   ],
   "source": [
    "sorted                          # sorted()"
   ]
  },
  {
   "cell_type": "code",
   "execution_count": 66,
   "id": "4f474754",
   "metadata": {},
   "outputs": [
    {
     "data": {
      "text/plain": [
       "staticmethod"
      ]
     },
     "execution_count": 66,
     "metadata": {},
     "output_type": "execute_result"
    }
   ],
   "source": [
    "staticmethod                    # staticmethod()"
   ]
  },
  {
   "cell_type": "code",
   "execution_count": 67,
   "id": "142d5234",
   "metadata": {},
   "outputs": [
    {
     "data": {
      "text/plain": [
       "str"
      ]
     },
     "execution_count": 67,
     "metadata": {},
     "output_type": "execute_result"
    }
   ],
   "source": [
    "str                             # str()"
   ]
  },
  {
   "cell_type": "code",
   "execution_count": 68,
   "id": "44c248f5",
   "metadata": {},
   "outputs": [
    {
     "data": {
      "text/plain": [
       "<function sum(iterable, /, start=0)>"
      ]
     },
     "execution_count": 68,
     "metadata": {},
     "output_type": "execute_result"
    }
   ],
   "source": [
    "sum                             # sum()"
   ]
  },
  {
   "cell_type": "code",
   "execution_count": 69,
   "id": "a72bccb6",
   "metadata": {},
   "outputs": [
    {
     "data": {
      "text/plain": [
       "super"
      ]
     },
     "execution_count": 69,
     "metadata": {},
     "output_type": "execute_result"
    }
   ],
   "source": [
    "super                           # super()"
   ]
  },
  {
   "cell_type": "code",
   "execution_count": 70,
   "id": "f8a5921f",
   "metadata": {},
   "outputs": [
    {
     "data": {
      "text/plain": [
       "tuple"
      ]
     },
     "execution_count": 70,
     "metadata": {},
     "output_type": "execute_result"
    }
   ],
   "source": [
    "tuple                           # tuple()"
   ]
  },
  {
   "cell_type": "code",
   "execution_count": 71,
   "id": "ba42ddd8",
   "metadata": {},
   "outputs": [
    {
     "data": {
      "text/plain": [
       "type"
      ]
     },
     "execution_count": 71,
     "metadata": {},
     "output_type": "execute_result"
    }
   ],
   "source": [
    "type                            # type()"
   ]
  },
  {
   "cell_type": "code",
   "execution_count": 72,
   "id": "782043f1",
   "metadata": {},
   "outputs": [
    {
     "data": {
      "text/plain": [
       "<function vars>"
      ]
     },
     "execution_count": 72,
     "metadata": {},
     "output_type": "execute_result"
    }
   ],
   "source": [
    "vars                            # vars()"
   ]
  },
  {
   "cell_type": "code",
   "execution_count": 73,
   "id": "022d44d2",
   "metadata": {},
   "outputs": [
    {
     "data": {
      "text/plain": [
       "zip"
      ]
     },
     "execution_count": 73,
     "metadata": {},
     "output_type": "execute_result"
    }
   ],
   "source": [
    "zip                             # zip()"
   ]
  },
  {
   "cell_type": "markdown",
   "id": "264dfb7a",
   "metadata": {},
   "source": [
    "# User Defined Function"
   ]
  },
  {
   "cell_type": "markdown",
   "id": "2e486a69",
   "metadata": {},
   "source": [
    "Creating & Calling Functions"
   ]
  },
  {
   "cell_type": "code",
   "execution_count": 78,
   "id": "94abdb51",
   "metadata": {},
   "outputs": [],
   "source": [
    "def my_function():\n",
    "    print(\"Hello from a Function!\")"
   ]
  },
  {
   "cell_type": "code",
   "execution_count": 81,
   "id": "f2f05709",
   "metadata": {},
   "outputs": [
    {
     "name": "stdout",
     "output_type": "stream",
     "text": [
      "Hello from a Function!\n"
     ]
    }
   ],
   "source": [
    "my_function()"
   ]
  },
  {
   "cell_type": "markdown",
   "id": "d71f9d37",
   "metadata": {},
   "source": [
    "Information Passed to Functions"
   ]
  },
  {
   "cell_type": "code",
   "execution_count": 82,
   "id": "7199eaca",
   "metadata": {},
   "outputs": [],
   "source": [
    "def my_func(fname):\n",
    "    print(fname + \" Refsnes\")"
   ]
  },
  {
   "cell_type": "code",
   "execution_count": 83,
   "id": "e96ada45",
   "metadata": {},
   "outputs": [
    {
     "name": "stdout",
     "output_type": "stream",
     "text": [
      "Email Refsnes\n"
     ]
    }
   ],
   "source": [
    "my_func(\"Email\")"
   ]
  },
  {
   "cell_type": "code",
   "execution_count": 84,
   "id": "3a292d6e",
   "metadata": {},
   "outputs": [
    {
     "name": "stdout",
     "output_type": "stream",
     "text": [
      "Tobais Refsnes\n"
     ]
    }
   ],
   "source": [
    "my_func(\"Tobais\")"
   ]
  },
  {
   "cell_type": "code",
   "execution_count": 85,
   "id": "919c9901",
   "metadata": {},
   "outputs": [
    {
     "name": "stdout",
     "output_type": "stream",
     "text": [
      "Linus Refsnes\n"
     ]
    }
   ],
   "source": [
    "my_func(\"Linus\")"
   ]
  },
  {
   "cell_type": "markdown",
   "id": "1535557e",
   "metadata": {},
   "source": [
    "Default Parameter Value"
   ]
  },
  {
   "cell_type": "code",
   "execution_count": 87,
   "id": "df65af95",
   "metadata": {},
   "outputs": [],
   "source": [
    "def my_func1(country = \" Norway\"):\n",
    "    print(\"I am From \" + country)"
   ]
  },
  {
   "cell_type": "code",
   "execution_count": 88,
   "id": "b5071928",
   "metadata": {},
   "outputs": [
    {
     "name": "stdout",
     "output_type": "stream",
     "text": [
      "I am From Pakistan\n"
     ]
    }
   ],
   "source": [
    "my_func1(\"Pakistan\")"
   ]
  },
  {
   "cell_type": "code",
   "execution_count": 89,
   "id": "187158bb",
   "metadata": {},
   "outputs": [
    {
     "name": "stdout",
     "output_type": "stream",
     "text": [
      "I am From  Norway\n"
     ]
    }
   ],
   "source": [
    "my_func1()"
   ]
  },
  {
   "cell_type": "code",
   "execution_count": 90,
   "id": "da80cc77",
   "metadata": {},
   "outputs": [
    {
     "name": "stdout",
     "output_type": "stream",
     "text": [
      "I am From Sweden\n"
     ]
    }
   ],
   "source": [
    "my_func1(\"Sweden\")"
   ]
  },
  {
   "cell_type": "code",
   "execution_count": 91,
   "id": "00002214",
   "metadata": {},
   "outputs": [
    {
     "name": "stdout",
     "output_type": "stream",
     "text": [
      "I am From Dubai\n"
     ]
    }
   ],
   "source": [
    "my_func1(\"Dubai\")"
   ]
  },
  {
   "cell_type": "markdown",
   "id": "0b28c820",
   "metadata": {},
   "source": [
    "Recursion Function "
   ]
  },
  {
   "cell_type": "code",
   "execution_count": 98,
   "id": "8976ff23",
   "metadata": {},
   "outputs": [
    {
     "name": "stdout",
     "output_type": "stream",
     "text": [
      "\n",
      "\n",
      "Recursion Example Results\n"
     ]
    }
   ],
   "source": [
    "def tri_recursion(k):\n",
    "    if (k>0):\n",
    "        result = k + tri_recursion(k-1)\n",
    "        print(result)\n",
    "    else:\n",
    "        result = 0\n",
    "    return result\n",
    "\n",
    "print(\"\\n\\nRecursion Example Results\")"
   ]
  },
  {
   "cell_type": "code",
   "execution_count": 99,
   "id": "d3349bdb",
   "metadata": {},
   "outputs": [
    {
     "name": "stdout",
     "output_type": "stream",
     "text": [
      "1\n",
      "3\n",
      "6\n",
      "10\n",
      "15\n",
      "21\n"
     ]
    },
    {
     "data": {
      "text/plain": [
       "21"
      ]
     },
     "execution_count": 99,
     "metadata": {},
     "output_type": "execute_result"
    }
   ],
   "source": [
    "tri_recursion(6)"
   ]
  },
  {
   "cell_type": "markdown",
   "id": "1747a9be",
   "metadata": {},
   "source": [
    "# Lamda Function"
   ]
  },
  {
   "cell_type": "code",
   "execution_count": 100,
   "id": "5acccca5",
   "metadata": {},
   "outputs": [
    {
     "name": "stdout",
     "output_type": "stream",
     "text": [
      "50\n"
     ]
    }
   ],
   "source": [
    "x = lambda a: a * 10\n",
    "print(x(5))"
   ]
  },
  {
   "cell_type": "code",
   "execution_count": null,
   "id": "c9b6f2c4",
   "metadata": {},
   "outputs": [],
   "source": []
  },
  {
   "cell_type": "code",
   "execution_count": null,
   "id": "7f216f89",
   "metadata": {},
   "outputs": [],
   "source": []
  }
 ],
 "metadata": {
  "kernelspec": {
   "display_name": "Python 3",
   "language": "python",
   "name": "python3"
  },
  "language_info": {
   "codemirror_mode": {
    "name": "ipython",
    "version": 3
   },
   "file_extension": ".py",
   "mimetype": "text/x-python",
   "name": "python",
   "nbconvert_exporter": "python",
   "pygments_lexer": "ipython3",
   "version": "3.8.8"
  }
 },
 "nbformat": 4,
 "nbformat_minor": 5
}
