{
 "cells": [
  {
   "cell_type": "code",
   "execution_count": 1,
   "id": "4ac1924e",
   "metadata": {},
   "outputs": [
    {
     "name": "stdout",
     "output_type": "stream",
     "text": [
      "{'metre': 'Metric unit of length', 'meter': 'Measuring device', 'storey': 'Level of a building', 'story': ' Tale or account'}\n"
     ]
    }
   ],
   "source": [
    "a ={\"metre\": \"Metric unit of length\",\n",
    "   \"meter\": \"Measuring device\",\n",
    "   \"storey\": \"Level of a building\",\n",
    "   \"story\": \" Tale or account\"}\n",
    "print(a)"
   ]
  },
  {
   "cell_type": "code",
   "execution_count": 2,
   "id": "a98a99d2",
   "metadata": {},
   "outputs": [
    {
     "name": "stdout",
     "output_type": "stream",
     "text": [
      "Measuring device\n"
     ]
    }
   ],
   "source": [
    "print(a[\"meter\"])"
   ]
  },
  {
   "cell_type": "code",
   "execution_count": 3,
   "id": "c63c890d",
   "metadata": {},
   "outputs": [
    {
     "name": "stdout",
     "output_type": "stream",
     "text": [
      "Level of a building\n"
     ]
    }
   ],
   "source": [
    "print(a[\"storey\"])"
   ]
  },
  {
   "cell_type": "code",
   "execution_count": 15,
   "id": "132cfba8",
   "metadata": {},
   "outputs": [
    {
     "name": "stdout",
     "output_type": "stream",
     "text": [
      "{'metre': 'Metric unit of length', 'meter': 'Measuring device', 'storey': 'Level of a building', 'story': ' Tale or Account', 'sight': 'Abillity to see', 'site': 'Location or Place', 'there': 'That Place or Location'}\n"
     ]
    }
   ],
   "source": [
    "b ={\"metre\": \"Metric unit of length\",\n",
    "   \"meter\": \"Measuring device\",\n",
    "   \"storey\": \"Level of a building\",\n",
    "   \"story\": \" Tale or Account\",\n",
    "   \"sight\": \"Abillity to see\",\n",
    "   \"site\": \"Location or Place\"}\n",
    "\n",
    "b.update({\"there\": \"That Place or Location\"})\n",
    "print(b)\n",
    "\n",
    "#print(b.update({\"there\": \"That Place or Location\"}))"
   ]
  },
  {
   "cell_type": "code",
   "execution_count": 5,
   "id": "075ab83c",
   "metadata": {},
   "outputs": [
    {
     "name": "stdout",
     "output_type": "stream",
     "text": [
      "Location or Place\n"
     ]
    }
   ],
   "source": [
    "print(b[\"site\"])"
   ]
  },
  {
   "cell_type": "code",
   "execution_count": 6,
   "id": "dc65285c",
   "metadata": {},
   "outputs": [
    {
     "name": "stdout",
     "output_type": "stream",
     "text": [
      "dict_items([('metre', 'Metric unit of length'), ('meter', 'Measuring device'), ('storey', 'Level of a building'), ('story', ' Tale or Account'), ('sight', 'Abillity to see'), ('site', 'Location or Place')])\n"
     ]
    }
   ],
   "source": [
    "print(b.items())"
   ]
  },
  {
   "cell_type": "code",
   "execution_count": 7,
   "id": "2c143695",
   "metadata": {},
   "outputs": [
    {
     "name": "stdout",
     "output_type": "stream",
     "text": [
      "<class 'dict'>\n"
     ]
    }
   ],
   "source": [
    "print(type(b))"
   ]
  },
  {
   "cell_type": "code",
   "execution_count": 10,
   "id": "49f4269b",
   "metadata": {},
   "outputs": [
    {
     "name": "stdout",
     "output_type": "stream",
     "text": [
      "None\n"
     ]
    }
   ],
   "source": [
    "print(b.update({\"there\": \"That Place or Location\"}))"
   ]
  },
  {
   "cell_type": "code",
   "execution_count": 20,
   "id": "dedaca41",
   "metadata": {},
   "outputs": [
    {
     "name": "stdout",
     "output_type": "stream",
     "text": [
      "dict_keys(['metre', 'meter', 'storey', 'story', 'sight', 'site'])\n"
     ]
    }
   ],
   "source": [
    "b ={\"metre\": \"Metric unit of length\",\n",
    "   \"meter\": \"Measuring device\",\n",
    "   \"storey\": \"Level of a building\",\n",
    "   \"story\": \" Tale or Account\",\n",
    "   \"sight\": \"Abillity to see\",\n",
    "   \"site\": \"Location or Place\"}\n",
    "#b.key()\n",
    "print(b.keys())"
   ]
  },
  {
   "cell_type": "code",
   "execution_count": 22,
   "id": "dcc7017b",
   "metadata": {},
   "outputs": [
    {
     "name": "stdout",
     "output_type": "stream",
     "text": [
      "dict_values(['Metric unit of length', 'Measuring device', 'Level of a building', ' Tale or Account', 'Abillity to see', 'Location or Place'])\n"
     ]
    }
   ],
   "source": [
    "print(b.values())"
   ]
  },
  {
   "cell_type": "code",
   "execution_count": 23,
   "id": "c325d127",
   "metadata": {},
   "outputs": [
    {
     "name": "stdout",
     "output_type": "stream",
     "text": [
      "Location or Place\n"
     ]
    }
   ],
   "source": [
    "print(b.get(\"site\"))"
   ]
  },
  {
   "cell_type": "code",
   "execution_count": 24,
   "id": "85818d79",
   "metadata": {},
   "outputs": [
    {
     "name": "stdout",
     "output_type": "stream",
     "text": [
      "Measuring device\n"
     ]
    }
   ],
   "source": [
    "print(b.get(\"meter\"))"
   ]
  },
  {
   "cell_type": "code",
   "execution_count": 28,
   "id": "fc52f33d",
   "metadata": {},
   "outputs": [
    {
     "name": "stdout",
     "output_type": "stream",
     "text": [
      "{2, 3, 4, 5, 6, 8, 77, 23}\n",
      "<class 'set'>\n"
     ]
    }
   ],
   "source": [
    "#SETS IN PYTHON\n",
    "a = {2, 3, 4, 5, 6, 77, 8, 4, 23, 3}\n",
    "print(a)\n",
    "print(type(a))"
   ]
  },
  {
   "cell_type": "code",
   "execution_count": 38,
   "id": "acfa5af6",
   "metadata": {},
   "outputs": [
    {
     "name": "stdout",
     "output_type": "stream",
     "text": [
      "set()\n",
      "<class 'set'>\n",
      "{2, 4, 6}\n"
     ]
    }
   ],
   "source": [
    "s = set( )           #Sets are unorderd   \n",
    "print(s)\n",
    "print(type(s))\n",
    "s.add(2)\n",
    "s.add(4)\n",
    "s.add(6)\n",
    "print(s)             #Sets are unindexed"
   ]
  },
  {
   "cell_type": "code",
   "execution_count": 41,
   "id": "c13e5c40",
   "metadata": {},
   "outputs": [
    {
     "name": "stdout",
     "output_type": "stream",
     "text": [
      "{2, 4, 6}\n"
     ]
    }
   ],
   "source": [
    "print(s)\n"
   ]
  },
  {
   "cell_type": "code",
   "execution_count": 52,
   "id": "5ded569d",
   "metadata": {},
   "outputs": [
    {
     "name": "stdout",
     "output_type": "stream",
     "text": [
      "6\n",
      "{3, 5, 8, 12, 77, 90}\n"
     ]
    }
   ],
   "source": [
    "c = {12, 3, 5, 77, 8, 90}\n",
    "print(len(c))\n",
    "print(c)"
   ]
  },
  {
   "cell_type": "code",
   "execution_count": 53,
   "id": "a2124ed3",
   "metadata": {},
   "outputs": [
    {
     "name": "stdout",
     "output_type": "stream",
     "text": [
      "{3, 5, 8, 12, 90}\n"
     ]
    }
   ],
   "source": [
    "c.remove(77)\n",
    "print(c)"
   ]
  },
  {
   "cell_type": "code",
   "execution_count": 54,
   "id": "f1f373dd",
   "metadata": {},
   "outputs": [
    {
     "name": "stdout",
     "output_type": "stream",
     "text": [
      "{5, 8, 12, 90}\n"
     ]
    }
   ],
   "source": [
    "c.pop()\n",
    "print(c)"
   ]
  },
  {
   "cell_type": "code",
   "execution_count": 55,
   "id": "db000d49",
   "metadata": {},
   "outputs": [
    {
     "name": "stdout",
     "output_type": "stream",
     "text": [
      "{8, 12, 90}\n"
     ]
    }
   ],
   "source": [
    "c.pop()\n",
    "print(c)"
   ]
  },
  {
   "cell_type": "code",
   "execution_count": 57,
   "id": "5269e09f",
   "metadata": {},
   "outputs": [
    {
     "name": "stdout",
     "output_type": "stream",
     "text": [
      "set()\n"
     ]
    }
   ],
   "source": [
    "c.clear()\n",
    "print(c)"
   ]
  },
  {
   "cell_type": "code",
   "execution_count": 61,
   "id": "5b3088fa",
   "metadata": {},
   "outputs": [
    {
     "name": "stdout",
     "output_type": "stream",
     "text": [
      "{3, 5, 8, 12, 77, 90}\n"
     ]
    }
   ],
   "source": [
    "c = {12, 3, 5, 77, 8, 90}\n",
    "c.union({2, 4, 3, 6, 8, 80})\n",
    "print(c)"
   ]
  },
  {
   "cell_type": "code",
   "execution_count": 62,
   "id": "09246110",
   "metadata": {},
   "outputs": [
    {
     "name": "stdout",
     "output_type": "stream",
     "text": [
      "{3, 5, 8, 12, 77, 90}\n"
     ]
    }
   ],
   "source": [
    "c = {12, 3, 5, 77, 8, 90}\n",
    "c.intersection({12, 77})\n",
    "print(c)"
   ]
  },
  {
   "cell_type": "code",
   "execution_count": 74,
   "id": "2bf74aca",
   "metadata": {},
   "outputs": [
    {
     "name": "stdout",
     "output_type": "stream",
     "text": [
      "Opetion are : dict_keys(['pankha', 'daba', 'katab'])\n",
      "Enter the urdu words:\n",
      "katab\n",
      "Your urdu word meaning is:  BOOK\n"
     ]
    }
   ],
   "source": [
    "#PRACTICE SET\n",
    "mydict = {\"pankha\": \"FAN\",\n",
    "    \"daba\": \"BOX\",\n",
    "    \"katab\": \"BOOK\"}\n",
    "\n",
    "print(\"Opetion are :\", mydict.keys())\n",
    "b = input(\"Enter the urdu words:\\n\")\n",
    "print(\"Your urdu word meaning is: \", mydict[b])"
   ]
  },
  {
   "cell_type": "code",
   "execution_count": 76,
   "id": "c0c41773",
   "metadata": {},
   "outputs": [
    {
     "name": "stdout",
     "output_type": "stream",
     "text": [
      "Enter the urdu words:\n",
      "fan\n",
      "Your urdu word meaning is:  None\n"
     ]
    }
   ],
   "source": [
    "mydict = {\"pankha\": \"FAN\",\n",
    "    \"daba\": \"BOX\",\n",
    "    \"katab\": \"BOOK\"}\n",
    "\n",
    "b = input(\"Enter the urdu words:\\n\")\n",
    "print(\"Your urdu word meaning is: \", mydict.get(b))  #get use for stop the error  \n"
   ]
  },
  {
   "cell_type": "code",
   "execution_count": 80,
   "id": "0899fe1d",
   "metadata": {},
   "outputs": [
    {
     "name": "stdout",
     "output_type": "stream",
     "text": [
      "Enter the num1: 2\n",
      "Enter the num2: 3\n",
      "Enter the num3: 4\n",
      "Enter the num4: 5\n",
      "Enter the num5: 2\n",
      "{2, 3, 4, 5}\n"
     ]
    }
   ],
   "source": [
    "#PR 02\n",
    "a = int(input(\"Enter the num1: \"))\n",
    "b = int(input(\"Enter the num2: \"))\n",
    "c = int(input(\"Enter the num3: \"))\n",
    "d = int(input(\"Enter the num4: \"))\n",
    "e = int(input(\"Enter the num5: \"))\n",
    "\n",
    "print({a, b, c, d, e})"
   ]
  },
  {
   "cell_type": "code",
   "execution_count": 81,
   "id": "69822480",
   "metadata": {},
   "outputs": [
    {
     "name": "stdout",
     "output_type": "stream",
     "text": [
      "{18, '18'}\n"
     ]
    }
   ],
   "source": [
    "#PR 03\n",
    "s = {18, \"18\"}\n",
    "print(s)"
   ]
  },
  {
   "cell_type": "code",
   "execution_count": 83,
   "id": "ab6121bf",
   "metadata": {},
   "outputs": [
    {
     "name": "stdout",
     "output_type": "stream",
     "text": [
      "{'20', 20}\n",
      "2\n"
     ]
    }
   ],
   "source": [
    "#PR 04\n",
    "s = set()\n",
    "s.add(20)\n",
    "s.add(20.0)\n",
    "s.add(\"20\")\n",
    "print(s)\n",
    "print(len(s))"
   ]
  },
  {
   "cell_type": "code",
   "execution_count": 84,
   "id": "dbacef61",
   "metadata": {},
   "outputs": [
    {
     "name": "stdout",
     "output_type": "stream",
     "text": [
      "<class 'dict'>\n"
     ]
    }
   ],
   "source": [
    "#PR 05\n",
    "s = {}\n",
    "print(type(s))"
   ]
  },
  {
   "cell_type": "code",
   "execution_count": 86,
   "id": "66bd2cb5",
   "metadata": {},
   "outputs": [
    {
     "name": "stdout",
     "output_type": "stream",
     "text": [
      "Enter the favorite language Ali: python\n",
      "Enter the favorite language Raza: c\n",
      "Enter the favorite language Abdullah: c++\n",
      "Enter the favorite language Ajmal: java\n",
      "{'java', 'python', 'c', 'c++'}\n"
     ]
    }
   ],
   "source": [
    "#PR 06\n",
    "d = { }\n",
    "a = input(\"Enter the favorite language Ali: \")\n",
    "b = input(\"Enter the favorite language Raza: \")\n",
    "c = input(\"Enter the favorite language Abdullah: \")\n",
    "d = input(\"Enter the favorite language Ajmal: \")\n",
    "\n",
    "print({a, b, c, d})"
   ]
  },
  {
   "cell_type": "code",
   "execution_count": 87,
   "id": "0976faee",
   "metadata": {},
   "outputs": [
    {
     "name": "stdout",
     "output_type": "stream",
     "text": [
      "Enter the favorite language Ali: python\n",
      "Enter the favorite language Raza: C++\n",
      "Enter the favorite language Abdullah: c\n",
      "Enter the favorite language Ali: java\n",
      "{'java', 'python', 'c', 'C++'}\n"
     ]
    }
   ],
   "source": [
    "#PR 07    If name are same\n",
    "d = { }\n",
    "a = input(\"Enter the favorite language Ali: \")\n",
    "b = input(\"Enter the favorite language Raza: \")\n",
    "c = input(\"Enter the favorite language Abdullah: \")\n",
    "d = input(\"Enter the favorite language Ali: \")\n",
    "\n",
    "print({a, b, c, d})"
   ]
  },
  {
   "cell_type": "code",
   "execution_count": 88,
   "id": "7b69f02b",
   "metadata": {},
   "outputs": [
    {
     "name": "stdout",
     "output_type": "stream",
     "text": [
      "Enter the favorite language Ali: python\n",
      "Enter the favorite language Raza: c\n",
      "Enter the favorite language Abdullah: java\n",
      "Enter the favorite language Ajmal: python\n",
      "{'java', 'python', 'c'}\n"
     ]
    }
   ],
   "source": [
    "#PR 08    If language are same\n",
    "d = { }\n",
    "a = input(\"Enter the favorite language Ali: \")\n",
    "b = input(\"Enter the favorite language Raza: \")\n",
    "c = input(\"Enter the favorite language Abdullah: \")\n",
    "d = input(\"Enter the favorite language Ajmal: \")\n",
    "\n",
    "print({a, b, c, d})"
   ]
  },
  {
   "cell_type": "code",
   "execution_count": 89,
   "id": "86d57548",
   "metadata": {},
   "outputs": [
    {
     "ename": "TypeError",
     "evalue": "unhashable type: 'list'",
     "output_type": "error",
     "traceback": [
      "\u001b[1;31m---------------------------------------------------------------------------\u001b[0m",
      "\u001b[1;31mTypeError\u001b[0m                                 Traceback (most recent call last)",
      "\u001b[1;32m<ipython-input-89-e995731aeed4>\u001b[0m in \u001b[0;36m<module>\u001b[1;34m\u001b[0m\n\u001b[0;32m      1\u001b[0m \u001b[1;31m#PR 09\u001b[0m\u001b[1;33m\u001b[0m\u001b[1;33m\u001b[0m\u001b[1;33m\u001b[0m\u001b[0m\n\u001b[1;32m----> 2\u001b[1;33m \u001b[0ms\u001b[0m \u001b[1;33m=\u001b[0m \u001b[1;33m{\u001b[0m\u001b[1;36m8\u001b[0m\u001b[1;33m,\u001b[0m \u001b[1;36m6\u001b[0m\u001b[1;33m,\u001b[0m \u001b[1;36m12\u001b[0m\u001b[1;33m,\u001b[0m \u001b[1;34m\"Harry\"\u001b[0m\u001b[1;33m,\u001b[0m \u001b[1;33m[\u001b[0m\u001b[1;36m1\u001b[0m\u001b[1;33m,\u001b[0m\u001b[1;36m2\u001b[0m\u001b[1;33m]\u001b[0m\u001b[1;33m}\u001b[0m\u001b[1;33m\u001b[0m\u001b[1;33m\u001b[0m\u001b[0m\n\u001b[0m\u001b[0;32m      3\u001b[0m \u001b[0mprint\u001b[0m\u001b[1;33m(\u001b[0m\u001b[0ms\u001b[0m\u001b[1;33m)\u001b[0m\u001b[1;33m\u001b[0m\u001b[1;33m\u001b[0m\u001b[0m\n",
      "\u001b[1;31mTypeError\u001b[0m: unhashable type: 'list'"
     ]
    }
   ],
   "source": [
    "#PR 09\n",
    "s = {8, 6, 12, \"Harry\", [1,2]}\n",
    "print(s)"
   ]
  },
  {
   "cell_type": "code",
   "execution_count": null,
   "id": "bc39b6aa",
   "metadata": {},
   "outputs": [],
   "source": []
  }
 ],
 "metadata": {
  "kernelspec": {
   "display_name": "Python 3",
   "language": "python",
   "name": "python3"
  },
  "language_info": {
   "codemirror_mode": {
    "name": "ipython",
    "version": 3
   },
   "file_extension": ".py",
   "mimetype": "text/x-python",
   "name": "python",
   "nbconvert_exporter": "python",
   "pygments_lexer": "ipython3",
   "version": "3.8.8"
  }
 },
 "nbformat": 4,
 "nbformat_minor": 5
}
