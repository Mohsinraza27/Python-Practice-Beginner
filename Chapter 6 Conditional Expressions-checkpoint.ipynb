{
 "cells": [
  {
   "cell_type": "code",
   "execution_count": 1,
   "id": "fdd40cbf",
   "metadata": {},
   "outputs": [
    {
     "name": "stdout",
     "output_type": "stream",
     "text": [
      "a is grater than 20 \n"
     ]
    }
   ],
   "source": [
    "a = 23\n",
    "if a>20:\n",
    "    print(\"a is grater than 20 \")\n",
    "elif a<35:\n",
    "    print(\"a is less than 35\")\n",
    "else:\n",
    "    print(\"a = 23\")"
   ]
  },
  {
   "cell_type": "code",
   "execution_count": 3,
   "id": "75d45d86",
   "metadata": {},
   "outputs": [
    {
     "name": "stdout",
     "output_type": "stream",
     "text": [
      "a is less than 35\n"
     ]
    }
   ],
   "source": [
    "a = 23\n",
    "if a<20:\n",
    "    print(\"a is grater than 20 \")\n",
    "elif a<35:\n",
    "    print(\"a is less than 35\")\n",
    "else:\n",
    "    print(\"a = 23\")"
   ]
  },
  {
   "cell_type": "code",
   "execution_count": 4,
   "id": "e4ae792f",
   "metadata": {},
   "outputs": [
    {
     "name": "stdout",
     "output_type": "stream",
     "text": [
      "a = 23\n"
     ]
    }
   ],
   "source": [
    "a = 23\n",
    "if a<20:\n",
    "    print(\"a is grater than 20 \")\n",
    "elif a>35:\n",
    "    print(\"a is less than 35\")\n",
    "else:\n",
    "    print(\"a = 23\")"
   ]
  },
  {
   "cell_type": "code",
   "execution_count": 5,
   "id": "c070e677",
   "metadata": {},
   "outputs": [
    {
     "name": "stdout",
     "output_type": "stream",
     "text": [
      "Greater\n"
     ]
    }
   ],
   "source": [
    "a = 22\n",
    "if(a > 9): \n",
    "    print(\"Greater\")\n",
    "else:\n",
    "    print(\"lesser\")"
   ]
  },
  {
   "cell_type": "code",
   "execution_count": 6,
   "id": "33bcb3ca",
   "metadata": {},
   "outputs": [
    {
     "name": "stdout",
     "output_type": "stream",
     "text": [
      "lesser\n"
     ]
    }
   ],
   "source": [
    "a = 6\n",
    "if(a > 9): \n",
    "    print(\"Greater\")\n",
    "else:\n",
    "    print(\"lesser\")"
   ]
  },
  {
   "cell_type": "code",
   "execution_count": 1,
   "id": "bb5525ed",
   "metadata": {},
   "outputs": [
    {
     "name": "stdout",
     "output_type": "stream",
     "text": [
      "you are selected\n"
     ]
    }
   ],
   "source": [
    "age = 24\n",
    "if age > 34:\n",
    "    print(\"you are not selested\")\n",
    "elif age > 17:\n",
    "    print(\"you are selected\")\n",
    "else:\n",
    "    print(\"Try again\")"
   ]
  },
  {
   "cell_type": "code",
   "execution_count": 2,
   "id": "c175e21f",
   "metadata": {},
   "outputs": [
    {
     "name": "stdout",
     "output_type": "stream",
     "text": [
      "you are not selested\n"
     ]
    }
   ],
   "source": [
    "age = 38\n",
    "if age > 34:\n",
    "    print(\"you are not selested\")\n",
    "elif age > 17:\n",
    "    print(\"you are selected\")\n",
    "else:\n",
    "    print(\"Try again\")"
   ]
  },
  {
   "cell_type": "code",
   "execution_count": 3,
   "id": "6941d47d",
   "metadata": {},
   "outputs": [
    {
     "name": "stdout",
     "output_type": "stream",
     "text": [
      "Try again\n"
     ]
    }
   ],
   "source": [
    "age = 14\n",
    "if age > 34:\n",
    "    print(\"you are not selested\")\n",
    "elif age > 17:\n",
    "    print(\"you are selected\")\n",
    "else:\n",
    "    print(\"Try again\")"
   ]
  },
  {
   "cell_type": "code",
   "execution_count": 4,
   "id": "a5ec09d1",
   "metadata": {},
   "outputs": [
    {
     "name": "stdout",
     "output_type": "stream",
     "text": [
      "Congaratulations! you are selected the force\n"
     ]
    }
   ],
   "source": [
    "a = 20\n",
    "if (a > 17 and a < 35):\n",
    "    print(\"Congaratulations! you are selected the force\")\n",
    "elif (a < 55 and a > 35):\n",
    "    print(\"Your are not selected \")\n",
    "else:\n",
    "    print(\"Try Again\")"
   ]
  },
  {
   "cell_type": "code",
   "execution_count": 5,
   "id": "00578818",
   "metadata": {},
   "outputs": [
    {
     "name": "stdout",
     "output_type": "stream",
     "text": [
      "Try Again\n"
     ]
    }
   ],
   "source": [
    "a = 13\n",
    "if (a > 17 and a < 35):\n",
    "    print(\"Congaratulations! you are selected the force\")\n",
    "elif (a < 55 and a > 35):\n",
    "    print(\"Your are not selected \")\n",
    "else:\n",
    "    print(\"Try Again\")"
   ]
  },
  {
   "cell_type": "code",
   "execution_count": 6,
   "id": "c484a59f",
   "metadata": {},
   "outputs": [
    {
     "name": "stdout",
     "output_type": "stream",
     "text": [
      "Your are not selected \n"
     ]
    }
   ],
   "source": [
    "a = 40\n",
    "if (a > 17 and a < 35):\n",
    "    print(\"Congaratulations! you are selected the force\")\n",
    "elif (a < 55 and a > 35):\n",
    "    print(\"Your are not selected \")\n",
    "else:\n",
    "    print(\"Try Again\")"
   ]
  },
  {
   "cell_type": "code",
   "execution_count": 7,
   "id": "e4675f51",
   "metadata": {},
   "outputs": [
    {
     "name": "stdout",
     "output_type": "stream",
     "text": [
      "Try Again\n"
     ]
    }
   ],
   "source": [
    "a = 58\n",
    "if (a > 17 and a < 35):\n",
    "    print(\"Congaratulations! you are selected the force\")\n",
    "elif (a < 55 and a > 35):\n",
    "    print(\"Your are not selected \")\n",
    "else:\n",
    "    print(\"Try Again\")"
   ]
  },
  {
   "cell_type": "code",
   "execution_count": 8,
   "id": "c2b5a1f2",
   "metadata": {},
   "outputs": [
    {
     "name": "stdout",
     "output_type": "stream",
     "text": [
      "Congaratulations! you are selected the force\n"
     ]
    }
   ],
   "source": [
    "a = 20\n",
    "if (a >= 17 and a <= 35):\n",
    "    print(\"Congaratulations! you are selected the force\")\n",
    "elif (a <= 55 and a >= 35):\n",
    "    print(\"Your are not selected \")\n",
    "else:\n",
    "    print(\"Try Again\")"
   ]
  },
  {
   "cell_type": "code",
   "execution_count": 9,
   "id": "942460ef",
   "metadata": {},
   "outputs": [
    {
     "name": "stdout",
     "output_type": "stream",
     "text": [
      "Congaratulations! you are selected the force\n"
     ]
    }
   ],
   "source": [
    "a = 18\n",
    "if (a >= 17 and a <= 35):\n",
    "    print(\"Congaratulations! you are selected the force\")\n",
    "elif (a <= 55 and a >= 35):\n",
    "    print(\"Your are not selected \")\n",
    "else:\n",
    "    print(\"Try Again\")"
   ]
  },
  {
   "cell_type": "code",
   "execution_count": 10,
   "id": "f326cf54",
   "metadata": {},
   "outputs": [
    {
     "name": "stdout",
     "output_type": "stream",
     "text": [
      "Try Again\n"
     ]
    }
   ],
   "source": [
    "a = 16\n",
    "if (a >= 17 and a <= 35):\n",
    "    print(\"Congaratulations! you are selected the force\")\n",
    "elif (a <= 55 and a >= 35):\n",
    "    print(\"Your are not selected \")\n",
    "else:\n",
    "    print(\"Try Again\")"
   ]
  },
  {
   "cell_type": "code",
   "execution_count": 11,
   "id": "f3cb3843",
   "metadata": {},
   "outputs": [
    {
     "name": "stdout",
     "output_type": "stream",
     "text": [
      "Congaratulations! you are selected the force\n"
     ]
    }
   ],
   "source": [
    "a = 17\n",
    "if (a >= 17 and a <= 35):\n",
    "    print(\"Congaratulations! you are selected the force\")\n",
    "elif (a <= 55 and a >= 35):\n",
    "    print(\"Your are not selected \")\n",
    "else:\n",
    "    print(\"Try Again\")"
   ]
  },
  {
   "cell_type": "code",
   "execution_count": 12,
   "id": "c420c277",
   "metadata": {},
   "outputs": [
    {
     "name": "stdout",
     "output_type": "stream",
     "text": [
      "Your are not selected \n"
     ]
    }
   ],
   "source": [
    "a = 50\n",
    "if (a >= 17 and a <= 35):\n",
    "    print(\"Congaratulations! you are selected the force\")\n",
    "elif (a <= 55 and a >= 35):\n",
    "    print(\"Your are not selected \")\n",
    "else:\n",
    "    print(\"Try Again\")"
   ]
  },
  {
   "cell_type": "code",
   "execution_count": 13,
   "id": "0a033222",
   "metadata": {},
   "outputs": [
    {
     "name": "stdout",
     "output_type": "stream",
     "text": [
      "Try Again\n"
     ]
    }
   ],
   "source": [
    "a = 80\n",
    "if (a >= 17 and a <= 35):\n",
    "    print(\"Congaratulations! you are selected the force\")\n",
    "elif (a <= 55 and a >= 35):\n",
    "    print(\"Your are not selected \")\n",
    "else:\n",
    "    print(\"Try Again\")"
   ]
  },
  {
   "cell_type": "code",
   "execution_count": 14,
   "id": "c1e7e12c",
   "metadata": {},
   "outputs": [
    {
     "name": "stdout",
     "output_type": "stream",
     "text": [
      "Congaratulations! you are selected the force\n"
     ]
    }
   ],
   "source": [
    "a = 58\n",
    "if (a > 17 or a < 35):\n",
    "    print(\"Congaratulations! you are selected the force\")\n",
    "elif (a < 55 or a > 35):\n",
    "    print(\"Your are not selected \")\n",
    "else:\n",
    "    print(\"Try Again\")"
   ]
  },
  {
   "cell_type": "code",
   "execution_count": 15,
   "id": "e47f535f",
   "metadata": {},
   "outputs": [
    {
     "name": "stdout",
     "output_type": "stream",
     "text": [
      "Congaratulations! you are selected the force\n"
     ]
    }
   ],
   "source": [
    "a = 23\n",
    "if (a > 17 or a < 35):\n",
    "    print(\"Congaratulations! you are selected the force\")\n",
    "elif (a < 55 or a > 35):\n",
    "    print(\"Your are not selected \")\n",
    "else:\n",
    "    print(\"Try Again\")"
   ]
  },
  {
   "cell_type": "code",
   "execution_count": 17,
   "id": "e57a722c",
   "metadata": {},
   "outputs": [
    {
     "name": "stdout",
     "output_type": "stream",
     "text": [
      "Congaratulations! you are selected the force\n"
     ]
    }
   ],
   "source": [
    "a = 14\n",
    "if (a >= 17 or a <= 35):\n",
    "    print(\"Congaratulations! you are selected the force\")\n",
    "elif (a <= 55 or a >= 35):\n",
    "    print(\"Your are not selected \")\n",
    "else:\n",
    "    print(\"Try Again\")"
   ]
  },
  {
   "cell_type": "code",
   "execution_count": 19,
   "id": "46c7346d",
   "metadata": {},
   "outputs": [
    {
     "ename": "SyntaxError",
     "evalue": "invalid syntax (<ipython-input-19-637f38295c85>, line 2)",
     "output_type": "error",
     "traceback": [
      "\u001b[1;36m  File \u001b[1;32m\"<ipython-input-19-637f38295c85>\"\u001b[1;36m, line \u001b[1;32m2\u001b[0m\n\u001b[1;33m    if (a >= 17 not a <= 35):\u001b[0m\n\u001b[1;37m                    ^\u001b[0m\n\u001b[1;31mSyntaxError\u001b[0m\u001b[1;31m:\u001b[0m invalid syntax\n"
     ]
    }
   ],
   "source": [
    "a = 14\n",
    "if (a >= 17 not a <= 35):\n",
    "    print(\"Congaratulations! you are selected the force\")\n",
    "elif (a <= 55 not a >= 35):\n",
    "    print(\"Your are not selected \")\n",
    "else:\n",
    "    print(\"Try Again\")"
   ]
  },
  {
   "cell_type": "code",
   "execution_count": 20,
   "id": "f421c3aa",
   "metadata": {},
   "outputs": [
    {
     "name": "stdout",
     "output_type": "stream",
     "text": [
      "Very good\n"
     ]
    }
   ],
   "source": [
    "m = 75\n",
    "if m > 80:\n",
    "    print(\"Excelent\")\n",
    "elif m < 80:\n",
    "    print(\"Very good\")\n",
    "elif m > 60:\n",
    "    print(\"Good\")\n",
    "elif m < 60:\n",
    "    print(\"Bad\")\n",
    "else:\n",
    "    print(\"very bad\")"
   ]
  },
  {
   "cell_type": "code",
   "execution_count": 21,
   "id": "1d71bac9",
   "metadata": {},
   "outputs": [
    {
     "name": "stdout",
     "output_type": "stream",
     "text": [
      "Excelent\n"
     ]
    }
   ],
   "source": [
    "m = 89\n",
    "if m > 80:\n",
    "    print(\"Excelent\")\n",
    "elif m < 80:\n",
    "    print(\"Very good\")\n",
    "elif m > 60:\n",
    "    print(\"Good\")\n",
    "elif m < 60:\n",
    "    print(\"Bad\")\n",
    "else:\n",
    "    print(\"very bad\")"
   ]
  },
  {
   "cell_type": "code",
   "execution_count": 22,
   "id": "b92b3517",
   "metadata": {},
   "outputs": [
    {
     "name": "stdout",
     "output_type": "stream",
     "text": [
      "Very good\n"
     ]
    }
   ],
   "source": [
    "m = 65\n",
    "if m > 80:\n",
    "    print(\"Excelent\")\n",
    "elif m < 80:\n",
    "    print(\"Very good\")\n",
    "elif m > 60:\n",
    "    print(\"Good\")\n",
    "elif m < 60:\n",
    "    print(\"Bad\")\n",
    "else:\n",
    "    print(\"very bad\")"
   ]
  },
  {
   "cell_type": "code",
   "execution_count": 24,
   "id": "25d968ac",
   "metadata": {},
   "outputs": [
    {
     "name": "stdout",
     "output_type": "stream",
     "text": [
      "very bad\n"
     ]
    }
   ],
   "source": [
    "m = 50\n",
    "if m > 80:\n",
    "    print(\"Excelent\")\n",
    "elif m > 60:\n",
    "    print(\"Very good\")\n",
    "elif m > 50:\n",
    "    print(\"Good\")\n",
    "elif m < 50:\n",
    "    print(\"Bad\")\n",
    "else:\n",
    "    print(\"very bad\")"
   ]
  },
  {
   "cell_type": "code",
   "execution_count": 25,
   "id": "ef98576d",
   "metadata": {},
   "outputs": [
    {
     "name": "stdout",
     "output_type": "stream",
     "text": [
      "Excelent\n"
     ]
    }
   ],
   "source": [
    "m = 95\n",
    "if m > 80:\n",
    "    print(\"Excelent\")\n",
    "elif m < 80:\n",
    "    print(\"Very good\")\n",
    "elif m > 60:\n",
    "    print(\"Good\")\n",
    "elif m < 60:\n",
    "    print(\"Bad\")\n",
    "else:\n",
    "    print(\"very bad\")"
   ]
  },
  {
   "cell_type": "code",
   "execution_count": 26,
   "id": "c211c7ac",
   "metadata": {},
   "outputs": [
    {
     "name": "stdout",
     "output_type": "stream",
     "text": [
      "Very good\n"
     ]
    }
   ],
   "source": [
    "m = 75\n",
    "if m > 80:\n",
    "    print(\"Excelent\")\n",
    "elif m < 80:\n",
    "    print(\"Very good\")\n",
    "elif m > 60:\n",
    "    print(\"Good\")\n",
    "elif m < 60:\n",
    "    print(\"Bad\")\n",
    "else:\n",
    "    print(\"very bad\")"
   ]
  },
  {
   "cell_type": "code",
   "execution_count": 27,
   "id": "c0129758",
   "metadata": {},
   "outputs": [
    {
     "name": "stdout",
     "output_type": "stream",
     "text": [
      "Very good\n"
     ]
    }
   ],
   "source": [
    "m = 63\n",
    "if m > 80:\n",
    "    print(\"Excelent\")\n",
    "elif m < 80:\n",
    "    print(\"Very good\")\n",
    "elif m > 60:\n",
    "    print(\"Good\")\n",
    "elif m < 60:\n",
    "    print(\"Bad\")\n",
    "else:\n",
    "    print(\"very bad\")"
   ]
  },
  {
   "cell_type": "code",
   "execution_count": 29,
   "id": "491d40f8",
   "metadata": {},
   "outputs": [
    {
     "name": "stdout",
     "output_type": "stream",
     "text": [
      "Bad\n"
     ]
    }
   ],
   "source": [
    "m = 45\n",
    "if m > 80:\n",
    "    print(\"Excelent\")\n",
    "elif m < 80 and m > 60:\n",
    "    print(\"Very good\")\n",
    "elif m > 60:\n",
    "    print(\"Good\")\n",
    "elif m < 60:\n",
    "    print(\"Bad\")\n",
    "else:\n",
    "    print(\"very bad\")"
   ]
  },
  {
   "cell_type": "code",
   "execution_count": 32,
   "id": "b4b53d28",
   "metadata": {},
   "outputs": [
    {
     "name": "stdout",
     "output_type": "stream",
     "text": [
      "Bad\n"
     ]
    }
   ],
   "source": [
    "m = 23\n",
    "if m > 80:\n",
    "    print(\"Excelent\")\n",
    "elif m < 80 and m > 60:\n",
    "    print(\"Very good\")\n",
    "elif m > 60:\n",
    "    print(\"Good\")\n",
    "elif m < 60:\n",
    "    print(\"Bad\")\n",
    "else:\n",
    "    print(\"very bad\")"
   ]
  },
  {
   "cell_type": "code",
   "execution_count": 36,
   "id": "7f56d405",
   "metadata": {},
   "outputs": [
    {
     "name": "stdout",
     "output_type": "stream",
     "text": [
      "very bad\n"
     ]
    }
   ],
   "source": [
    "m = 105\n",
    "if m > 80 and m < 100:\n",
    "    print(\"Excelent\")\n",
    "elif m < 80 and m > 60:\n",
    "    print(\"Very good\")\n",
    "elif m > 60 and m < 80 :\n",
    "    print(\"Good\")\n",
    "elif m < 60:\n",
    "    print(\"Bad\")\n",
    "else:\n",
    "    print(\"very bad\")"
   ]
  },
  {
   "cell_type": "code",
   "execution_count": 42,
   "id": "0d5a554c",
   "metadata": {},
   "outputs": [
    {
     "name": "stdout",
     "output_type": "stream",
     "text": [
      "yes\n"
     ]
    },
    {
     "name": "stderr",
     "output_type": "stream",
     "text": [
      "<>:2: SyntaxWarning: \"is\" with a literal. Did you mean \"==\"?\n",
      "<>:2: SyntaxWarning: \"is\" with a literal. Did you mean \"==\"?\n",
      "<ipython-input-42-473a875a3e3f>:2: SyntaxWarning: \"is\" with a literal. Did you mean \"==\"?\n",
      "  if (a is 45):\n"
     ]
    }
   ],
   "source": [
    "a = 45\n",
    "if (a is 45):\n",
    "    print(\"yes\")\n",
    "else:\n",
    "    print(\"no\")"
   ]
  },
  {
   "cell_type": "code",
   "execution_count": 44,
   "id": "ad42182d",
   "metadata": {},
   "outputs": [
    {
     "name": "stdout",
     "output_type": "stream",
     "text": [
      "True\n"
     ]
    }
   ],
   "source": [
    "a = [23, 12, 67]\n",
    "print(12 in a)"
   ]
  },
  {
   "cell_type": "code",
   "execution_count": 45,
   "id": "37589506",
   "metadata": {},
   "outputs": [
    {
     "name": "stdout",
     "output_type": "stream",
     "text": [
      "False\n"
     ]
    }
   ],
   "source": [
    "a = [23, 12, 67]\n",
    "print(45 in a)"
   ]
  },
  {
   "cell_type": "code",
   "execution_count": null,
   "id": "04a36a91",
   "metadata": {},
   "outputs": [],
   "source": [
    "# PRACTICE SET\n",
    "num1 = input(\"Enter the num1: \")\n",
    "num2 = input(\"Enter the num2: \")\n",
    "num3 = input(\"Enter the num3: \")\n",
    "num4 = input(\"Enter the num4: \")\n",
    "\n",
    "if num1 > num3:\n",
    "    f1 = num1\n",
    "else:\n",
    "    f1 = num3\n",
    "    \n",
    "if num2 > num4:\n",
    "    f2 = num2\n",
    "else:\n",
    "    f2 = num4\n",
    "    \n",
    "if f1 > f2:\n",
    "    print(\"greater\")\n",
    "else:\n",
    "    print(\"lasser\")\n",
    "\n",
    "    "
   ]
  },
  {
   "cell_type": "code",
   "execution_count": 55,
   "id": "0a634fa1",
   "metadata": {},
   "outputs": [
    {
     "name": "stdout",
     "output_type": "stream",
     "text": [
      "Enter your marks sub1: 34\n",
      "Enter your marks sub2: 77\n",
      "Enter your marks sub3: 56\n",
      "pass\n"
     ]
    }
   ],
   "source": [
    "sub1 = int(input(\"Enter your marks sub1: \"))\n",
    "sub2 = int(input(\"Enter your marks sub2: \"))\n",
    "sub3 = int(input(\"Enter your marks sub3: \"))\n",
    "\n",
    "if (sub1<33 or sub2<33 or sub3<33):\n",
    "    print(\"fail\")\n",
    "elif ((sub1+sub2+sub3)/3 <40):\n",
    "    print(\"you are fail \")\n",
    "else:\n",
    "    print(\"pass\")"
   ]
  },
  {
   "cell_type": "code",
   "execution_count": null,
   "id": "56a57b2d",
   "metadata": {},
   "outputs": [],
   "source": []
  },
  {
   "cell_type": "markdown",
   "id": "6f893916",
   "metadata": {},
   "source": [
    " "
   ]
  }
 ],
 "metadata": {
  "kernelspec": {
   "display_name": "Python 3",
   "language": "python",
   "name": "python3"
  },
  "language_info": {
   "codemirror_mode": {
    "name": "ipython",
    "version": 3
   },
   "file_extension": ".py",
   "mimetype": "text/x-python",
   "name": "python",
   "nbconvert_exporter": "python",
   "pygments_lexer": "ipython3",
   "version": "3.8.8"
  }
 },
 "nbformat": 4,
 "nbformat_minor": 5
}
