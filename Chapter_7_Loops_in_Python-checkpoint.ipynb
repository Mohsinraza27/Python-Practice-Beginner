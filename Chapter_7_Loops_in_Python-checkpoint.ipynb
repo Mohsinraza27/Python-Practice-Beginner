{
 "cells": [
  {
   "cell_type": "code",
   "execution_count": 2,
   "id": "da12fbff",
   "metadata": {},
   "outputs": [
    {
     "name": "stdout",
     "output_type": "stream",
     "text": [
      "1\n",
      "2\n",
      "3\n",
      "4\n",
      "5\n",
      "6\n",
      "7\n",
      "8\n",
      "9\n",
      "10\n"
     ]
    }
   ],
   "source": [
    "i =0\n",
    "while (i < 10):               # While loop\n",
    "    i =i + 1\n",
    "    print(i)"
   ]
  },
  {
   "cell_type": "code",
   "execution_count": 5,
   "id": "1aaa9653",
   "metadata": {},
   "outputs": [
    {
     "name": "stdout",
     "output_type": "stream",
     "text": [
      "Mohsin 0\n",
      "Mohsin 1\n",
      "Mohsin 2\n",
      "Mohsin 3\n",
      "Mohsin 4\n",
      "Mohsin 5\n"
     ]
    }
   ],
   "source": [
    "i =0\n",
    "while (i <6):               # While loop\n",
    "    print(\"Mohsin\" , i)\n",
    "    i = i + 1"
   ]
  },
  {
   "cell_type": "code",
   "execution_count": null,
   "id": "cde65649",
   "metadata": {},
   "outputs": [],
   "source": [
    "while i <10:               # While loop\n",
    "    print(i)\n",
    "    "
   ]
  },
  {
   "cell_type": "code",
   "execution_count": 1,
   "id": "089e2677",
   "metadata": {},
   "outputs": [
    {
     "name": "stdout",
     "output_type": "stream",
     "text": [
      "2\n",
      "5\n",
      "8\n",
      "4\n",
      "9\n",
      "24\n"
     ]
    }
   ],
   "source": [
    "a = [2, 5, 8, 4, 9, 24]               # While loop\n",
    "i = 0\n",
    "while i<len(a):\n",
    "    print(a[i])\n",
    "    i = i +1"
   ]
  },
  {
   "cell_type": "code",
   "execution_count": 2,
   "id": "b5e733f3",
   "metadata": {},
   "outputs": [
    {
     "name": "stdout",
     "output_type": "stream",
     "text": [
      "Harry\n",
      "Mohsin\n",
      "Raza\n",
      "Ali\n",
      "Ahmad\n"
     ]
    }
   ],
   "source": [
    "i = [\"Harry\", \"Mohsin\", \"Raza\", \"Ali\", \"Ahmad\"]               # For loop\n",
    "for item in i:\n",
    "    print(item)"
   ]
  },
  {
   "cell_type": "code",
   "execution_count": 3,
   "id": "0b0ba866",
   "metadata": {},
   "outputs": [
    {
     "name": "stdout",
     "output_type": "stream",
     "text": [
      "1\n",
      "3\n",
      "4\n",
      "6\n",
      "7\n",
      "9\n"
     ]
    }
   ],
   "source": [
    "l = [1, 3, 4, 6, 7, 9]               # For loop\n",
    "for item in l:\n",
    "    print(item)"
   ]
  },
  {
   "cell_type": "code",
   "execution_count": 5,
   "id": "24119725",
   "metadata": {},
   "outputs": [
    {
     "name": "stdout",
     "output_type": "stream",
     "text": [
      "2\n",
      "3\n",
      "4\n",
      "5\n",
      "6\n",
      "7\n",
      "8\n",
      "9\n",
      "10\n",
      "11\n",
      "12\n",
      "13\n",
      "14\n",
      "15\n",
      "16\n",
      "17\n",
      "18\n",
      "19\n"
     ]
    }
   ],
   "source": [
    "for i in range(2,20):               # Range function\n",
    "    print(i)"
   ]
  },
  {
   "cell_type": "code",
   "execution_count": 6,
   "id": "c0c8df36",
   "metadata": {},
   "outputs": [
    {
     "name": "stdout",
     "output_type": "stream",
     "text": [
      "0\n",
      "1\n",
      "2\n",
      "3\n",
      "4\n",
      "5\n",
      "6\n",
      "7\n",
      "8\n",
      "9\n"
     ]
    }
   ],
   "source": [
    "for i in range(10):               # Range function\n",
    "    print(i)"
   ]
  },
  {
   "cell_type": "code",
   "execution_count": 8,
   "id": "7dd51efc",
   "metadata": {},
   "outputs": [
    {
     "name": "stdout",
     "output_type": "stream",
     "text": [
      "Mohsin\n",
      "RAZA\n",
      "ALI\n",
      "HAMZA\n",
      "SHAN\n",
      "HAMID\n",
      "__Done__\n"
     ]
    }
   ],
   "source": [
    "a = [\"Mohsin\", \"RAZA\", \"ALI\", \"HAMZA\", \"SHAN\", \"HAMID\"]                #  'For' loop with 'else'\n",
    "for item in a:\n",
    "   print(item) \n",
    "else:\n",
    "    print(\"__Done__\")"
   ]
  },
  {
   "cell_type": "code",
   "execution_count": 9,
   "id": "dfb50624",
   "metadata": {},
   "outputs": [
    {
     "name": "stdout",
     "output_type": "stream",
     "text": [
      "18\n",
      "34\n",
      "45\n",
      "55\n",
      "67\n",
      "89\n",
      "__Done__\n"
     ]
    }
   ],
   "source": [
    "a = [18, 34, 45, 55, 67,89]               #  'For' loop with 'else'\n",
    "for item in a:\n",
    "   print(item) \n",
    "else:\n",
    "    print(\"__Done__\")"
   ]
  },
  {
   "cell_type": "code",
   "execution_count": 12,
   "id": "11662e15",
   "metadata": {},
   "outputs": [
    {
     "name": "stdout",
     "output_type": "stream",
     "text": [
      "0\n",
      "1\n",
      "2\n",
      "3\n",
      "4\n",
      "5\n",
      "6\n",
      "7\n",
      "8\n",
      "9\n",
      "10\n",
      "11\n"
     ]
    }
   ],
   "source": [
    "for i in range(0,56):               #Break statement\n",
    "    print(i)\n",
    "    if i == 11:\n",
    "        break"
   ]
  },
  {
   "cell_type": "code",
   "execution_count": 15,
   "id": "d53238da",
   "metadata": {},
   "outputs": [
    {
     "name": "stdout",
     "output_type": "stream",
     "text": [
      "1\n",
      "2\n",
      "3\n",
      "4\n",
      "5\n",
      "6\n",
      "7\n",
      "8\n",
      "9\n",
      "10\n",
      "11\n",
      "12\n",
      "13\n",
      "14\n",
      "15\n",
      "16\n",
      "17\n",
      "18\n",
      "19\n",
      "20\n",
      "21\n",
      "22\n",
      "23\n",
      "24\n",
      "1\n"
     ]
    }
   ],
   "source": [
    "for i in range(1, 45):               #Break statement\n",
    "    print(i)\n",
    "    if i > 23:\n",
    "        break\n",
    "        \n",
    "for i in range(1, 45):\n",
    "    print(i)\n",
    "    if i < 23:\n",
    "        break"
   ]
  },
  {
   "cell_type": "code",
   "execution_count": 16,
   "id": "07fc1aad",
   "metadata": {},
   "outputs": [
    {
     "name": "stdout",
     "output_type": "stream",
     "text": [
      "Mohsin\n",
      "0\n",
      "Mohsin\n",
      "1\n",
      "Mohsin\n",
      "2\n",
      "Mohsin\n",
      "3\n",
      "Mohsin\n",
      "Mohsin\n",
      "5\n",
      "Mohsin\n",
      "6\n",
      "Mohsin\n",
      "7\n",
      "Mohsin\n",
      "8\n",
      "Mohsin\n",
      "9\n"
     ]
    }
   ],
   "source": [
    "for i in range(10):               #Continue statement, skip value\n",
    "    print(\"Mohsin\")\n",
    "    if i == 4:\n",
    "        continue\n",
    "    print(i)\n",
    "    "
   ]
  },
  {
   "cell_type": "code",
   "execution_count": 19,
   "id": "3c2a43ea",
   "metadata": {},
   "outputs": [],
   "source": [
    "l = [1, 4, 8]                #Pass statement\n",
    "for items in l:\n",
    "    pass"
   ]
  },
  {
   "cell_type": "code",
   "execution_count": 4,
   "id": "2504c2bb",
   "metadata": {},
   "outputs": [
    {
     "name": "stdout",
     "output_type": "stream",
     "text": [
      "Enter your number: 3\n",
      "3X1=3\n",
      "3X2=6\n",
      "3X3=9\n",
      "3X4=12\n",
      "3X5=15\n",
      "3X6=18\n",
      "3X7=21\n",
      "3X8=24\n",
      "3X9=27\n",
      "3X10=30\n",
      "Enter your number: 6\n",
      "6 X 1 = 6\n",
      "6 X 2 = 12\n",
      "6 X 3 = 18\n",
      "6 X 4 = 24\n",
      "6 X 5 = 30\n",
      "6 X 6 = 36\n",
      "6 X 7 = 42\n",
      "6 X 8 = 48\n",
      "6 X 9 = 54\n",
      "6 X 10 = 60\n"
     ]
    }
   ],
   "source": [
    "#PRSCTIC SET\n",
    "num = int(input(\"Enter your number: \"))\n",
    "for i in range(1,11):\n",
    "    print(str(num) +  \"X\"  + str(i) +  \"=\"  +  str(i*num) )       #Metod 01\n",
    "#    i = i +1\n",
    "    \n",
    "num = int(input(\"Enter your number: \"))         #Method 02\n",
    "for i in range(1,11):\n",
    "    print(f\"{num} X {i} = {num*i}\" )\n",
    "#    i = i +1"
   ]
  },
  {
   "cell_type": "code",
   "execution_count": 9,
   "id": "b79ebd39",
   "metadata": {},
   "outputs": [
    {
     "name": "stdout",
     "output_type": "stream",
     "text": [
      "Hello Ali\n",
      "Hello Ahmed\n",
      "Hello Abdullah\n"
     ]
    }
   ],
   "source": [
    "#PR 02\n",
    "l = [\"Mohsin\", \"Raza\", \"Ali\", \"Ahmed\", \"Abdullah\"]\n",
    "for name in l:\n",
    "    if name.startswith(\"A\"):\n",
    "        print(\"Hello \" +  name)\n",
    "    "
   ]
  },
  {
   "cell_type": "code",
   "execution_count": null,
   "id": "2ef266fb",
   "metadata": {},
   "outputs": [],
   "source": [
    "#PR 03\n"
   ]
  },
  {
   "cell_type": "code",
   "execution_count": 13,
   "id": "871384e3",
   "metadata": {},
   "outputs": [
    {
     "name": "stdout",
     "output_type": "stream",
     "text": [
      "Enter your number: 34\n",
      "This number is not a prime.\n"
     ]
    }
   ],
   "source": [
    "#PR 04\n",
    "num = int(input(\"Enter your number: \"))\n",
    "prime = True\n",
    "for i in range(2, num):\n",
    "    if(num%i == 0):\n",
    "        prime = False\n",
    "        break\n",
    "if prime:\n",
    "    print(\"This number is not a prime.\")\n",
    "else:\n",
    "    print(\"This number is not a prime.\")\n"
   ]
  },
  {
   "cell_type": "code",
   "execution_count": null,
   "id": "c10431c9",
   "metadata": {},
   "outputs": [],
   "source": [
    "#PR 05"
   ]
  },
  {
   "cell_type": "code",
   "execution_count": 16,
   "id": "a06665c3",
   "metadata": {},
   "outputs": [
    {
     "name": "stdout",
     "output_type": "stream",
     "text": [
      "Enter your number: 5\n",
      "The factorial of 5 is 120\n",
      "Enter your number: 2\n",
      "The factorial of 2 is 2\n"
     ]
    }
   ],
   "source": [
    "#PR 06\n",
    "# n! = 1 X 2 X 3 X 4.......X n \n",
    "num = int(input(\"Enter your number: \"))\n",
    "factorial = 1\n",
    "for i in range(1, num+1):\n",
    "    factorial = factorial * i\n",
    "print(f\"The factorial of {num} is {factorial}\")\n",
    "\n",
    "num = int(input(\"Enter your number: \"))\n",
    "factorial = 1\n",
    "for i in range(1, num+1):\n",
    "    factorial = factorial * i\n",
    "print(f\"The factorial of {num} is {factorial}\")"
   ]
  },
  {
   "cell_type": "code",
   "execution_count": 18,
   "id": "3a068511",
   "metadata": {},
   "outputs": [
    {
     "name": "stdout",
     "output_type": "stream",
     "text": [
      "  *  \n",
      " *** \n",
      "*****\n"
     ]
    }
   ],
   "source": [
    "#PR 07\n",
    "n =3\n",
    "for i in range(3):\n",
    "    print(\" \" * (n - i - 1), end=\"\")\n",
    "    print(\"*\" * (2 * i + 1), end=\"\")\n",
    "    print(\" \" * (n - i - 1))"
   ]
  },
  {
   "cell_type": "code",
   "execution_count": 17,
   "id": "273bef06",
   "metadata": {},
   "outputs": [
    {
     "name": "stdout",
     "output_type": "stream",
     "text": [
      "\n",
      "*\n",
      "**\n",
      "***\n"
     ]
    }
   ],
   "source": [
    "#PR 08\n",
    "n = 4\n",
    "for i in range(4):\n",
    "    print(\"*\"*i)"
   ]
  },
  {
   "cell_type": "code",
   "execution_count": null,
   "id": "65e62787",
   "metadata": {},
   "outputs": [],
   "source": [
    "#PR 09"
   ]
  }
 ],
 "metadata": {
  "kernelspec": {
   "display_name": "Python 3",
   "language": "python",
   "name": "python3"
  },
  "language_info": {
   "codemirror_mode": {
    "name": "ipython",
    "version": 3
   },
   "file_extension": ".py",
   "mimetype": "text/x-python",
   "name": "python",
   "nbconvert_exporter": "python",
   "pygments_lexer": "ipython3",
   "version": "3.8.8"
  }
 },
 "nbformat": 4,
 "nbformat_minor": 5
}
