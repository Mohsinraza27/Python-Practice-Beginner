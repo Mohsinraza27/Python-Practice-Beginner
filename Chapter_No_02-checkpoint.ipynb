{
 "cells": [
  {
   "cell_type": "markdown",
   "id": "f7e20b87",
   "metadata": {},
   "source": [
    "# Variables and datatypes"
   ]
  },
  {
   "cell_type": "markdown",
   "id": "66a42f98",
   "metadata": {},
   "source": [
    "A 'variable' is the name given to a memory location in a program "
   ]
  },
  {
   "cell_type": "code",
   "execution_count": 1,
   "id": "d4e2f64f",
   "metadata": {},
   "outputs": [
    {
     "name": "stdout",
     "output_type": "stream",
     "text": [
      "30\n",
      "30.5\n",
      "30\n"
     ]
    }
   ],
   "source": [
    "a = 30\n",
    "b = 30.5\n",
    "c = '30'\n",
    "print(a)\n",
    "print(b)\n",
    "print(c)"
   ]
  },
  {
   "cell_type": "markdown",
   "id": "61eb1488",
   "metadata": {},
   "source": [
    "Data Types"
   ]
  },
  {
   "cell_type": "markdown",
   "id": "d4a60386",
   "metadata": {},
   "source": [
    "1_Integer,   2_Floating point numbers, \n",
    "3_strings,   3_Booleans,    5_None"
   ]
  },
  {
   "cell_type": "markdown",
   "id": "c7db64e5",
   "metadata": {},
   "source": [
    "Rules for defining a variable name"
   ]
  },
  {
   "cell_type": "markdown",
   "id": "4ac0b47d",
   "metadata": {},
   "source": [
    "---> A variable name can contain alphabets(a,b,...z), digits(1,2,3,....) and underscores(_)"
   ]
  },
  {
   "cell_type": "markdown",
   "id": "dcdfaed6",
   "metadata": {},
   "source": [
    "---> A variable name can only start with an alphabet(a,b,...z) and underscore(_)."
   ]
  },
  {
   "cell_type": "markdown",
   "id": "554e2974",
   "metadata": {},
   "source": [
    "---> A variable name can't start with a digit(1a, 2a, etc.)"
   ]
  },
  {
   "cell_type": "markdown",
   "id": "0082990f",
   "metadata": {},
   "source": [
    "---> No while space is allowed to be used inside a variable name."
   ]
  },
  {
   "cell_type": "code",
   "execution_count": 2,
   "id": "c46bdba8",
   "metadata": {},
   "outputs": [
    {
     "name": "stdout",
     "output_type": "stream",
     "text": [
      "30\n",
      "30.5\n",
      "30\n",
      "None\n",
      "True\n"
     ]
    }
   ],
   "source": [
    "a = 30\n",
    "b = 30.5\n",
    "c = '30'\n",
    "d = None\n",
    "e = True\n",
    "print(a)\n",
    "print(b)\n",
    "print(c)\n",
    "print(d)\n",
    "print(e)"
   ]
  },
  {
   "cell_type": "code",
   "execution_count": 3,
   "id": "74db1440",
   "metadata": {},
   "outputs": [
    {
     "name": "stdout",
     "output_type": "stream",
     "text": [
      "<class 'int'>\n",
      "<class 'float'>\n",
      "<class 'str'>\n",
      "<class 'NoneType'>\n",
      "<class 'bool'>\n"
     ]
    }
   ],
   "source": [
    "print(type(a))\n",
    "print(type(b))\n",
    "print(type(c))\n",
    "print(type(d))\n",
    "print(type(e))"
   ]
  },
  {
   "cell_type": "code",
   "execution_count": 4,
   "id": "6100757e",
   "metadata": {},
   "outputs": [
    {
     "data": {
      "text/plain": [
       "'31'"
      ]
     },
     "execution_count": 4,
     "metadata": {},
     "output_type": "execute_result"
    }
   ],
   "source": [
    "str(31)"
   ]
  },
  {
   "cell_type": "code",
   "execution_count": 5,
   "id": "7806bc6f",
   "metadata": {},
   "outputs": [
    {
     "data": {
      "text/plain": [
       "31"
      ]
     },
     "execution_count": 5,
     "metadata": {},
     "output_type": "execute_result"
    }
   ],
   "source": [
    "int('31')"
   ]
  },
  {
   "cell_type": "code",
   "execution_count": 6,
   "id": "ecec77e5",
   "metadata": {},
   "outputs": [
    {
     "data": {
      "text/plain": [
       "31.0"
      ]
     },
     "execution_count": 6,
     "metadata": {},
     "output_type": "execute_result"
    }
   ],
   "source": [
    "float(31)"
   ]
  },
  {
   "cell_type": "markdown",
   "id": "020b85fc",
   "metadata": {},
   "source": [
    "# Operators in Python"
   ]
  },
  {
   "cell_type": "markdown",
   "id": "6cfd559f",
   "metadata": {},
   "source": [
    "1...__. Arithmetic operators(+, -, *, /, etc.),   2...__.Assignment operators(=, +=, -=, etc.),   3...__.Comparison operators(==, >, <, >=, !=, etc.),   4...__.Logical operators(and, or, not) "
   ]
  },
  {
   "cell_type": "code",
   "execution_count": 7,
   "id": "8be79763",
   "metadata": {},
   "outputs": [
    {
     "name": "stdout",
     "output_type": "stream",
     "text": [
      "55\n"
     ]
    }
   ],
   "source": [
    "a = 21\n",
    "b = 34\n",
    "print(a+b)"
   ]
  },
  {
   "cell_type": "code",
   "execution_count": 8,
   "id": "a26437ef",
   "metadata": {},
   "outputs": [
    {
     "name": "stdout",
     "output_type": "stream",
     "text": [
      "-13\n"
     ]
    }
   ],
   "source": [
    "a = 21\n",
    "b = 34\n",
    "print(a-b)"
   ]
  },
  {
   "cell_type": "code",
   "execution_count": 9,
   "id": "4efaee85",
   "metadata": {},
   "outputs": [
    {
     "name": "stdout",
     "output_type": "stream",
     "text": [
      "714\n"
     ]
    }
   ],
   "source": [
    "a = 21\n",
    "b = 34\n",
    "print(a*b)"
   ]
  },
  {
   "cell_type": "code",
   "execution_count": 10,
   "id": "57ab06e3",
   "metadata": {},
   "outputs": [
    {
     "name": "stdout",
     "output_type": "stream",
     "text": [
      "1.619047619047619\n"
     ]
    }
   ],
   "source": [
    "a = 21\n",
    "b = 34\n",
    "print(b/a)"
   ]
  },
  {
   "cell_type": "code",
   "execution_count": 11,
   "id": "78009424",
   "metadata": {},
   "outputs": [
    {
     "name": "stdout",
     "output_type": "stream",
     "text": [
      "55\n"
     ]
    }
   ],
   "source": [
    "a = 21\n",
    "b = 34\n",
    "print(a+b)"
   ]
  },
  {
   "cell_type": "code",
   "execution_count": 12,
   "id": "cf186e0a",
   "metadata": {},
   "outputs": [
    {
     "name": "stdout",
     "output_type": "stream",
     "text": [
      "76\n"
     ]
    }
   ],
   "source": [
    "a += 21\n",
    "b = 34\n",
    "print(a+b)"
   ]
  },
  {
   "cell_type": "code",
   "execution_count": 13,
   "id": "7d98fc93",
   "metadata": {},
   "outputs": [
    {
     "name": "stdout",
     "output_type": "stream",
     "text": [
      "89\n"
     ]
    }
   ],
   "source": [
    "a -= 21\n",
    "b += 34\n",
    "print(a+b)"
   ]
  },
  {
   "cell_type": "code",
   "execution_count": 14,
   "id": "dd09cdf2",
   "metadata": {},
   "outputs": [
    {
     "name": "stdout",
     "output_type": "stream",
     "text": [
      "True\n"
     ]
    }
   ],
   "source": [
    "a = 21\n",
    "b = 34\n",
    "print(a<b)"
   ]
  },
  {
   "cell_type": "code",
   "execution_count": 15,
   "id": "fd0e5e86",
   "metadata": {},
   "outputs": [
    {
     "name": "stdout",
     "output_type": "stream",
     "text": [
      "False\n"
     ]
    }
   ],
   "source": [
    "a = 21\n",
    "b = 34\n",
    "print(a>b)"
   ]
  },
  {
   "cell_type": "code",
   "execution_count": 16,
   "id": "884b4889",
   "metadata": {},
   "outputs": [
    {
     "name": "stdout",
     "output_type": "stream",
     "text": [
      "False\n"
     ]
    }
   ],
   "source": [
    "a = 21\n",
    "b = 34\n",
    "print(a==b)"
   ]
  },
  {
   "cell_type": "code",
   "execution_count": 17,
   "id": "c9631470",
   "metadata": {},
   "outputs": [
    {
     "name": "stdout",
     "output_type": "stream",
     "text": [
      "False\n"
     ]
    }
   ],
   "source": [
    "a = 21\n",
    "b = 34\n",
    "print(a>=b)"
   ]
  },
  {
   "cell_type": "code",
   "execution_count": 18,
   "id": "f6ef8edd",
   "metadata": {},
   "outputs": [
    {
     "name": "stdout",
     "output_type": "stream",
     "text": [
      "True\n"
     ]
    }
   ],
   "source": [
    "a = 21\n",
    "b = 34\n",
    "print(a<=b)"
   ]
  },
  {
   "cell_type": "code",
   "execution_count": 19,
   "id": "1f316f9c",
   "metadata": {},
   "outputs": [
    {
     "name": "stdout",
     "output_type": "stream",
     "text": [
      "34\n"
     ]
    }
   ],
   "source": [
    "a = 21\n",
    "b = 34\n",
    "print(a and b)"
   ]
  },
  {
   "cell_type": "code",
   "execution_count": 20,
   "id": "5ba681ca",
   "metadata": {},
   "outputs": [
    {
     "name": "stdout",
     "output_type": "stream",
     "text": [
      "False\n"
     ]
    }
   ],
   "source": [
    "a = False\n",
    "b = True\n",
    "print(a and b)"
   ]
  },
  {
   "cell_type": "code",
   "execution_count": 21,
   "id": "91aa4e64",
   "metadata": {},
   "outputs": [
    {
     "name": "stdout",
     "output_type": "stream",
     "text": [
      "21\n"
     ]
    }
   ],
   "source": [
    "a = 21\n",
    "b = 34\n",
    "print(a or b)"
   ]
  },
  {
   "cell_type": "code",
   "execution_count": 22,
   "id": "ee1226b4",
   "metadata": {},
   "outputs": [
    {
     "name": "stdout",
     "output_type": "stream",
     "text": [
      "True\n"
     ]
    }
   ],
   "source": [
    "a = False\n",
    "b = True\n",
    "print(a or b)"
   ]
  },
  {
   "cell_type": "code",
   "execution_count": 23,
   "id": "ed000b46",
   "metadata": {},
   "outputs": [
    {
     "name": "stdout",
     "output_type": "stream",
     "text": [
      "False\n"
     ]
    }
   ],
   "source": [
    "a = 21\n",
    "b = 34\n",
    "print(not b)"
   ]
  },
  {
   "cell_type": "code",
   "execution_count": 24,
   "id": "71737999",
   "metadata": {},
   "outputs": [
    {
     "name": "stdout",
     "output_type": "stream",
     "text": [
      "True\n"
     ]
    }
   ],
   "source": [
    "a = True\n",
    "b = False\n",
    "print(not b)"
   ]
  },
  {
   "cell_type": "markdown",
   "id": "344b9c3d",
   "metadata": {},
   "source": [
    "# input() function"
   ]
  },
  {
   "cell_type": "markdown",
   "id": "e225d316",
   "metadata": {},
   "source": [
    "This function allows thw user to take input from the keyboard as a string[input=' ']"
   ]
  },
  {
   "cell_type": "code",
   "execution_count": 28,
   "id": "0eb9a2d4",
   "metadata": {},
   "outputs": [
    {
     "name": "stdout",
     "output_type": "stream",
     "text": [
      "Enter the number:-54\n",
      "54\n",
      "108\n"
     ]
    }
   ],
   "source": [
    "a = input(\"Enter the number:-\")\n",
    "print(a)\n",
    "print(int(a)+54)"
   ]
  },
  {
   "cell_type": "code",
   "execution_count": 31,
   "id": "c56f5115",
   "metadata": {},
   "outputs": [
    {
     "name": "stdout",
     "output_type": "stream",
     "text": [
      "Enter the number 1:- 34\n",
      "Enter the number 2:- 12\n",
      "34\n",
      "46\n",
      "22\n",
      "408\n",
      "2.8333333333333335\n",
      "True\n",
      "False\n",
      "True\n",
      "False\n",
      "False\n",
      "12\n",
      "34\n",
      "False\n"
     ]
    }
   ],
   "source": [
    "a = input(\"Enter the number 1:- \")\n",
    "b = input(\"Enter the number 2:- \")\n",
    "print(a)\n",
    "print(int(a)+int(b))\n",
    "print(int(a)-int(b))\n",
    "print(int(a)*int(b))\n",
    "print(int(a)/int(b))\n",
    "print(int(a)>int(b))\n",
    "print(int(a)<int(b))\n",
    "print(int(a)>=int(b))\n",
    "print(int(a)<=int(b))\n",
    "print(int(a)==int(b))\n",
    "#print(int(a)+=int(b))\n",
    "print(int(a) and int(b))\n",
    "print(int(a) or int(b))\n",
    "print(not int(b))"
   ]
  },
  {
   "cell_type": "code",
   "execution_count": 32,
   "id": "e3a91a0a",
   "metadata": {},
   "outputs": [
    {
     "name": "stdout",
     "output_type": "stream",
     "text": [
      "Enter the number 1:- 65\n",
      "Enter the number 2:- 65\n",
      "65\n",
      "130\n",
      "0\n",
      "4225\n",
      "1.0\n",
      "False\n",
      "False\n",
      "True\n",
      "True\n",
      "True\n",
      "65\n",
      "65\n",
      "False\n"
     ]
    }
   ],
   "source": [
    "a = input(\"Enter the number 1:- \")\n",
    "b = input(\"Enter the number 2:- \")\n",
    "print(a)\n",
    "print(int(a)+int(b))\n",
    "print(int(a)-int(b))\n",
    "print(int(a)*int(b))\n",
    "print(int(a)/int(b))\n",
    "print(int(a)>int(b))\n",
    "print(int(a)<int(b))\n",
    "print(int(a)>=int(b))\n",
    "print(int(a)<=int(b))\n",
    "print(int(a)==int(b))\n",
    "#print(int(a)+=int(b))\n",
    "print(int(a) and int(b))\n",
    "print(int(a) or int(b))\n",
    "print(not int(b))"
   ]
  },
  {
   "cell_type": "code",
   "execution_count": null,
   "id": "7d983ab4",
   "metadata": {},
   "outputs": [],
   "source": []
  },
  {
   "cell_type": "code",
   "execution_count": 36,
   "id": "9c65f4f3",
   "metadata": {},
   "outputs": [
    {
     "name": "stdout",
     "output_type": "stream",
     "text": [
      "Enter the number :- 55\n",
      "Enter the number :- 7\n",
      "55\n",
      "7\n"
     ]
    }
   ],
   "source": [
    "a = input(\"Enter the number :- \")\n",
    "b = input(\"Enter the number :- \")\n",
    "print(a)\n",
    "print(b)\n"
   ]
  },
  {
   "cell_type": "code",
   "execution_count": 40,
   "id": "604709e6",
   "metadata": {},
   "outputs": [
    {
     "name": "stdout",
     "output_type": "stream",
     "text": [
      "False\n",
      "False\n"
     ]
    }
   ],
   "source": [
    "a = 34\n",
    "b =87\n",
    "print((a % b)==0)\n",
    "print((b % a)==0)"
   ]
  },
  {
   "cell_type": "code",
   "execution_count": 42,
   "id": "20ebbc8d",
   "metadata": {},
   "outputs": [
    {
     "name": "stdout",
     "output_type": "stream",
     "text": [
      "False\n"
     ]
    }
   ],
   "source": [
    "a = 45\n",
    "b = 45\n",
    "print((a%2)==0)"
   ]
  },
  {
   "cell_type": "code",
   "execution_count": 43,
   "id": "c6bb3340",
   "metadata": {},
   "outputs": [
    {
     "name": "stdout",
     "output_type": "stream",
     "text": [
      "Enter the number :- 34\n",
      "Enter the number :- 45\n",
      "39.5\n"
     ]
    }
   ],
   "source": [
    "a = input(\"Enter the number :- \")\n",
    "b = input(\"Enter the number :- \")\n",
    "c = (int(a)+int(b))/2\n",
    "print(c)\n"
   ]
  },
  {
   "cell_type": "code",
   "execution_count": null,
   "id": "1ac3ace8",
   "metadata": {},
   "outputs": [],
   "source": []
  }
 ],
 "metadata": {
  "kernelspec": {
   "display_name": "Python 3 (ipykernel)",
   "language": "python",
   "name": "python3"
  },
  "language_info": {
   "codemirror_mode": {
    "name": "ipython",
    "version": 3
   },
   "file_extension": ".py",
   "mimetype": "text/x-python",
   "name": "python",
   "nbconvert_exporter": "python",
   "pygments_lexer": "ipython3",
   "version": "3.8.8"
  }
 },
 "nbformat": 4,
 "nbformat_minor": 5
}
