{
 "cells": [
  {
   "cell_type": "code",
   "execution_count": 1,
   "id": "1b5469ca",
   "metadata": {},
   "outputs": [],
   "source": [
    "import random"
   ]
  },
  {
   "cell_type": "code",
   "execution_count": 2,
   "id": "843c8093",
   "metadata": {},
   "outputs": [
    {
     "data": {
      "text/plain": [
       "<bound method Random.betavariate of <random.Random object at 0x000002B36E2A6550>>"
      ]
     },
     "execution_count": 2,
     "metadata": {},
     "output_type": "execute_result"
    }
   ],
   "source": [
    "random.betavariate"
   ]
  },
  {
   "cell_type": "code",
   "execution_count": 3,
   "id": "38cfc76d",
   "metadata": {},
   "outputs": [
    {
     "name": "stdout",
     "output_type": "stream",
     "text": [
      "Help on method betavariate in module random:\n",
      "\n",
      "betavariate(alpha, beta) method of random.Random instance\n",
      "    Beta distribution.\n",
      "    \n",
      "    Conditions on the parameters are alpha > 0 and beta > 0.\n",
      "    Returned values range between 0 and 1.\n",
      "\n"
     ]
    }
   ],
   "source": [
    "help(random.betavariate)"
   ]
  },
  {
   "cell_type": "code",
   "execution_count": 4,
   "id": "8fbd9699",
   "metadata": {},
   "outputs": [
    {
     "data": {
      "text/plain": [
       "53"
      ]
     },
     "execution_count": 4,
     "metadata": {},
     "output_type": "execute_result"
    }
   ],
   "source": [
    "random.BPF"
   ]
  },
  {
   "cell_type": "code",
   "execution_count": 5,
   "id": "d0bf98fb",
   "metadata": {},
   "outputs": [
    {
     "name": "stdout",
     "output_type": "stream",
     "text": [
      "Help on int object:\n",
      "\n",
      "class int(object)\n",
      " |  int([x]) -> integer\n",
      " |  int(x, base=10) -> integer\n",
      " |  \n",
      " |  Convert a number or string to an integer, or return 0 if no arguments\n",
      " |  are given.  If x is a number, return x.__int__().  For floating point\n",
      " |  numbers, this truncates towards zero.\n",
      " |  \n",
      " |  If x is not a number or if base is given, then x must be a string,\n",
      " |  bytes, or bytearray instance representing an integer literal in the\n",
      " |  given base.  The literal can be preceded by '+' or '-' and be surrounded\n",
      " |  by whitespace.  The base defaults to 10.  Valid bases are 0 and 2-36.\n",
      " |  Base 0 means to interpret the base from the string as an integer literal.\n",
      " |  >>> int('0b100', base=0)\n",
      " |  4\n",
      " |  \n",
      " |  Built-in subclasses:\n",
      " |      bool\n",
      " |  \n",
      " |  Methods defined here:\n",
      " |  \n",
      " |  __abs__(self, /)\n",
      " |      abs(self)\n",
      " |  \n",
      " |  __add__(self, value, /)\n",
      " |      Return self+value.\n",
      " |  \n",
      " |  __and__(self, value, /)\n",
      " |      Return self&value.\n",
      " |  \n",
      " |  __bool__(self, /)\n",
      " |      self != 0\n",
      " |  \n",
      " |  __ceil__(...)\n",
      " |      Ceiling of an Integral returns itself.\n",
      " |  \n",
      " |  __divmod__(self, value, /)\n",
      " |      Return divmod(self, value).\n",
      " |  \n",
      " |  __eq__(self, value, /)\n",
      " |      Return self==value.\n",
      " |  \n",
      " |  __float__(self, /)\n",
      " |      float(self)\n",
      " |  \n",
      " |  __floor__(...)\n",
      " |      Flooring an Integral returns itself.\n",
      " |  \n",
      " |  __floordiv__(self, value, /)\n",
      " |      Return self//value.\n",
      " |  \n",
      " |  __format__(self, format_spec, /)\n",
      " |      Default object formatter.\n",
      " |  \n",
      " |  __ge__(self, value, /)\n",
      " |      Return self>=value.\n",
      " |  \n",
      " |  __getattribute__(self, name, /)\n",
      " |      Return getattr(self, name).\n",
      " |  \n",
      " |  __getnewargs__(self, /)\n",
      " |  \n",
      " |  __gt__(self, value, /)\n",
      " |      Return self>value.\n",
      " |  \n",
      " |  __hash__(self, /)\n",
      " |      Return hash(self).\n",
      " |  \n",
      " |  __index__(self, /)\n",
      " |      Return self converted to an integer, if self is suitable for use as an index into a list.\n",
      " |  \n",
      " |  __int__(self, /)\n",
      " |      int(self)\n",
      " |  \n",
      " |  __invert__(self, /)\n",
      " |      ~self\n",
      " |  \n",
      " |  __le__(self, value, /)\n",
      " |      Return self<=value.\n",
      " |  \n",
      " |  __lshift__(self, value, /)\n",
      " |      Return self<<value.\n",
      " |  \n",
      " |  __lt__(self, value, /)\n",
      " |      Return self<value.\n",
      " |  \n",
      " |  __mod__(self, value, /)\n",
      " |      Return self%value.\n",
      " |  \n",
      " |  __mul__(self, value, /)\n",
      " |      Return self*value.\n",
      " |  \n",
      " |  __ne__(self, value, /)\n",
      " |      Return self!=value.\n",
      " |  \n",
      " |  __neg__(self, /)\n",
      " |      -self\n",
      " |  \n",
      " |  __or__(self, value, /)\n",
      " |      Return self|value.\n",
      " |  \n",
      " |  __pos__(self, /)\n",
      " |      +self\n",
      " |  \n",
      " |  __pow__(self, value, mod=None, /)\n",
      " |      Return pow(self, value, mod).\n",
      " |  \n",
      " |  __radd__(self, value, /)\n",
      " |      Return value+self.\n",
      " |  \n",
      " |  __rand__(self, value, /)\n",
      " |      Return value&self.\n",
      " |  \n",
      " |  __rdivmod__(self, value, /)\n",
      " |      Return divmod(value, self).\n",
      " |  \n",
      " |  __repr__(self, /)\n",
      " |      Return repr(self).\n",
      " |  \n",
      " |  __rfloordiv__(self, value, /)\n",
      " |      Return value//self.\n",
      " |  \n",
      " |  __rlshift__(self, value, /)\n",
      " |      Return value<<self.\n",
      " |  \n",
      " |  __rmod__(self, value, /)\n",
      " |      Return value%self.\n",
      " |  \n",
      " |  __rmul__(self, value, /)\n",
      " |      Return value*self.\n",
      " |  \n",
      " |  __ror__(self, value, /)\n",
      " |      Return value|self.\n",
      " |  \n",
      " |  __round__(...)\n",
      " |      Rounding an Integral returns itself.\n",
      " |      Rounding with an ndigits argument also returns an integer.\n",
      " |  \n",
      " |  __rpow__(self, value, mod=None, /)\n",
      " |      Return pow(value, self, mod).\n",
      " |  \n",
      " |  __rrshift__(self, value, /)\n",
      " |      Return value>>self.\n",
      " |  \n",
      " |  __rshift__(self, value, /)\n",
      " |      Return self>>value.\n",
      " |  \n",
      " |  __rsub__(self, value, /)\n",
      " |      Return value-self.\n",
      " |  \n",
      " |  __rtruediv__(self, value, /)\n",
      " |      Return value/self.\n",
      " |  \n",
      " |  __rxor__(self, value, /)\n",
      " |      Return value^self.\n",
      " |  \n",
      " |  __sizeof__(self, /)\n",
      " |      Returns size in memory, in bytes.\n",
      " |  \n",
      " |  __sub__(self, value, /)\n",
      " |      Return self-value.\n",
      " |  \n",
      " |  __truediv__(self, value, /)\n",
      " |      Return self/value.\n",
      " |  \n",
      " |  __trunc__(...)\n",
      " |      Truncating an Integral returns itself.\n",
      " |  \n",
      " |  __xor__(self, value, /)\n",
      " |      Return self^value.\n",
      " |  \n",
      " |  as_integer_ratio(self, /)\n",
      " |      Return integer ratio.\n",
      " |      \n",
      " |      Return a pair of integers, whose ratio is exactly equal to the original int\n",
      " |      and with a positive denominator.\n",
      " |      \n",
      " |      >>> (10).as_integer_ratio()\n",
      " |      (10, 1)\n",
      " |      >>> (-10).as_integer_ratio()\n",
      " |      (-10, 1)\n",
      " |      >>> (0).as_integer_ratio()\n",
      " |      (0, 1)\n",
      " |  \n",
      " |  bit_length(self, /)\n",
      " |      Number of bits necessary to represent self in binary.\n",
      " |      \n",
      " |      >>> bin(37)\n",
      " |      '0b100101'\n",
      " |      >>> (37).bit_length()\n",
      " |      6\n",
      " |  \n",
      " |  conjugate(...)\n",
      " |      Returns self, the complex conjugate of any int.\n",
      " |  \n",
      " |  to_bytes(self, /, length, byteorder, *, signed=False)\n",
      " |      Return an array of bytes representing an integer.\n",
      " |      \n",
      " |      length\n",
      " |        Length of bytes object to use.  An OverflowError is raised if the\n",
      " |        integer is not representable with the given number of bytes.\n",
      " |      byteorder\n",
      " |        The byte order used to represent the integer.  If byteorder is 'big',\n",
      " |        the most significant byte is at the beginning of the byte array.  If\n",
      " |        byteorder is 'little', the most significant byte is at the end of the\n",
      " |        byte array.  To request the native byte order of the host system, use\n",
      " |        `sys.byteorder' as the byte order value.\n",
      " |      signed\n",
      " |        Determines whether two's complement is used to represent the integer.\n",
      " |        If signed is False and a negative integer is given, an OverflowError\n",
      " |        is raised.\n",
      " |  \n",
      " |  ----------------------------------------------------------------------\n",
      " |  Class methods defined here:\n",
      " |  \n",
      " |  from_bytes(bytes, byteorder, *, signed=False) from builtins.type\n",
      " |      Return the integer represented by the given array of bytes.\n",
      " |      \n",
      " |      bytes\n",
      " |        Holds the array of bytes to convert.  The argument must either\n",
      " |        support the buffer protocol or be an iterable object producing bytes.\n",
      " |        Bytes and bytearray are examples of built-in objects that support the\n",
      " |        buffer protocol.\n",
      " |      byteorder\n",
      " |        The byte order used to represent the integer.  If byteorder is 'big',\n",
      " |        the most significant byte is at the beginning of the byte array.  If\n",
      " |        byteorder is 'little', the most significant byte is at the end of the\n",
      " |        byte array.  To request the native byte order of the host system, use\n",
      " |        `sys.byteorder' as the byte order value.\n",
      " |      signed\n",
      " |        Indicates whether two's complement is used to represent the integer.\n",
      " |  \n",
      " |  ----------------------------------------------------------------------\n",
      " |  Static methods defined here:\n",
      " |  \n",
      " |  __new__(*args, **kwargs) from builtins.type\n",
      " |      Create and return a new object.  See help(type) for accurate signature.\n",
      " |  \n",
      " |  ----------------------------------------------------------------------\n",
      " |  Data descriptors defined here:\n",
      " |  \n",
      " |  denominator\n",
      " |      the denominator of a rational number in lowest terms\n",
      " |  \n",
      " |  imag\n",
      " |      the imaginary part of a complex number\n",
      " |  \n",
      " |  numerator\n",
      " |      the numerator of a rational number in lowest terms\n",
      " |  \n",
      " |  real\n",
      " |      the real part of a complex number\n",
      "\n"
     ]
    }
   ],
   "source": [
    "help(random.BPF)"
   ]
  },
  {
   "cell_type": "code",
   "execution_count": 6,
   "id": "e22f7fbd",
   "metadata": {},
   "outputs": [
    {
     "data": {
      "text/plain": [
       "<bound method Random.choice of <random.Random object at 0x000002B36E2A6550>>"
      ]
     },
     "execution_count": 6,
     "metadata": {},
     "output_type": "execute_result"
    }
   ],
   "source": [
    "random.choice"
   ]
  },
  {
   "cell_type": "code",
   "execution_count": 7,
   "id": "ad063adf",
   "metadata": {},
   "outputs": [
    {
     "name": "stdout",
     "output_type": "stream",
     "text": [
      "Help on method choice in module random:\n",
      "\n",
      "choice(seq) method of random.Random instance\n",
      "    Choose a random element from a non-empty sequence.\n",
      "\n"
     ]
    }
   ],
   "source": [
    "help(random.choice)"
   ]
  },
  {
   "cell_type": "code",
   "execution_count": 8,
   "id": "30fb8802",
   "metadata": {},
   "outputs": [
    {
     "data": {
      "text/plain": [
       "<bound method Random.choices of <random.Random object at 0x000002B36E2A6550>>"
      ]
     },
     "execution_count": 8,
     "metadata": {},
     "output_type": "execute_result"
    }
   ],
   "source": [
    "random.choices"
   ]
  },
  {
   "cell_type": "code",
   "execution_count": 9,
   "id": "ddf147dc",
   "metadata": {},
   "outputs": [
    {
     "name": "stdout",
     "output_type": "stream",
     "text": [
      "Help on method choices in module random:\n",
      "\n",
      "choices(population, weights=None, *, cum_weights=None, k=1) method of random.Random instance\n",
      "    Return a k sized list of population elements chosen with replacement.\n",
      "    \n",
      "    If the relative weights or cumulative weights are not specified,\n",
      "    the selections are made with equal probability.\n",
      "\n"
     ]
    }
   ],
   "source": [
    "help(random.choices)"
   ]
  },
  {
   "cell_type": "code",
   "execution_count": 10,
   "id": "79cd2756",
   "metadata": {},
   "outputs": [
    {
     "data": {
      "text/plain": [
       "<bound method Random.expovariate of <random.Random object at 0x000002B36E2A6550>>"
      ]
     },
     "execution_count": 10,
     "metadata": {},
     "output_type": "execute_result"
    }
   ],
   "source": [
    "random.expovariate"
   ]
  },
  {
   "cell_type": "code",
   "execution_count": 11,
   "id": "1293131e",
   "metadata": {},
   "outputs": [
    {
     "name": "stdout",
     "output_type": "stream",
     "text": [
      "Help on method expovariate in module random:\n",
      "\n",
      "expovariate(lambd) method of random.Random instance\n",
      "    Exponential distribution.\n",
      "    \n",
      "    lambd is 1.0 divided by the desired mean.  It should be\n",
      "    nonzero.  (The parameter would be called \"lambda\", but that is\n",
      "    a reserved word in Python.)  Returned values range from 0 to\n",
      "    positive infinity if lambd is positive, and from negative\n",
      "    infinity to 0 if lambd is negative.\n",
      "\n"
     ]
    }
   ],
   "source": [
    "help(random.expovariate)"
   ]
  },
  {
   "cell_type": "code",
   "execution_count": 12,
   "id": "788ac075",
   "metadata": {},
   "outputs": [
    {
     "data": {
      "text/plain": [
       "<bound method Random.gammavariate of <random.Random object at 0x000002B36E2A6550>>"
      ]
     },
     "execution_count": 12,
     "metadata": {},
     "output_type": "execute_result"
    }
   ],
   "source": [
    "random.gammavariate"
   ]
  },
  {
   "cell_type": "code",
   "execution_count": 13,
   "id": "28440b38",
   "metadata": {},
   "outputs": [
    {
     "name": "stdout",
     "output_type": "stream",
     "text": [
      "Help on method gammavariate in module random:\n",
      "\n",
      "gammavariate(alpha, beta) method of random.Random instance\n",
      "    Gamma distribution.  Not the gamma function!\n",
      "    \n",
      "    Conditions on the parameters are alpha > 0 and beta > 0.\n",
      "    \n",
      "    The probability distribution function is:\n",
      "    \n",
      "                x ** (alpha - 1) * math.exp(-x / beta)\n",
      "      pdf(x) =  --------------------------------------\n",
      "                  math.gamma(alpha) * beta ** alpha\n",
      "\n"
     ]
    }
   ],
   "source": [
    "help(random.gammavariate)"
   ]
  },
  {
   "cell_type": "code",
   "execution_count": 14,
   "id": "7aa8022a",
   "metadata": {},
   "outputs": [
    {
     "data": {
      "text/plain": [
       "<bound method Random.gauss of <random.Random object at 0x000002B36E2A6550>>"
      ]
     },
     "execution_count": 14,
     "metadata": {},
     "output_type": "execute_result"
    }
   ],
   "source": [
    "random.gauss"
   ]
  },
  {
   "cell_type": "code",
   "execution_count": 15,
   "id": "2d69e9ac",
   "metadata": {},
   "outputs": [
    {
     "name": "stdout",
     "output_type": "stream",
     "text": [
      "Help on method gauss in module random:\n",
      "\n",
      "gauss(mu, sigma) method of random.Random instance\n",
      "    Gaussian distribution.\n",
      "    \n",
      "    mu is the mean, and sigma is the standard deviation.  This is\n",
      "    slightly faster than the normalvariate() function.\n",
      "    \n",
      "    Not thread-safe without a lock around calls.\n",
      "\n"
     ]
    }
   ],
   "source": [
    "help(random.gauss)"
   ]
  },
  {
   "cell_type": "code",
   "execution_count": 16,
   "id": "15ab1173",
   "metadata": {},
   "outputs": [
    {
     "data": {
      "text/plain": [
       "<function Random.getrandbits(k, /)>"
      ]
     },
     "execution_count": 16,
     "metadata": {},
     "output_type": "execute_result"
    }
   ],
   "source": [
    "random.getrandbits"
   ]
  },
  {
   "cell_type": "code",
   "execution_count": 17,
   "id": "99b996a2",
   "metadata": {},
   "outputs": [
    {
     "name": "stdout",
     "output_type": "stream",
     "text": [
      "Help on built-in function getrandbits:\n",
      "\n",
      "getrandbits(k, /) method of random.Random instance\n",
      "    getrandbits(k) -> x.  Generates an int with k random bits.\n",
      "\n"
     ]
    }
   ],
   "source": [
    "help(random.getrandbits)"
   ]
  },
  {
   "cell_type": "code",
   "execution_count": 18,
   "id": "8a61739f",
   "metadata": {},
   "outputs": [
    {
     "data": {
      "text/plain": [
       "<bound method Random.getstate of <random.Random object at 0x000002B36E2A6550>>"
      ]
     },
     "execution_count": 18,
     "metadata": {},
     "output_type": "execute_result"
    }
   ],
   "source": [
    "random.getstate"
   ]
  },
  {
   "cell_type": "code",
   "execution_count": 19,
   "id": "6f2dc9c5",
   "metadata": {},
   "outputs": [
    {
     "name": "stdout",
     "output_type": "stream",
     "text": [
      "Help on method getstate in module random:\n",
      "\n",
      "getstate() method of random.Random instance\n",
      "    Return internal state; can be passed to setstate() later.\n",
      "\n"
     ]
    }
   ],
   "source": [
    "help(random.getstate)"
   ]
  },
  {
   "cell_type": "code",
   "execution_count": 20,
   "id": "6e2861bb",
   "metadata": {},
   "outputs": [
    {
     "data": {
      "text/plain": [
       "1.3862943611198906"
      ]
     },
     "execution_count": 20,
     "metadata": {},
     "output_type": "execute_result"
    }
   ],
   "source": [
    "random.LOG4"
   ]
  },
  {
   "cell_type": "code",
   "execution_count": 21,
   "id": "e2ff5763",
   "metadata": {},
   "outputs": [
    {
     "name": "stdout",
     "output_type": "stream",
     "text": [
      "Help on float object:\n",
      "\n",
      "class float(object)\n",
      " |  float(x=0, /)\n",
      " |  \n",
      " |  Convert a string or number to a floating point number, if possible.\n",
      " |  \n",
      " |  Methods defined here:\n",
      " |  \n",
      " |  __abs__(self, /)\n",
      " |      abs(self)\n",
      " |  \n",
      " |  __add__(self, value, /)\n",
      " |      Return self+value.\n",
      " |  \n",
      " |  __bool__(self, /)\n",
      " |      self != 0\n",
      " |  \n",
      " |  __divmod__(self, value, /)\n",
      " |      Return divmod(self, value).\n",
      " |  \n",
      " |  __eq__(self, value, /)\n",
      " |      Return self==value.\n",
      " |  \n",
      " |  __float__(self, /)\n",
      " |      float(self)\n",
      " |  \n",
      " |  __floordiv__(self, value, /)\n",
      " |      Return self//value.\n",
      " |  \n",
      " |  __format__(self, format_spec, /)\n",
      " |      Formats the float according to format_spec.\n",
      " |  \n",
      " |  __ge__(self, value, /)\n",
      " |      Return self>=value.\n",
      " |  \n",
      " |  __getattribute__(self, name, /)\n",
      " |      Return getattr(self, name).\n",
      " |  \n",
      " |  __getnewargs__(self, /)\n",
      " |  \n",
      " |  __gt__(self, value, /)\n",
      " |      Return self>value.\n",
      " |  \n",
      " |  __hash__(self, /)\n",
      " |      Return hash(self).\n",
      " |  \n",
      " |  __int__(self, /)\n",
      " |      int(self)\n",
      " |  \n",
      " |  __le__(self, value, /)\n",
      " |      Return self<=value.\n",
      " |  \n",
      " |  __lt__(self, value, /)\n",
      " |      Return self<value.\n",
      " |  \n",
      " |  __mod__(self, value, /)\n",
      " |      Return self%value.\n",
      " |  \n",
      " |  __mul__(self, value, /)\n",
      " |      Return self*value.\n",
      " |  \n",
      " |  __ne__(self, value, /)\n",
      " |      Return self!=value.\n",
      " |  \n",
      " |  __neg__(self, /)\n",
      " |      -self\n",
      " |  \n",
      " |  __pos__(self, /)\n",
      " |      +self\n",
      " |  \n",
      " |  __pow__(self, value, mod=None, /)\n",
      " |      Return pow(self, value, mod).\n",
      " |  \n",
      " |  __radd__(self, value, /)\n",
      " |      Return value+self.\n",
      " |  \n",
      " |  __rdivmod__(self, value, /)\n",
      " |      Return divmod(value, self).\n",
      " |  \n",
      " |  __repr__(self, /)\n",
      " |      Return repr(self).\n",
      " |  \n",
      " |  __rfloordiv__(self, value, /)\n",
      " |      Return value//self.\n",
      " |  \n",
      " |  __rmod__(self, value, /)\n",
      " |      Return value%self.\n",
      " |  \n",
      " |  __rmul__(self, value, /)\n",
      " |      Return value*self.\n",
      " |  \n",
      " |  __round__(self, ndigits=None, /)\n",
      " |      Return the Integral closest to x, rounding half toward even.\n",
      " |      \n",
      " |      When an argument is passed, work like built-in round(x, ndigits).\n",
      " |  \n",
      " |  __rpow__(self, value, mod=None, /)\n",
      " |      Return pow(value, self, mod).\n",
      " |  \n",
      " |  __rsub__(self, value, /)\n",
      " |      Return value-self.\n",
      " |  \n",
      " |  __rtruediv__(self, value, /)\n",
      " |      Return value/self.\n",
      " |  \n",
      " |  __sub__(self, value, /)\n",
      " |      Return self-value.\n",
      " |  \n",
      " |  __truediv__(self, value, /)\n",
      " |      Return self/value.\n",
      " |  \n",
      " |  __trunc__(self, /)\n",
      " |      Return the Integral closest to x between 0 and x.\n",
      " |  \n",
      " |  as_integer_ratio(self, /)\n",
      " |      Return integer ratio.\n",
      " |      \n",
      " |      Return a pair of integers, whose ratio is exactly equal to the original float\n",
      " |      and with a positive denominator.\n",
      " |      \n",
      " |      Raise OverflowError on infinities and a ValueError on NaNs.\n",
      " |      \n",
      " |      >>> (10.0).as_integer_ratio()\n",
      " |      (10, 1)\n",
      " |      >>> (0.0).as_integer_ratio()\n",
      " |      (0, 1)\n",
      " |      >>> (-.25).as_integer_ratio()\n",
      " |      (-1, 4)\n",
      " |  \n",
      " |  conjugate(self, /)\n",
      " |      Return self, the complex conjugate of any float.\n",
      " |  \n",
      " |  hex(self, /)\n",
      " |      Return a hexadecimal representation of a floating-point number.\n",
      " |      \n",
      " |      >>> (-0.1).hex()\n",
      " |      '-0x1.999999999999ap-4'\n",
      " |      >>> 3.14159.hex()\n",
      " |      '0x1.921f9f01b866ep+1'\n",
      " |  \n",
      " |  is_integer(self, /)\n",
      " |      Return True if the float is an integer.\n",
      " |  \n",
      " |  ----------------------------------------------------------------------\n",
      " |  Class methods defined here:\n",
      " |  \n",
      " |  __getformat__(typestr, /) from builtins.type\n",
      " |      You probably don't want to use this function.\n",
      " |      \n",
      " |        typestr\n",
      " |          Must be 'double' or 'float'.\n",
      " |      \n",
      " |      It exists mainly to be used in Python's test suite.\n",
      " |      \n",
      " |      This function returns whichever of 'unknown', 'IEEE, big-endian' or 'IEEE,\n",
      " |      little-endian' best describes the format of floating point numbers used by the\n",
      " |      C type named by typestr.\n",
      " |  \n",
      " |  __set_format__(typestr, fmt, /) from builtins.type\n",
      " |      You probably don't want to use this function.\n",
      " |      \n",
      " |        typestr\n",
      " |          Must be 'double' or 'float'.\n",
      " |        fmt\n",
      " |          Must be one of 'unknown', 'IEEE, big-endian' or 'IEEE, little-endian',\n",
      " |          and in addition can only be one of the latter two if it appears to\n",
      " |          match the underlying C reality.\n",
      " |      \n",
      " |      It exists mainly to be used in Python's test suite.\n",
      " |      \n",
      " |      Override the automatic determination of C-level floating point type.\n",
      " |      This affects how floats are converted to and from binary strings.\n",
      " |  \n",
      " |  fromhex(string, /) from builtins.type\n",
      " |      Create a floating-point number from a hexadecimal string.\n",
      " |      \n",
      " |      >>> float.fromhex('0x1.ffffp10')\n",
      " |      2047.984375\n",
      " |      >>> float.fromhex('-0x1p-1074')\n",
      " |      -5e-324\n",
      " |  \n",
      " |  ----------------------------------------------------------------------\n",
      " |  Static methods defined here:\n",
      " |  \n",
      " |  __new__(*args, **kwargs) from builtins.type\n",
      " |      Create and return a new object.  See help(type) for accurate signature.\n",
      " |  \n",
      " |  ----------------------------------------------------------------------\n",
      " |  Data descriptors defined here:\n",
      " |  \n",
      " |  imag\n",
      " |      the imaginary part of a complex number\n",
      " |  \n",
      " |  real\n",
      " |      the real part of a complex number\n",
      "\n"
     ]
    }
   ],
   "source": [
    "help(random.LOG4)"
   ]
  },
  {
   "cell_type": "code",
   "execution_count": 22,
   "id": "d15f9afe",
   "metadata": {},
   "outputs": [
    {
     "data": {
      "text/plain": [
       "<bound method Random.lognormvariate of <random.Random object at 0x000002B36E2A6550>>"
      ]
     },
     "execution_count": 22,
     "metadata": {},
     "output_type": "execute_result"
    }
   ],
   "source": [
    "random.lognormvariate"
   ]
  },
  {
   "cell_type": "code",
   "execution_count": 23,
   "id": "ba72961a",
   "metadata": {},
   "outputs": [
    {
     "name": "stdout",
     "output_type": "stream",
     "text": [
      "Help on method lognormvariate in module random:\n",
      "\n",
      "lognormvariate(mu, sigma) method of random.Random instance\n",
      "    Log normal distribution.\n",
      "    \n",
      "    If you take the natural logarithm of this distribution, you'll get a\n",
      "    normal distribution with mean mu and standard deviation sigma.\n",
      "    mu can have any value, and sigma must be greater than zero.\n",
      "\n"
     ]
    }
   ],
   "source": [
    "help(random.lognormvariate)"
   ]
  },
  {
   "cell_type": "code",
   "execution_count": 24,
   "id": "2b445759",
   "metadata": {},
   "outputs": [
    {
     "data": {
      "text/plain": [
       "<bound method Random.normalvariate of <random.Random object at 0x000002B36E2A6550>>"
      ]
     },
     "execution_count": 24,
     "metadata": {},
     "output_type": "execute_result"
    }
   ],
   "source": [
    "random.normalvariate"
   ]
  },
  {
   "cell_type": "code",
   "execution_count": 25,
   "id": "721245e2",
   "metadata": {},
   "outputs": [
    {
     "name": "stdout",
     "output_type": "stream",
     "text": [
      "Help on method normalvariate in module random:\n",
      "\n",
      "normalvariate(mu, sigma) method of random.Random instance\n",
      "    Normal distribution.\n",
      "    \n",
      "    mu is the mean, and sigma is the standard deviation.\n",
      "\n"
     ]
    }
   ],
   "source": [
    "help(random.normalvariate)"
   ]
  },
  {
   "cell_type": "code",
   "execution_count": 26,
   "id": "fdb29c0c",
   "metadata": {},
   "outputs": [
    {
     "data": {
      "text/plain": [
       "1.7155277699214135"
      ]
     },
     "execution_count": 26,
     "metadata": {},
     "output_type": "execute_result"
    }
   ],
   "source": [
    "random.NV_MAGICCONST"
   ]
  },
  {
   "cell_type": "code",
   "execution_count": 27,
   "id": "529594f6",
   "metadata": {},
   "outputs": [
    {
     "name": "stdout",
     "output_type": "stream",
     "text": [
      "Help on float object:\n",
      "\n",
      "class float(object)\n",
      " |  float(x=0, /)\n",
      " |  \n",
      " |  Convert a string or number to a floating point number, if possible.\n",
      " |  \n",
      " |  Methods defined here:\n",
      " |  \n",
      " |  __abs__(self, /)\n",
      " |      abs(self)\n",
      " |  \n",
      " |  __add__(self, value, /)\n",
      " |      Return self+value.\n",
      " |  \n",
      " |  __bool__(self, /)\n",
      " |      self != 0\n",
      " |  \n",
      " |  __divmod__(self, value, /)\n",
      " |      Return divmod(self, value).\n",
      " |  \n",
      " |  __eq__(self, value, /)\n",
      " |      Return self==value.\n",
      " |  \n",
      " |  __float__(self, /)\n",
      " |      float(self)\n",
      " |  \n",
      " |  __floordiv__(self, value, /)\n",
      " |      Return self//value.\n",
      " |  \n",
      " |  __format__(self, format_spec, /)\n",
      " |      Formats the float according to format_spec.\n",
      " |  \n",
      " |  __ge__(self, value, /)\n",
      " |      Return self>=value.\n",
      " |  \n",
      " |  __getattribute__(self, name, /)\n",
      " |      Return getattr(self, name).\n",
      " |  \n",
      " |  __getnewargs__(self, /)\n",
      " |  \n",
      " |  __gt__(self, value, /)\n",
      " |      Return self>value.\n",
      " |  \n",
      " |  __hash__(self, /)\n",
      " |      Return hash(self).\n",
      " |  \n",
      " |  __int__(self, /)\n",
      " |      int(self)\n",
      " |  \n",
      " |  __le__(self, value, /)\n",
      " |      Return self<=value.\n",
      " |  \n",
      " |  __lt__(self, value, /)\n",
      " |      Return self<value.\n",
      " |  \n",
      " |  __mod__(self, value, /)\n",
      " |      Return self%value.\n",
      " |  \n",
      " |  __mul__(self, value, /)\n",
      " |      Return self*value.\n",
      " |  \n",
      " |  __ne__(self, value, /)\n",
      " |      Return self!=value.\n",
      " |  \n",
      " |  __neg__(self, /)\n",
      " |      -self\n",
      " |  \n",
      " |  __pos__(self, /)\n",
      " |      +self\n",
      " |  \n",
      " |  __pow__(self, value, mod=None, /)\n",
      " |      Return pow(self, value, mod).\n",
      " |  \n",
      " |  __radd__(self, value, /)\n",
      " |      Return value+self.\n",
      " |  \n",
      " |  __rdivmod__(self, value, /)\n",
      " |      Return divmod(value, self).\n",
      " |  \n",
      " |  __repr__(self, /)\n",
      " |      Return repr(self).\n",
      " |  \n",
      " |  __rfloordiv__(self, value, /)\n",
      " |      Return value//self.\n",
      " |  \n",
      " |  __rmod__(self, value, /)\n",
      " |      Return value%self.\n",
      " |  \n",
      " |  __rmul__(self, value, /)\n",
      " |      Return value*self.\n",
      " |  \n",
      " |  __round__(self, ndigits=None, /)\n",
      " |      Return the Integral closest to x, rounding half toward even.\n",
      " |      \n",
      " |      When an argument is passed, work like built-in round(x, ndigits).\n",
      " |  \n",
      " |  __rpow__(self, value, mod=None, /)\n",
      " |      Return pow(value, self, mod).\n",
      " |  \n",
      " |  __rsub__(self, value, /)\n",
      " |      Return value-self.\n",
      " |  \n",
      " |  __rtruediv__(self, value, /)\n",
      " |      Return value/self.\n",
      " |  \n",
      " |  __sub__(self, value, /)\n",
      " |      Return self-value.\n",
      " |  \n",
      " |  __truediv__(self, value, /)\n",
      " |      Return self/value.\n",
      " |  \n",
      " |  __trunc__(self, /)\n",
      " |      Return the Integral closest to x between 0 and x.\n",
      " |  \n",
      " |  as_integer_ratio(self, /)\n",
      " |      Return integer ratio.\n",
      " |      \n",
      " |      Return a pair of integers, whose ratio is exactly equal to the original float\n",
      " |      and with a positive denominator.\n",
      " |      \n",
      " |      Raise OverflowError on infinities and a ValueError on NaNs.\n",
      " |      \n",
      " |      >>> (10.0).as_integer_ratio()\n",
      " |      (10, 1)\n",
      " |      >>> (0.0).as_integer_ratio()\n",
      " |      (0, 1)\n",
      " |      >>> (-.25).as_integer_ratio()\n",
      " |      (-1, 4)\n",
      " |  \n",
      " |  conjugate(self, /)\n",
      " |      Return self, the complex conjugate of any float.\n",
      " |  \n",
      " |  hex(self, /)\n",
      " |      Return a hexadecimal representation of a floating-point number.\n",
      " |      \n",
      " |      >>> (-0.1).hex()\n",
      " |      '-0x1.999999999999ap-4'\n",
      " |      >>> 3.14159.hex()\n",
      " |      '0x1.921f9f01b866ep+1'\n",
      " |  \n",
      " |  is_integer(self, /)\n",
      " |      Return True if the float is an integer.\n",
      " |  \n",
      " |  ----------------------------------------------------------------------\n",
      " |  Class methods defined here:\n",
      " |  \n",
      " |  __getformat__(typestr, /) from builtins.type\n",
      " |      You probably don't want to use this function.\n",
      " |      \n",
      " |        typestr\n",
      " |          Must be 'double' or 'float'.\n",
      " |      \n",
      " |      It exists mainly to be used in Python's test suite.\n",
      " |      \n",
      " |      This function returns whichever of 'unknown', 'IEEE, big-endian' or 'IEEE,\n",
      " |      little-endian' best describes the format of floating point numbers used by the\n",
      " |      C type named by typestr.\n",
      " |  \n",
      " |  __set_format__(typestr, fmt, /) from builtins.type\n",
      " |      You probably don't want to use this function.\n",
      " |      \n",
      " |        typestr\n",
      " |          Must be 'double' or 'float'.\n",
      " |        fmt\n",
      " |          Must be one of 'unknown', 'IEEE, big-endian' or 'IEEE, little-endian',\n",
      " |          and in addition can only be one of the latter two if it appears to\n",
      " |          match the underlying C reality.\n",
      " |      \n",
      " |      It exists mainly to be used in Python's test suite.\n",
      " |      \n",
      " |      Override the automatic determination of C-level floating point type.\n",
      " |      This affects how floats are converted to and from binary strings.\n",
      " |  \n",
      " |  fromhex(string, /) from builtins.type\n",
      " |      Create a floating-point number from a hexadecimal string.\n",
      " |      \n",
      " |      >>> float.fromhex('0x1.ffffp10')\n",
      " |      2047.984375\n",
      " |      >>> float.fromhex('-0x1p-1074')\n",
      " |      -5e-324\n",
      " |  \n",
      " |  ----------------------------------------------------------------------\n",
      " |  Static methods defined here:\n",
      " |  \n",
      " |  __new__(*args, **kwargs) from builtins.type\n",
      " |      Create and return a new object.  See help(type) for accurate signature.\n",
      " |  \n",
      " |  ----------------------------------------------------------------------\n",
      " |  Data descriptors defined here:\n",
      " |  \n",
      " |  imag\n",
      " |      the imaginary part of a complex number\n",
      " |  \n",
      " |  real\n",
      " |      the real part of a complex number\n",
      "\n"
     ]
    }
   ],
   "source": [
    "help(random.NV_MAGICCONST)"
   ]
  },
  {
   "cell_type": "code",
   "execution_count": 28,
   "id": "5882b52d",
   "metadata": {},
   "outputs": [
    {
     "data": {
      "text/plain": [
       "<bound method Random.paretovariate of <random.Random object at 0x000002B36E2A6550>>"
      ]
     },
     "execution_count": 28,
     "metadata": {},
     "output_type": "execute_result"
    }
   ],
   "source": [
    "random.paretovariate"
   ]
  },
  {
   "cell_type": "code",
   "execution_count": 29,
   "id": "fd734b73",
   "metadata": {},
   "outputs": [
    {
     "name": "stdout",
     "output_type": "stream",
     "text": [
      "Help on method paretovariate in module random:\n",
      "\n",
      "paretovariate(alpha) method of random.Random instance\n",
      "    Pareto distribution.  alpha is the shape parameter.\n",
      "\n"
     ]
    }
   ],
   "source": [
    "help(random.paretovariate)"
   ]
  },
  {
   "cell_type": "code",
   "execution_count": 30,
   "id": "ecd097af",
   "metadata": {},
   "outputs": [
    {
     "data": {
      "text/plain": [
       "<bound method Random.randint of <random.Random object at 0x000002B36E2A6550>>"
      ]
     },
     "execution_count": 30,
     "metadata": {},
     "output_type": "execute_result"
    }
   ],
   "source": [
    "random.randint"
   ]
  },
  {
   "cell_type": "code",
   "execution_count": 31,
   "id": "185f8e4c",
   "metadata": {},
   "outputs": [
    {
     "name": "stdout",
     "output_type": "stream",
     "text": [
      "Help on method randint in module random:\n",
      "\n",
      "randint(a, b) method of random.Random instance\n",
      "    Return random integer in range [a, b], including both end points.\n",
      "\n"
     ]
    }
   ],
   "source": [
    "help(random.randint)"
   ]
  },
  {
   "cell_type": "code",
   "execution_count": 32,
   "id": "3f2a0432",
   "metadata": {},
   "outputs": [
    {
     "data": {
      "text/plain": [
       "random.Random"
      ]
     },
     "execution_count": 32,
     "metadata": {},
     "output_type": "execute_result"
    }
   ],
   "source": [
    "random.Random"
   ]
  },
  {
   "cell_type": "code",
   "execution_count": 33,
   "id": "bf7f06f4",
   "metadata": {},
   "outputs": [
    {
     "name": "stdout",
     "output_type": "stream",
     "text": [
      "Help on class Random in module random:\n",
      "\n",
      "class Random(_random.Random)\n",
      " |  Random(x=None)\n",
      " |  \n",
      " |  Random number generator base class used by bound module functions.\n",
      " |  \n",
      " |  Used to instantiate instances of Random to get generators that don't\n",
      " |  share state.\n",
      " |  \n",
      " |  Class Random can also be subclassed if you want to use a different basic\n",
      " |  generator of your own devising: in that case, override the following\n",
      " |  methods:  random(), seed(), getstate(), and setstate().\n",
      " |  Optionally, implement a getrandbits() method so that randrange()\n",
      " |  can cover arbitrarily large ranges.\n",
      " |  \n",
      " |  Method resolution order:\n",
      " |      Random\n",
      " |      _random.Random\n",
      " |      builtins.object\n",
      " |  \n",
      " |  Methods defined here:\n",
      " |  \n",
      " |  __getstate__(self)\n",
      " |      # Issue 17489: Since __reduce__ was defined to fix #759889 this is no\n",
      " |      # longer called; we leave it here because it has been here since random was\n",
      " |      # rewritten back in 2001 and why risk breaking something.\n",
      " |  \n",
      " |  __init__(self, x=None)\n",
      " |      Initialize an instance.\n",
      " |      \n",
      " |      Optional argument x controls seeding, as for Random.seed().\n",
      " |  \n",
      " |  __reduce__(self)\n",
      " |      Helper for pickle.\n",
      " |  \n",
      " |  __setstate__(self, state)\n",
      " |  \n",
      " |  betavariate(self, alpha, beta)\n",
      " |      Beta distribution.\n",
      " |      \n",
      " |      Conditions on the parameters are alpha > 0 and beta > 0.\n",
      " |      Returned values range between 0 and 1.\n",
      " |  \n",
      " |  choice(self, seq)\n",
      " |      Choose a random element from a non-empty sequence.\n",
      " |  \n",
      " |  choices(self, population, weights=None, *, cum_weights=None, k=1)\n",
      " |      Return a k sized list of population elements chosen with replacement.\n",
      " |      \n",
      " |      If the relative weights or cumulative weights are not specified,\n",
      " |      the selections are made with equal probability.\n",
      " |  \n",
      " |  expovariate(self, lambd)\n",
      " |      Exponential distribution.\n",
      " |      \n",
      " |      lambd is 1.0 divided by the desired mean.  It should be\n",
      " |      nonzero.  (The parameter would be called \"lambda\", but that is\n",
      " |      a reserved word in Python.)  Returned values range from 0 to\n",
      " |      positive infinity if lambd is positive, and from negative\n",
      " |      infinity to 0 if lambd is negative.\n",
      " |  \n",
      " |  gammavariate(self, alpha, beta)\n",
      " |      Gamma distribution.  Not the gamma function!\n",
      " |      \n",
      " |      Conditions on the parameters are alpha > 0 and beta > 0.\n",
      " |      \n",
      " |      The probability distribution function is:\n",
      " |      \n",
      " |                  x ** (alpha - 1) * math.exp(-x / beta)\n",
      " |        pdf(x) =  --------------------------------------\n",
      " |                    math.gamma(alpha) * beta ** alpha\n",
      " |  \n",
      " |  gauss(self, mu, sigma)\n",
      " |      Gaussian distribution.\n",
      " |      \n",
      " |      mu is the mean, and sigma is the standard deviation.  This is\n",
      " |      slightly faster than the normalvariate() function.\n",
      " |      \n",
      " |      Not thread-safe without a lock around calls.\n",
      " |  \n",
      " |  getstate(self)\n",
      " |      Return internal state; can be passed to setstate() later.\n",
      " |  \n",
      " |  lognormvariate(self, mu, sigma)\n",
      " |      Log normal distribution.\n",
      " |      \n",
      " |      If you take the natural logarithm of this distribution, you'll get a\n",
      " |      normal distribution with mean mu and standard deviation sigma.\n",
      " |      mu can have any value, and sigma must be greater than zero.\n",
      " |  \n",
      " |  normalvariate(self, mu, sigma)\n",
      " |      Normal distribution.\n",
      " |      \n",
      " |      mu is the mean, and sigma is the standard deviation.\n",
      " |  \n",
      " |  paretovariate(self, alpha)\n",
      " |      Pareto distribution.  alpha is the shape parameter.\n",
      " |  \n",
      " |  randint(self, a, b)\n",
      " |      Return random integer in range [a, b], including both end points.\n",
      " |  \n",
      " |  randrange(self, start, stop=None, step=1, _int=<class 'int'>)\n",
      " |      Choose a random item from range(start, stop[, step]).\n",
      " |      \n",
      " |      This fixes the problem with randint() which includes the\n",
      " |      endpoint; in Python this is usually not what you want.\n",
      " |  \n",
      " |  sample(self, population, k)\n",
      " |      Chooses k unique random elements from a population sequence or set.\n",
      " |      \n",
      " |      Returns a new list containing elements from the population while\n",
      " |      leaving the original population unchanged.  The resulting list is\n",
      " |      in selection order so that all sub-slices will also be valid random\n",
      " |      samples.  This allows raffle winners (the sample) to be partitioned\n",
      " |      into grand prize and second place winners (the subslices).\n",
      " |      \n",
      " |      Members of the population need not be hashable or unique.  If the\n",
      " |      population contains repeats, then each occurrence is a possible\n",
      " |      selection in the sample.\n",
      " |      \n",
      " |      To choose a sample in a range of integers, use range as an argument.\n",
      " |      This is especially fast and space efficient for sampling from a\n",
      " |      large population:   sample(range(10000000), 60)\n",
      " |  \n",
      " |  seed(self, a=None, version=2)\n",
      " |      Initialize internal state from hashable object.\n",
      " |      \n",
      " |      None or no argument seeds from current time or from an operating\n",
      " |      system specific randomness source if available.\n",
      " |      \n",
      " |      If *a* is an int, all bits are used.\n",
      " |      \n",
      " |      For version 2 (the default), all of the bits are used if *a* is a str,\n",
      " |      bytes, or bytearray.  For version 1 (provided for reproducing random\n",
      " |      sequences from older versions of Python), the algorithm for str and\n",
      " |      bytes generates a narrower range of seeds.\n",
      " |  \n",
      " |  setstate(self, state)\n",
      " |      Restore internal state from object returned by getstate().\n",
      " |  \n",
      " |  shuffle(self, x, random=None)\n",
      " |      Shuffle list x in place, and return None.\n",
      " |      \n",
      " |      Optional argument random is a 0-argument function returning a\n",
      " |      random float in [0.0, 1.0); if it is the default None, the\n",
      " |      standard random.random will be used.\n",
      " |  \n",
      " |  triangular(self, low=0.0, high=1.0, mode=None)\n",
      " |      Triangular distribution.\n",
      " |      \n",
      " |      Continuous distribution bounded by given lower and upper limits,\n",
      " |      and having a given mode value in-between.\n",
      " |      \n",
      " |      http://en.wikipedia.org/wiki/Triangular_distribution\n",
      " |  \n",
      " |  uniform(self, a, b)\n",
      " |      Get a random number in the range [a, b) or [a, b] depending on rounding.\n",
      " |  \n",
      " |  vonmisesvariate(self, mu, kappa)\n",
      " |      Circular data distribution.\n",
      " |      \n",
      " |      mu is the mean angle, expressed in radians between 0 and 2*pi, and\n",
      " |      kappa is the concentration parameter, which must be greater than or\n",
      " |      equal to zero.  If kappa is equal to zero, this distribution reduces\n",
      " |      to a uniform random angle over the range 0 to 2*pi.\n",
      " |  \n",
      " |  weibullvariate(self, alpha, beta)\n",
      " |      Weibull distribution.\n",
      " |      \n",
      " |      alpha is the scale parameter and beta is the shape parameter.\n",
      " |  \n",
      " |  ----------------------------------------------------------------------\n",
      " |  Class methods defined here:\n",
      " |  \n",
      " |  __init_subclass__(**kwargs) from builtins.type\n",
      " |      Control how subclasses generate random integers.\n",
      " |      \n",
      " |      The algorithm a subclass can use depends on the random() and/or\n",
      " |      getrandbits() implementation available to it and determines\n",
      " |      whether it can generate random integers from arbitrarily large\n",
      " |      ranges.\n",
      " |  \n",
      " |  ----------------------------------------------------------------------\n",
      " |  Data descriptors defined here:\n",
      " |  \n",
      " |  __dict__\n",
      " |      dictionary for instance variables (if defined)\n",
      " |  \n",
      " |  __weakref__\n",
      " |      list of weak references to the object (if defined)\n",
      " |  \n",
      " |  ----------------------------------------------------------------------\n",
      " |  Data and other attributes defined here:\n",
      " |  \n",
      " |  VERSION = 3\n",
      " |  \n",
      " |  ----------------------------------------------------------------------\n",
      " |  Methods inherited from _random.Random:\n",
      " |  \n",
      " |  __getattribute__(self, name, /)\n",
      " |      Return getattr(self, name).\n",
      " |  \n",
      " |  getrandbits(self, k, /)\n",
      " |      getrandbits(k) -> x.  Generates an int with k random bits.\n",
      " |  \n",
      " |  random(self, /)\n",
      " |      random() -> x in the interval [0, 1).\n",
      " |  \n",
      " |  ----------------------------------------------------------------------\n",
      " |  Static methods inherited from _random.Random:\n",
      " |  \n",
      " |  __new__(*args, **kwargs) from builtins.type\n",
      " |      Create and return a new object.  See help(type) for accurate signature.\n",
      "\n"
     ]
    }
   ],
   "source": [
    "help(random.Random)"
   ]
  },
  {
   "cell_type": "code",
   "execution_count": 34,
   "id": "7abd5af2",
   "metadata": {},
   "outputs": [
    {
     "data": {
      "text/plain": [
       "<function Random.random()>"
      ]
     },
     "execution_count": 34,
     "metadata": {},
     "output_type": "execute_result"
    }
   ],
   "source": [
    "random.random"
   ]
  },
  {
   "cell_type": "code",
   "execution_count": 35,
   "id": "8ed8c82a",
   "metadata": {},
   "outputs": [
    {
     "name": "stdout",
     "output_type": "stream",
     "text": [
      "Help on built-in function random:\n",
      "\n",
      "random() method of random.Random instance\n",
      "    random() -> x in the interval [0, 1).\n",
      "\n"
     ]
    }
   ],
   "source": [
    "help(random.random)"
   ]
  },
  {
   "cell_type": "code",
   "execution_count": 36,
   "id": "f30af6bc",
   "metadata": {},
   "outputs": [
    {
     "data": {
      "text/plain": [
       "<bound method Random.randrange of <random.Random object at 0x000002B36E2A6550>>"
      ]
     },
     "execution_count": 36,
     "metadata": {},
     "output_type": "execute_result"
    }
   ],
   "source": [
    "random.randrange"
   ]
  },
  {
   "cell_type": "code",
   "execution_count": 37,
   "id": "df99510a",
   "metadata": {},
   "outputs": [
    {
     "name": "stdout",
     "output_type": "stream",
     "text": [
      "Help on method randrange in module random:\n",
      "\n",
      "randrange(start, stop=None, step=1, _int=<class 'int'>) method of random.Random instance\n",
      "    Choose a random item from range(start, stop[, step]).\n",
      "    \n",
      "    This fixes the problem with randint() which includes the\n",
      "    endpoint; in Python this is usually not what you want.\n",
      "\n"
     ]
    }
   ],
   "source": [
    "help(random.randrange)"
   ]
  },
  {
   "cell_type": "code",
   "execution_count": 38,
   "id": "b826b637",
   "metadata": {},
   "outputs": [
    {
     "data": {
      "text/plain": [
       "1.1102230246251565e-16"
      ]
     },
     "execution_count": 38,
     "metadata": {},
     "output_type": "execute_result"
    }
   ],
   "source": [
    "random.RECIP_BPF"
   ]
  },
  {
   "cell_type": "code",
   "execution_count": 39,
   "id": "50e7c490",
   "metadata": {},
   "outputs": [
    {
     "name": "stdout",
     "output_type": "stream",
     "text": [
      "Help on float object:\n",
      "\n",
      "class float(object)\n",
      " |  float(x=0, /)\n",
      " |  \n",
      " |  Convert a string or number to a floating point number, if possible.\n",
      " |  \n",
      " |  Methods defined here:\n",
      " |  \n",
      " |  __abs__(self, /)\n",
      " |      abs(self)\n",
      " |  \n",
      " |  __add__(self, value, /)\n",
      " |      Return self+value.\n",
      " |  \n",
      " |  __bool__(self, /)\n",
      " |      self != 0\n",
      " |  \n",
      " |  __divmod__(self, value, /)\n",
      " |      Return divmod(self, value).\n",
      " |  \n",
      " |  __eq__(self, value, /)\n",
      " |      Return self==value.\n",
      " |  \n",
      " |  __float__(self, /)\n",
      " |      float(self)\n",
      " |  \n",
      " |  __floordiv__(self, value, /)\n",
      " |      Return self//value.\n",
      " |  \n",
      " |  __format__(self, format_spec, /)\n",
      " |      Formats the float according to format_spec.\n",
      " |  \n",
      " |  __ge__(self, value, /)\n",
      " |      Return self>=value.\n",
      " |  \n",
      " |  __getattribute__(self, name, /)\n",
      " |      Return getattr(self, name).\n",
      " |  \n",
      " |  __getnewargs__(self, /)\n",
      " |  \n",
      " |  __gt__(self, value, /)\n",
      " |      Return self>value.\n",
      " |  \n",
      " |  __hash__(self, /)\n",
      " |      Return hash(self).\n",
      " |  \n",
      " |  __int__(self, /)\n",
      " |      int(self)\n",
      " |  \n",
      " |  __le__(self, value, /)\n",
      " |      Return self<=value.\n",
      " |  \n",
      " |  __lt__(self, value, /)\n",
      " |      Return self<value.\n",
      " |  \n",
      " |  __mod__(self, value, /)\n",
      " |      Return self%value.\n",
      " |  \n",
      " |  __mul__(self, value, /)\n",
      " |      Return self*value.\n",
      " |  \n",
      " |  __ne__(self, value, /)\n",
      " |      Return self!=value.\n",
      " |  \n",
      " |  __neg__(self, /)\n",
      " |      -self\n",
      " |  \n",
      " |  __pos__(self, /)\n",
      " |      +self\n",
      " |  \n",
      " |  __pow__(self, value, mod=None, /)\n",
      " |      Return pow(self, value, mod).\n",
      " |  \n",
      " |  __radd__(self, value, /)\n",
      " |      Return value+self.\n",
      " |  \n",
      " |  __rdivmod__(self, value, /)\n",
      " |      Return divmod(value, self).\n",
      " |  \n",
      " |  __repr__(self, /)\n",
      " |      Return repr(self).\n",
      " |  \n",
      " |  __rfloordiv__(self, value, /)\n",
      " |      Return value//self.\n",
      " |  \n",
      " |  __rmod__(self, value, /)\n",
      " |      Return value%self.\n",
      " |  \n",
      " |  __rmul__(self, value, /)\n",
      " |      Return value*self.\n",
      " |  \n",
      " |  __round__(self, ndigits=None, /)\n",
      " |      Return the Integral closest to x, rounding half toward even.\n",
      " |      \n",
      " |      When an argument is passed, work like built-in round(x, ndigits).\n",
      " |  \n",
      " |  __rpow__(self, value, mod=None, /)\n",
      " |      Return pow(value, self, mod).\n",
      " |  \n",
      " |  __rsub__(self, value, /)\n",
      " |      Return value-self.\n",
      " |  \n",
      " |  __rtruediv__(self, value, /)\n",
      " |      Return value/self.\n",
      " |  \n",
      " |  __sub__(self, value, /)\n",
      " |      Return self-value.\n",
      " |  \n",
      " |  __truediv__(self, value, /)\n",
      " |      Return self/value.\n",
      " |  \n",
      " |  __trunc__(self, /)\n",
      " |      Return the Integral closest to x between 0 and x.\n",
      " |  \n",
      " |  as_integer_ratio(self, /)\n",
      " |      Return integer ratio.\n",
      " |      \n",
      " |      Return a pair of integers, whose ratio is exactly equal to the original float\n",
      " |      and with a positive denominator.\n",
      " |      \n",
      " |      Raise OverflowError on infinities and a ValueError on NaNs.\n",
      " |      \n",
      " |      >>> (10.0).as_integer_ratio()\n",
      " |      (10, 1)\n",
      " |      >>> (0.0).as_integer_ratio()\n",
      " |      (0, 1)\n",
      " |      >>> (-.25).as_integer_ratio()\n",
      " |      (-1, 4)\n",
      " |  \n",
      " |  conjugate(self, /)\n",
      " |      Return self, the complex conjugate of any float.\n",
      " |  \n",
      " |  hex(self, /)\n",
      " |      Return a hexadecimal representation of a floating-point number.\n",
      " |      \n",
      " |      >>> (-0.1).hex()\n",
      " |      '-0x1.999999999999ap-4'\n",
      " |      >>> 3.14159.hex()\n",
      " |      '0x1.921f9f01b866ep+1'\n",
      " |  \n",
      " |  is_integer(self, /)\n",
      " |      Return True if the float is an integer.\n",
      " |  \n",
      " |  ----------------------------------------------------------------------\n",
      " |  Class methods defined here:\n",
      " |  \n",
      " |  __getformat__(typestr, /) from builtins.type\n",
      " |      You probably don't want to use this function.\n",
      " |      \n",
      " |        typestr\n",
      " |          Must be 'double' or 'float'.\n",
      " |      \n",
      " |      It exists mainly to be used in Python's test suite.\n",
      " |      \n",
      " |      This function returns whichever of 'unknown', 'IEEE, big-endian' or 'IEEE,\n",
      " |      little-endian' best describes the format of floating point numbers used by the\n",
      " |      C type named by typestr.\n",
      " |  \n",
      " |  __set_format__(typestr, fmt, /) from builtins.type\n",
      " |      You probably don't want to use this function.\n",
      " |      \n",
      " |        typestr\n",
      " |          Must be 'double' or 'float'.\n",
      " |        fmt\n",
      " |          Must be one of 'unknown', 'IEEE, big-endian' or 'IEEE, little-endian',\n",
      " |          and in addition can only be one of the latter two if it appears to\n",
      " |          match the underlying C reality.\n",
      " |      \n",
      " |      It exists mainly to be used in Python's test suite.\n",
      " |      \n",
      " |      Override the automatic determination of C-level floating point type.\n",
      " |      This affects how floats are converted to and from binary strings.\n",
      " |  \n",
      " |  fromhex(string, /) from builtins.type\n",
      " |      Create a floating-point number from a hexadecimal string.\n",
      " |      \n",
      " |      >>> float.fromhex('0x1.ffffp10')\n",
      " |      2047.984375\n",
      " |      >>> float.fromhex('-0x1p-1074')\n",
      " |      -5e-324\n",
      " |  \n",
      " |  ----------------------------------------------------------------------\n",
      " |  Static methods defined here:\n",
      " |  \n",
      " |  __new__(*args, **kwargs) from builtins.type\n",
      " |      Create and return a new object.  See help(type) for accurate signature.\n",
      " |  \n",
      " |  ----------------------------------------------------------------------\n",
      " |  Data descriptors defined here:\n",
      " |  \n",
      " |  imag\n",
      " |      the imaginary part of a complex number\n",
      " |  \n",
      " |  real\n",
      " |      the real part of a complex number\n",
      "\n"
     ]
    }
   ],
   "source": [
    "help(random.RECIP_BPF)"
   ]
  },
  {
   "cell_type": "code",
   "execution_count": 40,
   "id": "a49a2eb9",
   "metadata": {},
   "outputs": [
    {
     "data": {
      "text/plain": [
       "<bound method Random.sample of <random.Random object at 0x000002B36E2A6550>>"
      ]
     },
     "execution_count": 40,
     "metadata": {},
     "output_type": "execute_result"
    }
   ],
   "source": [
    "random.sample"
   ]
  },
  {
   "cell_type": "code",
   "execution_count": 41,
   "id": "a0991a96",
   "metadata": {},
   "outputs": [
    {
     "name": "stdout",
     "output_type": "stream",
     "text": [
      "Help on method sample in module random:\n",
      "\n",
      "sample(population, k) method of random.Random instance\n",
      "    Chooses k unique random elements from a population sequence or set.\n",
      "    \n",
      "    Returns a new list containing elements from the population while\n",
      "    leaving the original population unchanged.  The resulting list is\n",
      "    in selection order so that all sub-slices will also be valid random\n",
      "    samples.  This allows raffle winners (the sample) to be partitioned\n",
      "    into grand prize and second place winners (the subslices).\n",
      "    \n",
      "    Members of the population need not be hashable or unique.  If the\n",
      "    population contains repeats, then each occurrence is a possible\n",
      "    selection in the sample.\n",
      "    \n",
      "    To choose a sample in a range of integers, use range as an argument.\n",
      "    This is especially fast and space efficient for sampling from a\n",
      "    large population:   sample(range(10000000), 60)\n",
      "\n"
     ]
    }
   ],
   "source": [
    "help(random.sample)"
   ]
  },
  {
   "cell_type": "code",
   "execution_count": 42,
   "id": "e3f1f924",
   "metadata": {},
   "outputs": [
    {
     "data": {
      "text/plain": [
       "<bound method Random.seed of <random.Random object at 0x000002B36E2A6550>>"
      ]
     },
     "execution_count": 42,
     "metadata": {},
     "output_type": "execute_result"
    }
   ],
   "source": [
    "random.seed"
   ]
  },
  {
   "cell_type": "code",
   "execution_count": 43,
   "id": "93e615fb",
   "metadata": {},
   "outputs": [
    {
     "name": "stdout",
     "output_type": "stream",
     "text": [
      "Help on method seed in module random:\n",
      "\n",
      "seed(a=None, version=2) method of random.Random instance\n",
      "    Initialize internal state from hashable object.\n",
      "    \n",
      "    None or no argument seeds from current time or from an operating\n",
      "    system specific randomness source if available.\n",
      "    \n",
      "    If *a* is an int, all bits are used.\n",
      "    \n",
      "    For version 2 (the default), all of the bits are used if *a* is a str,\n",
      "    bytes, or bytearray.  For version 1 (provided for reproducing random\n",
      "    sequences from older versions of Python), the algorithm for str and\n",
      "    bytes generates a narrower range of seeds.\n",
      "\n"
     ]
    }
   ],
   "source": [
    "help(random.seed)"
   ]
  },
  {
   "cell_type": "code",
   "execution_count": 44,
   "id": "ae27f560",
   "metadata": {},
   "outputs": [
    {
     "data": {
      "text/plain": [
       "<bound method Random.setstate of <random.Random object at 0x000002B36E2A6550>>"
      ]
     },
     "execution_count": 44,
     "metadata": {},
     "output_type": "execute_result"
    }
   ],
   "source": [
    "random.setstate"
   ]
  },
  {
   "cell_type": "code",
   "execution_count": 45,
   "id": "cfdcf59f",
   "metadata": {},
   "outputs": [
    {
     "name": "stdout",
     "output_type": "stream",
     "text": [
      "Help on method setstate in module random:\n",
      "\n",
      "setstate(state) method of random.Random instance\n",
      "    Restore internal state from object returned by getstate().\n",
      "\n"
     ]
    }
   ],
   "source": [
    "help(random.setstate)"
   ]
  },
  {
   "cell_type": "code",
   "execution_count": 46,
   "id": "21be17a9",
   "metadata": {},
   "outputs": [
    {
     "data": {
      "text/plain": [
       "2.504077396776274"
      ]
     },
     "execution_count": 46,
     "metadata": {},
     "output_type": "execute_result"
    }
   ],
   "source": [
    "random.SG_MAGICCONST"
   ]
  },
  {
   "cell_type": "code",
   "execution_count": 47,
   "id": "75e6757e",
   "metadata": {},
   "outputs": [
    {
     "name": "stdout",
     "output_type": "stream",
     "text": [
      "Help on float object:\n",
      "\n",
      "class float(object)\n",
      " |  float(x=0, /)\n",
      " |  \n",
      " |  Convert a string or number to a floating point number, if possible.\n",
      " |  \n",
      " |  Methods defined here:\n",
      " |  \n",
      " |  __abs__(self, /)\n",
      " |      abs(self)\n",
      " |  \n",
      " |  __add__(self, value, /)\n",
      " |      Return self+value.\n",
      " |  \n",
      " |  __bool__(self, /)\n",
      " |      self != 0\n",
      " |  \n",
      " |  __divmod__(self, value, /)\n",
      " |      Return divmod(self, value).\n",
      " |  \n",
      " |  __eq__(self, value, /)\n",
      " |      Return self==value.\n",
      " |  \n",
      " |  __float__(self, /)\n",
      " |      float(self)\n",
      " |  \n",
      " |  __floordiv__(self, value, /)\n",
      " |      Return self//value.\n",
      " |  \n",
      " |  __format__(self, format_spec, /)\n",
      " |      Formats the float according to format_spec.\n",
      " |  \n",
      " |  __ge__(self, value, /)\n",
      " |      Return self>=value.\n",
      " |  \n",
      " |  __getattribute__(self, name, /)\n",
      " |      Return getattr(self, name).\n",
      " |  \n",
      " |  __getnewargs__(self, /)\n",
      " |  \n",
      " |  __gt__(self, value, /)\n",
      " |      Return self>value.\n",
      " |  \n",
      " |  __hash__(self, /)\n",
      " |      Return hash(self).\n",
      " |  \n",
      " |  __int__(self, /)\n",
      " |      int(self)\n",
      " |  \n",
      " |  __le__(self, value, /)\n",
      " |      Return self<=value.\n",
      " |  \n",
      " |  __lt__(self, value, /)\n",
      " |      Return self<value.\n",
      " |  \n",
      " |  __mod__(self, value, /)\n",
      " |      Return self%value.\n",
      " |  \n",
      " |  __mul__(self, value, /)\n",
      " |      Return self*value.\n",
      " |  \n",
      " |  __ne__(self, value, /)\n",
      " |      Return self!=value.\n",
      " |  \n",
      " |  __neg__(self, /)\n",
      " |      -self\n",
      " |  \n",
      " |  __pos__(self, /)\n",
      " |      +self\n",
      " |  \n",
      " |  __pow__(self, value, mod=None, /)\n",
      " |      Return pow(self, value, mod).\n",
      " |  \n",
      " |  __radd__(self, value, /)\n",
      " |      Return value+self.\n",
      " |  \n",
      " |  __rdivmod__(self, value, /)\n",
      " |      Return divmod(value, self).\n",
      " |  \n",
      " |  __repr__(self, /)\n",
      " |      Return repr(self).\n",
      " |  \n",
      " |  __rfloordiv__(self, value, /)\n",
      " |      Return value//self.\n",
      " |  \n",
      " |  __rmod__(self, value, /)\n",
      " |      Return value%self.\n",
      " |  \n",
      " |  __rmul__(self, value, /)\n",
      " |      Return value*self.\n",
      " |  \n",
      " |  __round__(self, ndigits=None, /)\n",
      " |      Return the Integral closest to x, rounding half toward even.\n",
      " |      \n",
      " |      When an argument is passed, work like built-in round(x, ndigits).\n",
      " |  \n",
      " |  __rpow__(self, value, mod=None, /)\n",
      " |      Return pow(value, self, mod).\n",
      " |  \n",
      " |  __rsub__(self, value, /)\n",
      " |      Return value-self.\n",
      " |  \n",
      " |  __rtruediv__(self, value, /)\n",
      " |      Return value/self.\n",
      " |  \n",
      " |  __sub__(self, value, /)\n",
      " |      Return self-value.\n",
      " |  \n",
      " |  __truediv__(self, value, /)\n",
      " |      Return self/value.\n",
      " |  \n",
      " |  __trunc__(self, /)\n",
      " |      Return the Integral closest to x between 0 and x.\n",
      " |  \n",
      " |  as_integer_ratio(self, /)\n",
      " |      Return integer ratio.\n",
      " |      \n",
      " |      Return a pair of integers, whose ratio is exactly equal to the original float\n",
      " |      and with a positive denominator.\n",
      " |      \n",
      " |      Raise OverflowError on infinities and a ValueError on NaNs.\n",
      " |      \n",
      " |      >>> (10.0).as_integer_ratio()\n",
      " |      (10, 1)\n",
      " |      >>> (0.0).as_integer_ratio()\n",
      " |      (0, 1)\n",
      " |      >>> (-.25).as_integer_ratio()\n",
      " |      (-1, 4)\n",
      " |  \n",
      " |  conjugate(self, /)\n",
      " |      Return self, the complex conjugate of any float.\n",
      " |  \n",
      " |  hex(self, /)\n",
      " |      Return a hexadecimal representation of a floating-point number.\n",
      " |      \n",
      " |      >>> (-0.1).hex()\n",
      " |      '-0x1.999999999999ap-4'\n",
      " |      >>> 3.14159.hex()\n",
      " |      '0x1.921f9f01b866ep+1'\n",
      " |  \n",
      " |  is_integer(self, /)\n",
      " |      Return True if the float is an integer.\n",
      " |  \n",
      " |  ----------------------------------------------------------------------\n",
      " |  Class methods defined here:\n",
      " |  \n",
      " |  __getformat__(typestr, /) from builtins.type\n",
      " |      You probably don't want to use this function.\n",
      " |      \n",
      " |        typestr\n",
      " |          Must be 'double' or 'float'.\n",
      " |      \n",
      " |      It exists mainly to be used in Python's test suite.\n",
      " |      \n",
      " |      This function returns whichever of 'unknown', 'IEEE, big-endian' or 'IEEE,\n",
      " |      little-endian' best describes the format of floating point numbers used by the\n",
      " |      C type named by typestr.\n",
      " |  \n",
      " |  __set_format__(typestr, fmt, /) from builtins.type\n",
      " |      You probably don't want to use this function.\n",
      " |      \n",
      " |        typestr\n",
      " |          Must be 'double' or 'float'.\n",
      " |        fmt\n",
      " |          Must be one of 'unknown', 'IEEE, big-endian' or 'IEEE, little-endian',\n",
      " |          and in addition can only be one of the latter two if it appears to\n",
      " |          match the underlying C reality.\n",
      " |      \n",
      " |      It exists mainly to be used in Python's test suite.\n",
      " |      \n",
      " |      Override the automatic determination of C-level floating point type.\n",
      " |      This affects how floats are converted to and from binary strings.\n",
      " |  \n",
      " |  fromhex(string, /) from builtins.type\n",
      " |      Create a floating-point number from a hexadecimal string.\n",
      " |      \n",
      " |      >>> float.fromhex('0x1.ffffp10')\n",
      " |      2047.984375\n",
      " |      >>> float.fromhex('-0x1p-1074')\n",
      " |      -5e-324\n",
      " |  \n",
      " |  ----------------------------------------------------------------------\n",
      " |  Static methods defined here:\n",
      " |  \n",
      " |  __new__(*args, **kwargs) from builtins.type\n",
      " |      Create and return a new object.  See help(type) for accurate signature.\n",
      " |  \n",
      " |  ----------------------------------------------------------------------\n",
      " |  Data descriptors defined here:\n",
      " |  \n",
      " |  imag\n",
      " |      the imaginary part of a complex number\n",
      " |  \n",
      " |  real\n",
      " |      the real part of a complex number\n",
      "\n"
     ]
    }
   ],
   "source": [
    "help(random.SG_MAGICCONST)"
   ]
  },
  {
   "cell_type": "code",
   "execution_count": 48,
   "id": "201dbc4f",
   "metadata": {},
   "outputs": [
    {
     "data": {
      "text/plain": [
       "<bound method Random.shuffle of <random.Random object at 0x000002B36E2A6550>>"
      ]
     },
     "execution_count": 48,
     "metadata": {},
     "output_type": "execute_result"
    }
   ],
   "source": [
    "random.shuffle"
   ]
  },
  {
   "cell_type": "code",
   "execution_count": 49,
   "id": "46310d8b",
   "metadata": {},
   "outputs": [
    {
     "name": "stdout",
     "output_type": "stream",
     "text": [
      "Help on method shuffle in module random:\n",
      "\n",
      "shuffle(x, random=None) method of random.Random instance\n",
      "    Shuffle list x in place, and return None.\n",
      "    \n",
      "    Optional argument random is a 0-argument function returning a\n",
      "    random float in [0.0, 1.0); if it is the default None, the\n",
      "    standard random.random will be used.\n",
      "\n"
     ]
    }
   ],
   "source": [
    "help(random.shuffle)"
   ]
  },
  {
   "cell_type": "code",
   "execution_count": 50,
   "id": "842bf030",
   "metadata": {},
   "outputs": [
    {
     "data": {
      "text/plain": [
       "random.SystemRandom"
      ]
     },
     "execution_count": 50,
     "metadata": {},
     "output_type": "execute_result"
    }
   ],
   "source": [
    "random.SystemRandom"
   ]
  },
  {
   "cell_type": "code",
   "execution_count": 51,
   "id": "ff8e0437",
   "metadata": {},
   "outputs": [
    {
     "name": "stdout",
     "output_type": "stream",
     "text": [
      "Help on class SystemRandom in module random:\n",
      "\n",
      "class SystemRandom(Random)\n",
      " |  SystemRandom(x=None)\n",
      " |  \n",
      " |  Alternate random number generator using sources provided\n",
      " |  by the operating system (such as /dev/urandom on Unix or\n",
      " |  CryptGenRandom on Windows).\n",
      " |  \n",
      " |   Not available on all systems (see os.urandom() for details).\n",
      " |  \n",
      " |  Method resolution order:\n",
      " |      SystemRandom\n",
      " |      Random\n",
      " |      _random.Random\n",
      " |      builtins.object\n",
      " |  \n",
      " |  Methods defined here:\n",
      " |  \n",
      " |  getrandbits(self, k)\n",
      " |      getrandbits(k) -> x.  Generates an int with k random bits.\n",
      " |  \n",
      " |  getstate = _notimplemented(self, *args, **kwds)\n",
      " |  \n",
      " |  random(self)\n",
      " |      Get the next random number in the range [0.0, 1.0).\n",
      " |  \n",
      " |  seed(self, *args, **kwds)\n",
      " |      Stub method.  Not used for a system random number generator.\n",
      " |  \n",
      " |  setstate = _notimplemented(self, *args, **kwds)\n",
      " |  \n",
      " |  ----------------------------------------------------------------------\n",
      " |  Methods inherited from Random:\n",
      " |  \n",
      " |  __getstate__(self)\n",
      " |      # Issue 17489: Since __reduce__ was defined to fix #759889 this is no\n",
      " |      # longer called; we leave it here because it has been here since random was\n",
      " |      # rewritten back in 2001 and why risk breaking something.\n",
      " |  \n",
      " |  __init__(self, x=None)\n",
      " |      Initialize an instance.\n",
      " |      \n",
      " |      Optional argument x controls seeding, as for Random.seed().\n",
      " |  \n",
      " |  __reduce__(self)\n",
      " |      Helper for pickle.\n",
      " |  \n",
      " |  __setstate__(self, state)\n",
      " |  \n",
      " |  betavariate(self, alpha, beta)\n",
      " |      Beta distribution.\n",
      " |      \n",
      " |      Conditions on the parameters are alpha > 0 and beta > 0.\n",
      " |      Returned values range between 0 and 1.\n",
      " |  \n",
      " |  choice(self, seq)\n",
      " |      Choose a random element from a non-empty sequence.\n",
      " |  \n",
      " |  choices(self, population, weights=None, *, cum_weights=None, k=1)\n",
      " |      Return a k sized list of population elements chosen with replacement.\n",
      " |      \n",
      " |      If the relative weights or cumulative weights are not specified,\n",
      " |      the selections are made with equal probability.\n",
      " |  \n",
      " |  expovariate(self, lambd)\n",
      " |      Exponential distribution.\n",
      " |      \n",
      " |      lambd is 1.0 divided by the desired mean.  It should be\n",
      " |      nonzero.  (The parameter would be called \"lambda\", but that is\n",
      " |      a reserved word in Python.)  Returned values range from 0 to\n",
      " |      positive infinity if lambd is positive, and from negative\n",
      " |      infinity to 0 if lambd is negative.\n",
      " |  \n",
      " |  gammavariate(self, alpha, beta)\n",
      " |      Gamma distribution.  Not the gamma function!\n",
      " |      \n",
      " |      Conditions on the parameters are alpha > 0 and beta > 0.\n",
      " |      \n",
      " |      The probability distribution function is:\n",
      " |      \n",
      " |                  x ** (alpha - 1) * math.exp(-x / beta)\n",
      " |        pdf(x) =  --------------------------------------\n",
      " |                    math.gamma(alpha) * beta ** alpha\n",
      " |  \n",
      " |  gauss(self, mu, sigma)\n",
      " |      Gaussian distribution.\n",
      " |      \n",
      " |      mu is the mean, and sigma is the standard deviation.  This is\n",
      " |      slightly faster than the normalvariate() function.\n",
      " |      \n",
      " |      Not thread-safe without a lock around calls.\n",
      " |  \n",
      " |  lognormvariate(self, mu, sigma)\n",
      " |      Log normal distribution.\n",
      " |      \n",
      " |      If you take the natural logarithm of this distribution, you'll get a\n",
      " |      normal distribution with mean mu and standard deviation sigma.\n",
      " |      mu can have any value, and sigma must be greater than zero.\n",
      " |  \n",
      " |  normalvariate(self, mu, sigma)\n",
      " |      Normal distribution.\n",
      " |      \n",
      " |      mu is the mean, and sigma is the standard deviation.\n",
      " |  \n",
      " |  paretovariate(self, alpha)\n",
      " |      Pareto distribution.  alpha is the shape parameter.\n",
      " |  \n",
      " |  randint(self, a, b)\n",
      " |      Return random integer in range [a, b], including both end points.\n",
      " |  \n",
      " |  randrange(self, start, stop=None, step=1, _int=<class 'int'>)\n",
      " |      Choose a random item from range(start, stop[, step]).\n",
      " |      \n",
      " |      This fixes the problem with randint() which includes the\n",
      " |      endpoint; in Python this is usually not what you want.\n",
      " |  \n",
      " |  sample(self, population, k)\n",
      " |      Chooses k unique random elements from a population sequence or set.\n",
      " |      \n",
      " |      Returns a new list containing elements from the population while\n",
      " |      leaving the original population unchanged.  The resulting list is\n",
      " |      in selection order so that all sub-slices will also be valid random\n",
      " |      samples.  This allows raffle winners (the sample) to be partitioned\n",
      " |      into grand prize and second place winners (the subslices).\n",
      " |      \n",
      " |      Members of the population need not be hashable or unique.  If the\n",
      " |      population contains repeats, then each occurrence is a possible\n",
      " |      selection in the sample.\n",
      " |      \n",
      " |      To choose a sample in a range of integers, use range as an argument.\n",
      " |      This is especially fast and space efficient for sampling from a\n",
      " |      large population:   sample(range(10000000), 60)\n",
      " |  \n",
      " |  shuffle(self, x, random=None)\n",
      " |      Shuffle list x in place, and return None.\n",
      " |      \n",
      " |      Optional argument random is a 0-argument function returning a\n",
      " |      random float in [0.0, 1.0); if it is the default None, the\n",
      " |      standard random.random will be used.\n",
      " |  \n",
      " |  triangular(self, low=0.0, high=1.0, mode=None)\n",
      " |      Triangular distribution.\n",
      " |      \n",
      " |      Continuous distribution bounded by given lower and upper limits,\n",
      " |      and having a given mode value in-between.\n",
      " |      \n",
      " |      http://en.wikipedia.org/wiki/Triangular_distribution\n",
      " |  \n",
      " |  uniform(self, a, b)\n",
      " |      Get a random number in the range [a, b) or [a, b] depending on rounding.\n",
      " |  \n",
      " |  vonmisesvariate(self, mu, kappa)\n",
      " |      Circular data distribution.\n",
      " |      \n",
      " |      mu is the mean angle, expressed in radians between 0 and 2*pi, and\n",
      " |      kappa is the concentration parameter, which must be greater than or\n",
      " |      equal to zero.  If kappa is equal to zero, this distribution reduces\n",
      " |      to a uniform random angle over the range 0 to 2*pi.\n",
      " |  \n",
      " |  weibullvariate(self, alpha, beta)\n",
      " |      Weibull distribution.\n",
      " |      \n",
      " |      alpha is the scale parameter and beta is the shape parameter.\n",
      " |  \n",
      " |  ----------------------------------------------------------------------\n",
      " |  Class methods inherited from Random:\n",
      " |  \n",
      " |  __init_subclass__(**kwargs) from builtins.type\n",
      " |      Control how subclasses generate random integers.\n",
      " |      \n",
      " |      The algorithm a subclass can use depends on the random() and/or\n",
      " |      getrandbits() implementation available to it and determines\n",
      " |      whether it can generate random integers from arbitrarily large\n",
      " |      ranges.\n",
      " |  \n",
      " |  ----------------------------------------------------------------------\n",
      " |  Data descriptors inherited from Random:\n",
      " |  \n",
      " |  __dict__\n",
      " |      dictionary for instance variables (if defined)\n",
      " |  \n",
      " |  __weakref__\n",
      " |      list of weak references to the object (if defined)\n",
      " |  \n",
      " |  ----------------------------------------------------------------------\n",
      " |  Data and other attributes inherited from Random:\n",
      " |  \n",
      " |  VERSION = 3\n",
      " |  \n",
      " |  ----------------------------------------------------------------------\n",
      " |  Methods inherited from _random.Random:\n",
      " |  \n",
      " |  __getattribute__(self, name, /)\n",
      " |      Return getattr(self, name).\n",
      " |  \n",
      " |  ----------------------------------------------------------------------\n",
      " |  Static methods inherited from _random.Random:\n",
      " |  \n",
      " |  __new__(*args, **kwargs) from builtins.type\n",
      " |      Create and return a new object.  See help(type) for accurate signature.\n",
      "\n"
     ]
    }
   ],
   "source": [
    "help(random.SystemRandom)"
   ]
  },
  {
   "cell_type": "code",
   "execution_count": 52,
   "id": "12d361cb",
   "metadata": {},
   "outputs": [
    {
     "data": {
      "text/plain": [
       "<bound method Random.triangular of <random.Random object at 0x000002B36E2A6550>>"
      ]
     },
     "execution_count": 52,
     "metadata": {},
     "output_type": "execute_result"
    }
   ],
   "source": [
    "random.triangular"
   ]
  },
  {
   "cell_type": "code",
   "execution_count": 53,
   "id": "7499d4b1",
   "metadata": {},
   "outputs": [
    {
     "name": "stdout",
     "output_type": "stream",
     "text": [
      "Help on method triangular in module random:\n",
      "\n",
      "triangular(low=0.0, high=1.0, mode=None) method of random.Random instance\n",
      "    Triangular distribution.\n",
      "    \n",
      "    Continuous distribution bounded by given lower and upper limits,\n",
      "    and having a given mode value in-between.\n",
      "    \n",
      "    http://en.wikipedia.org/wiki/Triangular_distribution\n",
      "\n"
     ]
    }
   ],
   "source": [
    "help(random.triangular)"
   ]
  },
  {
   "cell_type": "code",
   "execution_count": 54,
   "id": "af7ffc35",
   "metadata": {},
   "outputs": [
    {
     "data": {
      "text/plain": [
       "6.283185307179586"
      ]
     },
     "execution_count": 54,
     "metadata": {},
     "output_type": "execute_result"
    }
   ],
   "source": [
    "random.TWOPI"
   ]
  },
  {
   "cell_type": "code",
   "execution_count": 55,
   "id": "1cc0858f",
   "metadata": {},
   "outputs": [
    {
     "name": "stdout",
     "output_type": "stream",
     "text": [
      "Help on float object:\n",
      "\n",
      "class float(object)\n",
      " |  float(x=0, /)\n",
      " |  \n",
      " |  Convert a string or number to a floating point number, if possible.\n",
      " |  \n",
      " |  Methods defined here:\n",
      " |  \n",
      " |  __abs__(self, /)\n",
      " |      abs(self)\n",
      " |  \n",
      " |  __add__(self, value, /)\n",
      " |      Return self+value.\n",
      " |  \n",
      " |  __bool__(self, /)\n",
      " |      self != 0\n",
      " |  \n",
      " |  __divmod__(self, value, /)\n",
      " |      Return divmod(self, value).\n",
      " |  \n",
      " |  __eq__(self, value, /)\n",
      " |      Return self==value.\n",
      " |  \n",
      " |  __float__(self, /)\n",
      " |      float(self)\n",
      " |  \n",
      " |  __floordiv__(self, value, /)\n",
      " |      Return self//value.\n",
      " |  \n",
      " |  __format__(self, format_spec, /)\n",
      " |      Formats the float according to format_spec.\n",
      " |  \n",
      " |  __ge__(self, value, /)\n",
      " |      Return self>=value.\n",
      " |  \n",
      " |  __getattribute__(self, name, /)\n",
      " |      Return getattr(self, name).\n",
      " |  \n",
      " |  __getnewargs__(self, /)\n",
      " |  \n",
      " |  __gt__(self, value, /)\n",
      " |      Return self>value.\n",
      " |  \n",
      " |  __hash__(self, /)\n",
      " |      Return hash(self).\n",
      " |  \n",
      " |  __int__(self, /)\n",
      " |      int(self)\n",
      " |  \n",
      " |  __le__(self, value, /)\n",
      " |      Return self<=value.\n",
      " |  \n",
      " |  __lt__(self, value, /)\n",
      " |      Return self<value.\n",
      " |  \n",
      " |  __mod__(self, value, /)\n",
      " |      Return self%value.\n",
      " |  \n",
      " |  __mul__(self, value, /)\n",
      " |      Return self*value.\n",
      " |  \n",
      " |  __ne__(self, value, /)\n",
      " |      Return self!=value.\n",
      " |  \n",
      " |  __neg__(self, /)\n",
      " |      -self\n",
      " |  \n",
      " |  __pos__(self, /)\n",
      " |      +self\n",
      " |  \n",
      " |  __pow__(self, value, mod=None, /)\n",
      " |      Return pow(self, value, mod).\n",
      " |  \n",
      " |  __radd__(self, value, /)\n",
      " |      Return value+self.\n",
      " |  \n",
      " |  __rdivmod__(self, value, /)\n",
      " |      Return divmod(value, self).\n",
      " |  \n",
      " |  __repr__(self, /)\n",
      " |      Return repr(self).\n",
      " |  \n",
      " |  __rfloordiv__(self, value, /)\n",
      " |      Return value//self.\n",
      " |  \n",
      " |  __rmod__(self, value, /)\n",
      " |      Return value%self.\n",
      " |  \n",
      " |  __rmul__(self, value, /)\n",
      " |      Return value*self.\n",
      " |  \n",
      " |  __round__(self, ndigits=None, /)\n",
      " |      Return the Integral closest to x, rounding half toward even.\n",
      " |      \n",
      " |      When an argument is passed, work like built-in round(x, ndigits).\n",
      " |  \n",
      " |  __rpow__(self, value, mod=None, /)\n",
      " |      Return pow(value, self, mod).\n",
      " |  \n",
      " |  __rsub__(self, value, /)\n",
      " |      Return value-self.\n",
      " |  \n",
      " |  __rtruediv__(self, value, /)\n",
      " |      Return value/self.\n",
      " |  \n",
      " |  __sub__(self, value, /)\n",
      " |      Return self-value.\n",
      " |  \n",
      " |  __truediv__(self, value, /)\n",
      " |      Return self/value.\n",
      " |  \n",
      " |  __trunc__(self, /)\n",
      " |      Return the Integral closest to x between 0 and x.\n",
      " |  \n",
      " |  as_integer_ratio(self, /)\n",
      " |      Return integer ratio.\n",
      " |      \n",
      " |      Return a pair of integers, whose ratio is exactly equal to the original float\n",
      " |      and with a positive denominator.\n",
      " |      \n",
      " |      Raise OverflowError on infinities and a ValueError on NaNs.\n",
      " |      \n",
      " |      >>> (10.0).as_integer_ratio()\n",
      " |      (10, 1)\n",
      " |      >>> (0.0).as_integer_ratio()\n",
      " |      (0, 1)\n",
      " |      >>> (-.25).as_integer_ratio()\n",
      " |      (-1, 4)\n",
      " |  \n",
      " |  conjugate(self, /)\n",
      " |      Return self, the complex conjugate of any float.\n",
      " |  \n",
      " |  hex(self, /)\n",
      " |      Return a hexadecimal representation of a floating-point number.\n",
      " |      \n",
      " |      >>> (-0.1).hex()\n",
      " |      '-0x1.999999999999ap-4'\n",
      " |      >>> 3.14159.hex()\n",
      " |      '0x1.921f9f01b866ep+1'\n",
      " |  \n",
      " |  is_integer(self, /)\n",
      " |      Return True if the float is an integer.\n",
      " |  \n",
      " |  ----------------------------------------------------------------------\n",
      " |  Class methods defined here:\n",
      " |  \n",
      " |  __getformat__(typestr, /) from builtins.type\n",
      " |      You probably don't want to use this function.\n",
      " |      \n",
      " |        typestr\n",
      " |          Must be 'double' or 'float'.\n",
      " |      \n",
      " |      It exists mainly to be used in Python's test suite.\n",
      " |      \n",
      " |      This function returns whichever of 'unknown', 'IEEE, big-endian' or 'IEEE,\n",
      " |      little-endian' best describes the format of floating point numbers used by the\n",
      " |      C type named by typestr.\n",
      " |  \n",
      " |  __set_format__(typestr, fmt, /) from builtins.type\n",
      " |      You probably don't want to use this function.\n",
      " |      \n",
      " |        typestr\n",
      " |          Must be 'double' or 'float'.\n",
      " |        fmt\n",
      " |          Must be one of 'unknown', 'IEEE, big-endian' or 'IEEE, little-endian',\n",
      " |          and in addition can only be one of the latter two if it appears to\n",
      " |          match the underlying C reality.\n",
      " |      \n",
      " |      It exists mainly to be used in Python's test suite.\n",
      " |      \n",
      " |      Override the automatic determination of C-level floating point type.\n",
      " |      This affects how floats are converted to and from binary strings.\n",
      " |  \n",
      " |  fromhex(string, /) from builtins.type\n",
      " |      Create a floating-point number from a hexadecimal string.\n",
      " |      \n",
      " |      >>> float.fromhex('0x1.ffffp10')\n",
      " |      2047.984375\n",
      " |      >>> float.fromhex('-0x1p-1074')\n",
      " |      -5e-324\n",
      " |  \n",
      " |  ----------------------------------------------------------------------\n",
      " |  Static methods defined here:\n",
      " |  \n",
      " |  __new__(*args, **kwargs) from builtins.type\n",
      " |      Create and return a new object.  See help(type) for accurate signature.\n",
      " |  \n",
      " |  ----------------------------------------------------------------------\n",
      " |  Data descriptors defined here:\n",
      " |  \n",
      " |  imag\n",
      " |      the imaginary part of a complex number\n",
      " |  \n",
      " |  real\n",
      " |      the real part of a complex number\n",
      "\n"
     ]
    }
   ],
   "source": [
    "help(random.TWOPI)"
   ]
  },
  {
   "cell_type": "code",
   "execution_count": 56,
   "id": "a96a82aa",
   "metadata": {},
   "outputs": [
    {
     "data": {
      "text/plain": [
       "<bound method Random.uniform of <random.Random object at 0x000002B36E2A6550>>"
      ]
     },
     "execution_count": 56,
     "metadata": {},
     "output_type": "execute_result"
    }
   ],
   "source": [
    "random.uniform"
   ]
  },
  {
   "cell_type": "code",
   "execution_count": 57,
   "id": "bee64f70",
   "metadata": {},
   "outputs": [
    {
     "name": "stdout",
     "output_type": "stream",
     "text": [
      "Help on method uniform in module random:\n",
      "\n",
      "uniform(a, b) method of random.Random instance\n",
      "    Get a random number in the range [a, b) or [a, b] depending on rounding.\n",
      "\n"
     ]
    }
   ],
   "source": [
    "help(random.uniform)"
   ]
  },
  {
   "cell_type": "code",
   "execution_count": 58,
   "id": "3f316c85",
   "metadata": {},
   "outputs": [
    {
     "data": {
      "text/plain": [
       "<bound method Random.vonmisesvariate of <random.Random object at 0x000002B36E2A6550>>"
      ]
     },
     "execution_count": 58,
     "metadata": {},
     "output_type": "execute_result"
    }
   ],
   "source": [
    "random.vonmisesvariate"
   ]
  },
  {
   "cell_type": "code",
   "execution_count": 59,
   "id": "a6b00c5a",
   "metadata": {},
   "outputs": [
    {
     "name": "stdout",
     "output_type": "stream",
     "text": [
      "Help on method vonmisesvariate in module random:\n",
      "\n",
      "vonmisesvariate(mu, kappa) method of random.Random instance\n",
      "    Circular data distribution.\n",
      "    \n",
      "    mu is the mean angle, expressed in radians between 0 and 2*pi, and\n",
      "    kappa is the concentration parameter, which must be greater than or\n",
      "    equal to zero.  If kappa is equal to zero, this distribution reduces\n",
      "    to a uniform random angle over the range 0 to 2*pi.\n",
      "\n"
     ]
    }
   ],
   "source": [
    "help(random.vonmisesvariate)"
   ]
  },
  {
   "cell_type": "code",
   "execution_count": 60,
   "id": "3ede31d4",
   "metadata": {},
   "outputs": [
    {
     "data": {
      "text/plain": [
       "<bound method Random.weibullvariate of <random.Random object at 0x000002B36E2A6550>>"
      ]
     },
     "execution_count": 60,
     "metadata": {},
     "output_type": "execute_result"
    }
   ],
   "source": [
    "random.weibullvariate"
   ]
  },
  {
   "cell_type": "code",
   "execution_count": 61,
   "id": "58c30f4a",
   "metadata": {},
   "outputs": [
    {
     "name": "stdout",
     "output_type": "stream",
     "text": [
      "Help on method weibullvariate in module random:\n",
      "\n",
      "weibullvariate(alpha, beta) method of random.Random instance\n",
      "    Weibull distribution.\n",
      "    \n",
      "    alpha is the scale parameter and beta is the shape parameter.\n",
      "\n"
     ]
    }
   ],
   "source": [
    "help(random.weibullvariate)"
   ]
  },
  {
   "cell_type": "code",
   "execution_count": null,
   "id": "6a83a3d2",
   "metadata": {},
   "outputs": [],
   "source": []
  }
 ],
 "metadata": {
  "kernelspec": {
   "display_name": "Python 3 (ipykernel)",
   "language": "python",
   "name": "python3"
  },
  "language_info": {
   "codemirror_mode": {
    "name": "ipython",
    "version": 3
   },
   "file_extension": ".py",
   "mimetype": "text/x-python",
   "name": "python",
   "nbconvert_exporter": "python",
   "pygments_lexer": "ipython3",
   "version": "3.8.8"
  }
 },
 "nbformat": 4,
 "nbformat_minor": 5
}
