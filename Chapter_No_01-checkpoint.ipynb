{
 "cells": [
  {
   "cell_type": "markdown",
   "id": "4b1fc938",
   "metadata": {},
   "source": [
    "# Modules, Comments and pip"
   ]
  },
  {
   "cell_type": "code",
   "execution_count": 2,
   "id": "06c61c67",
   "metadata": {},
   "outputs": [
    {
     "name": "stdout",
     "output_type": "stream",
     "text": [
      "Hello World\n"
     ]
    }
   ],
   "source": [
    "print(\"Hello World\")"
   ]
  },
  {
   "cell_type": "markdown",
   "id": "e0e3924e",
   "metadata": {},
   "source": [
    "Modules :-\n",
    " A module is a filecontaining code written by somebody else(usually) which can be imported and used in our programs"
   ]
  },
  {
   "cell_type": "markdown",
   "id": "b313d3ab",
   "metadata": {},
   "source": [
    "Built-in-Module ----> Pre installed in pythn"
   ]
  },
  {
   "cell_type": "markdown",
   "id": "5902ef98",
   "metadata": {},
   "source": [
    "External Module ----> Need to install using pip"
   ]
  },
  {
   "cell_type": "markdown",
   "id": "327b43b8",
   "metadata": {},
   "source": [
    "Pip :- pip is a package manager for python you can use pip to install a module on your system"
   ]
  },
  {
   "cell_type": "markdown",
   "id": "9a5dfc16",
   "metadata": {},
   "source": [
    "Comments :-- Comments are used to write something which the programmer does not want to execute."
   ]
  },
  {
   "cell_type": "markdown",
   "id": "f47f445f",
   "metadata": {},
   "source": [
    "Single-line-Comments -----> Written using # comments"
   ]
  },
  {
   "cell_type": "markdown",
   "id": "bbdb5b48",
   "metadata": {},
   "source": [
    "Multi-line-Comments -----> Written using '''comments'''"
   ]
  },
  {
   "cell_type": "code",
   "execution_count": 3,
   "id": "5e7f03b8",
   "metadata": {},
   "outputs": [
    {
     "name": "stdout",
     "output_type": "stream",
     "text": [
      "Twinkle, twinkle, little star,\n",
      "How I wonder what you are.\n",
      "Up above the world so high,\n",
      "Like a diamond in the sky.\n",
      "Twinkle, twinkle, little star,\n",
      "How I wonder what you are!\n"
     ]
    }
   ],
   "source": [
    "print('''Twinkle, twinkle, little star,\n",
    "How I wonder what you are.\n",
    "Up above the world so high,\n",
    "Like a diamond in the sky.\n",
    "Twinkle, twinkle, little star,\n",
    "How I wonder what you are!''')"
   ]
  },
  {
   "cell_type": "code",
   "execution_count": 5,
   "id": "f6e1e7be",
   "metadata": {},
   "outputs": [
    {
     "data": {
      "text/plain": [
       "5"
      ]
     },
     "execution_count": 5,
     "metadata": {},
     "output_type": "execute_result"
    }
   ],
   "source": [
    "5*1"
   ]
  },
  {
   "cell_type": "code",
   "execution_count": 6,
   "id": "96eb6ed6",
   "metadata": {},
   "outputs": [
    {
     "data": {
      "text/plain": [
       "10"
      ]
     },
     "execution_count": 6,
     "metadata": {},
     "output_type": "execute_result"
    }
   ],
   "source": [
    "5*2"
   ]
  },
  {
   "cell_type": "code",
   "execution_count": 7,
   "id": "3be95748",
   "metadata": {},
   "outputs": [
    {
     "data": {
      "text/plain": [
       "15"
      ]
     },
     "execution_count": 7,
     "metadata": {},
     "output_type": "execute_result"
    }
   ],
   "source": [
    "5*3"
   ]
  },
  {
   "cell_type": "code",
   "execution_count": 8,
   "id": "044ce24a",
   "metadata": {},
   "outputs": [
    {
     "data": {
      "text/plain": [
       "20"
      ]
     },
     "execution_count": 8,
     "metadata": {},
     "output_type": "execute_result"
    }
   ],
   "source": [
    "5*4"
   ]
  },
  {
   "cell_type": "code",
   "execution_count": 9,
   "id": "1097b5dd",
   "metadata": {},
   "outputs": [
    {
     "data": {
      "text/plain": [
       "25"
      ]
     },
     "execution_count": 9,
     "metadata": {},
     "output_type": "execute_result"
    }
   ],
   "source": [
    "5*5"
   ]
  },
  {
   "cell_type": "code",
   "execution_count": 10,
   "id": "e106bd61",
   "metadata": {},
   "outputs": [
    {
     "name": "stdout",
     "output_type": "stream",
     "text": [
      "Requirement already satisfied: playsound in c:\\users\\razat\\anaconda3\\lib\\site-packages (1.3.0)\n",
      "Note: you may need to restart the kernel to use updated packages.\n"
     ]
    }
   ],
   "source": [
    "pip install playsound"
   ]
  },
  {
   "cell_type": "code",
   "execution_count": null,
   "id": "bb0217be",
   "metadata": {},
   "outputs": [],
   "source": [
    "from playsound import playsound\n",
    "playsound(\"E:\\\\courses\\\\python\\\\play.mp3.mp3\")"
   ]
  },
  {
   "cell_type": "code",
   "execution_count": 2,
   "id": "d50c2150",
   "metadata": {},
   "outputs": [
    {
     "name": "stdout",
     "output_type": "stream",
     "text": [
      "['-1.14-windows.xml', '.bash_history', '.conda', '.condarc', '.continuum', '.gitconfig', '.idlerc', '.ipynb_checkpoints', '.ipython', '.jupyter', '.lesshst', '.matplotlib', '.spyder-py3', '.ssh', '.VirtualBox', '.vscode', '3D Objects', '40a_Math_Module.ipynb', '41a_Random_Module.ipynb', '42a_DateTime_Module.ipynb', 'anaconda3', 'AppData', 'Application Data', 'chapter 07.ipynb', 'Chapter 08 Functions and Recursions.ipynb', 'Chapter 08.ipynb', 'Chapter 1  Modules, Comments & Pip.ipynb', 'Chapter 2  Variables & Datatypes.ipynb', 'Chapter 3 Strings.ipynb', 'Chapter 4 Lists & Tuples.ipynb', 'Chapter 5 Dictionary & Sets.ipynb', 'Chapter 6 Conditional Expressions.ipynb', 'Chapter 7 Loops in Python.ipynb', 'Chapter_5_Dictionary_&_Sets.ipynb', 'Chapter_6_Conditional_Expressions.ipynb', 'Chapter_7_Loops_in_Python.ipynb', 'chapter_No_01.ipynb', 'Contacts', 'Cookies', 'Data science class 03.ipynb', 'Data science class 2.ipynb', 'Data Science class 4.ipynb', 'Documents', 'Downloads', 'Favorites', 'Functions_in_Python_Full.ipynb', 'Geekletters.txt', 'Greekletters.txt', 'HELP Command.ipynb', 'IntelGraphicsProfiles', 'Jedi', 'Links', 'Local Settings', 'mobile.txt', 'Music', 'My Documents', 'My Drivers', 'myfile.txt', 'NetHood', 'NTUSER.DAT', 'ntuser.dat.LOG1', 'ntuser.dat.LOG2', 'NTUSER.DAT{53b39e88-18c4-11ea-a811-000d3aa4692b}.TM.blf', 'NTUSER.DAT{53b39e88-18c4-11ea-a811-000d3aa4692b}.TMContainer00000000000000000001.regtrans-ms', 'NTUSER.DAT{53b39e88-18c4-11ea-a811-000d3aa4692b}.TMContainer00000000000000000002.regtrans-ms', 'ntuser.ini', 'OneDrive', 'phone numbers.ipynb', 'Phonenumbers.ipynb', 'PrintHood', 'Python_Alpha_(Monthly)_Day_01.ipynb', 'Python_Alpha_(Monthly)_Day_02.ipynb', 'Python_Alpha_(Monthly)_Day_03.ipynb', 'Python_Alpha_(Monthly)_Day_04.ipynb', 'Python_Alpha_(Monthly)_Day_05.ipynb', 'Python_Alpha_(Monthly)_Day_06.ipynb', 'Python_Beta_(Monthly)_Day_01.ipynb', 'Python_Beta_(Monthly)_Day_02(a).ipynb', 'Python_Beta_(Monthly)_Day_02(b).ipynb', 'Python_Beta_(Monthly)_Day_02(c).ipynb', 'Python_Beta_(Monthly)_Day_02(d).ipynb', 'Python_Beta_(Monthly)_Day_03(a).ipynb', 'Python_Beta_(Monthly)_Day_03(b).ipynb', 'Python_Beta_(Monthly)_Day_03(c).ipynb', 'Python_Beta_(Monthly)_Day_03(d).ipynb', 'Python_Beta_(Monthly)_Day_04(a).ipynb', 'Python_Beta_(Monthly)_Day_04(b).ipynb', 'Python_Beta_(Monthly)_Day_04(c).ipynb', 'Python_Beta_(Monthly)_Day_05(a).ipynb', 'Python_Beta_(Monthly)_Day_05(b).ipynb', 'Python_Beta_(Monthly)_Day_05(c).ipynb', 'Python_Beta_(Monthly)_Day_06(a).ipynb', 'Python_Beta_(Monthly)_Day_06(b).ipynb', 'Python_Beta_(Monthly)_Day_07(a).ipynb', 'Python_Beta_(Monthly)_Day_07(b).ipynb', 'Python_Beta_(Monthly)_Day_08(a).ipynb', 'Python_Beta_(Monthly)_Day_08(b).ipynb', 'Python_Beta_(Monthly)_Day_09(a).ipynb', 'Python_Beta_(Monthly)_Day_09(b).ipynb', 'Python_Beta_(Monthly)_Day_10(a).ipynb', 'Python_Beta_(Monthly)_Day_10(b).ipynb', 'Python_Beta_(Monthly)_Day_11(a).ipynb', 'Python_Beta_(Monthly)_Day_11(b).ipynb', 'Python_Beta_(Monthly)_List_Comprehensions.ipynb', 'Python_Primer_(Monthly)_Day_01.ipynb', 'Python_Primer_(Monthly)_Day_02.ipynb', 'Recent', 'Saved Games', 'Searches', 'SendTo', 'Start Menu', 'Templates', 'Untitled.ipynb', 'Videos', 'VirtualBox VMs']\n"
     ]
    }
   ],
   "source": [
    "import os\n",
    "print(os.listdir())"
   ]
  },
  {
   "cell_type": "code",
   "execution_count": null,
   "id": "ca238a8f",
   "metadata": {},
   "outputs": [],
   "source": []
  }
 ],
 "metadata": {
  "kernelspec": {
   "display_name": "Python 3 (ipykernel)",
   "language": "python",
   "name": "python3"
  },
  "language_info": {
   "codemirror_mode": {
    "name": "ipython",
    "version": 3
   },
   "file_extension": ".py",
   "mimetype": "text/x-python",
   "name": "python",
   "nbconvert_exporter": "python",
   "pygments_lexer": "ipython3",
   "version": "3.8.8"
  }
 },
 "nbformat": 4,
 "nbformat_minor": 5
}
