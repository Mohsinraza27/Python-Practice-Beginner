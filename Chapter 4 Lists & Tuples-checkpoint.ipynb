{
 "cells": [
  {
   "cell_type": "code",
   "execution_count": 1,
   "id": "ea527522",
   "metadata": {},
   "outputs": [
    {
     "name": "stdout",
     "output_type": "stream",
     "text": [
      "[12, 45, 'Haary', 78.5, 'List']\n"
     ]
    }
   ],
   "source": [
    "friends = [12, 45, \"Haary\", 78.5, \"List\"]\n",
    "print(friends)"
   ]
  },
  {
   "cell_type": "code",
   "execution_count": 2,
   "id": "ab390881",
   "metadata": {},
   "outputs": [
    {
     "name": "stdout",
     "output_type": "stream",
     "text": [
      "23\n"
     ]
    }
   ],
   "source": [
    "friends = [23, 14, \"Harry\", 12.4, 78, \"Raza\"]\n",
    "print(friends[0])"
   ]
  },
  {
   "cell_type": "code",
   "execution_count": 3,
   "id": "4b68407b",
   "metadata": {},
   "outputs": [
    {
     "name": "stdout",
     "output_type": "stream",
     "text": [
      "Harry\n"
     ]
    }
   ],
   "source": [
    "friends = [23, 14, \"Harry\", 12.4, 78, \"Raza\"]\n",
    "print(friends[2])"
   ]
  },
  {
   "cell_type": "code",
   "execution_count": 6,
   "id": "9324fe9f",
   "metadata": {},
   "outputs": [
    {
     "name": "stdout",
     "output_type": "stream",
     "text": [
      "Raza\n"
     ]
    }
   ],
   "source": [
    "friends = [23, 14, \"Harry\", 12.4, 78, \"Raza\"]\n",
    "print(friends[5])"
   ]
  },
  {
   "cell_type": "code",
   "execution_count": 7,
   "id": "e116a91f",
   "metadata": {},
   "outputs": [
    {
     "name": "stdout",
     "output_type": "stream",
     "text": [
      "[23, 14, 'Harry', 12.4]\n"
     ]
    }
   ],
   "source": [
    "friends = [23, 14, \"Harry\", 12.4, 78, \"Raza\"]\n",
    "print(friends[0:4])"
   ]
  },
  {
   "cell_type": "code",
   "execution_count": 8,
   "id": "0f91c988",
   "metadata": {},
   "outputs": [
    {
     "name": "stdout",
     "output_type": "stream",
     "text": [
      "[78]\n"
     ]
    }
   ],
   "source": [
    "friends = [23, 14, \"Harry\", 12.4, 78, \"Raza\"]\n",
    "print(friends[-2:-1])"
   ]
  },
  {
   "cell_type": "code",
   "execution_count": 9,
   "id": "ffd374db",
   "metadata": {},
   "outputs": [
    {
     "name": "stdout",
     "output_type": "stream",
     "text": [
      "[14, 'Harry', 12.4, 78]\n"
     ]
    }
   ],
   "source": [
    "friends = [23, 14, \"Harry\", 12.4, 78, \"Raza\"]\n",
    "print(friends[-5:-1])"
   ]
  },
  {
   "cell_type": "code",
   "execution_count": 12,
   "id": "27bc28b2",
   "metadata": {},
   "outputs": [
    {
     "name": "stdout",
     "output_type": "stream",
     "text": [
      "[23, 14, 'Mohsin', 12.4, 78, 'Raza']\n"
     ]
    }
   ],
   "source": [
    "friends = [23, 14, \"Harry\", 12.4, 78, \"Raza\"]\n",
    "friends[2] = \"Mohsin\" \n",
    "print(friends)"
   ]
  },
  {
   "cell_type": "code",
   "execution_count": 13,
   "id": "34d7dc4a",
   "metadata": {},
   "outputs": [
    {
     "name": "stdout",
     "output_type": "stream",
     "text": [
      "[23, 14, 'Harry', 12.4, 25, 'Raza']\n"
     ]
    }
   ],
   "source": [
    "friends = [23, 14, \"Harry\", 12.4, 78, \"Raza\"]\n",
    "friends[4] = 25 \n",
    "print(friends)"
   ]
  },
  {
   "cell_type": "code",
   "execution_count": 16,
   "id": "3634946a",
   "metadata": {},
   "outputs": [
    {
     "name": "stdout",
     "output_type": "stream",
     "text": [
      "[1, 3, 4, 7, 32, 50, 78, 78, 99]\n"
     ]
    }
   ],
   "source": [
    "#List Methods\n",
    "#sort the list (1, 2, 3,.......)\n",
    "l1 = [1, 3, 78, 4, 7, 50, 99, 32, 78]\n",
    "l1.sort()\n",
    "print(l1)"
   ]
  },
  {
   "cell_type": "code",
   "execution_count": 23,
   "id": "45a4361f",
   "metadata": {},
   "outputs": [
    {
     "name": "stdout",
     "output_type": "stream",
     "text": [
      "[1, 3, 4, 7, 32, 50, 78, 78, 99]\n",
      "[99, 78, 78, 50, 32, 7, 4, 3, 1]\n"
     ]
    }
   ],
   "source": [
    "#Reverse the list \n",
    "l1 = [1, 3, 78, 4, 7, 50, 99, 32, 78]\n",
    "l1.sort()\n",
    "print(l1)\n",
    "#l1 = [1, 3, 78, 4, 7, 50, 99, 32, 78]\n",
    "\n",
    "l1.reverse()\n",
    "print(l1)"
   ]
  },
  {
   "cell_type": "code",
   "execution_count": 25,
   "id": "31d284bc",
   "metadata": {},
   "outputs": [
    {
     "name": "stdout",
     "output_type": "stream",
     "text": [
      "[1, 3, 78, 4, 7, 50, 99, 32, 78, 145, 200]\n"
     ]
    }
   ],
   "source": [
    "#Add the tem at theend of the list\n",
    "l1 = [1, 3, 78, 4, 7, 50, 99, 32, 78]\n",
    "l1.append(145)\n",
    "l1.append(200)\n",
    "print(l1)\n"
   ]
  },
  {
   "cell_type": "code",
   "execution_count": 26,
   "id": "977cd747",
   "metadata": {
    "scrolled": true
   },
   "outputs": [
    {
     "name": "stdout",
     "output_type": "stream",
     "text": [
      "[1, 3, 78, 4, 'raza', 7, 50, 99, 32, 78]\n"
     ]
    }
   ],
   "source": [
    "#Add the item at index '4' to \"Raza\"\n",
    "l1 = [1, 3, 78, 4, 7, 50, 99, 32, 78]\n",
    "l1.insert(4, \"raza\")\n",
    "print(l1)"
   ]
  },
  {
   "cell_type": "code",
   "execution_count": 28,
   "id": "eb245c45",
   "metadata": {},
   "outputs": [
    {
     "name": "stdout",
     "output_type": "stream",
     "text": [
      "[1, 3, 78, 4, 7, 50, 32, 78]\n"
     ]
    }
   ],
   "source": [
    "#Delete the item index '6'\n",
    "l1 = [1, 3, 78, 4, 7, 50, 99, 32, 78]\n",
    "l1.pop(6)\n",
    "print(l1)"
   ]
  },
  {
   "cell_type": "code",
   "execution_count": 29,
   "id": "2551a089",
   "metadata": {},
   "outputs": [
    {
     "name": "stdout",
     "output_type": "stream",
     "text": [
      "[1, 3, 78, 4, 7, 50, 32, 78]\n"
     ]
    }
   ],
   "source": [
    "#Rmove the item in the list\n",
    "l1 = [1, 3, 78, 4, 7, 50, 99, 32, 78]\n",
    "l1.remove(99)\n",
    "print(l1)"
   ]
  },
  {
   "cell_type": "code",
   "execution_count": 30,
   "id": "bd7e61de",
   "metadata": {},
   "outputs": [
    {
     "name": "stdout",
     "output_type": "stream",
     "text": [
      "(1, 3, 5, 7, 9, 23, 56, 78)\n"
     ]
    }
   ],
   "source": [
    "#TUPPLE \n",
    "a = (1, 3, 5, 7, 9, 23, 56, 78)\n",
    "print(a)"
   ]
  },
  {
   "cell_type": "code",
   "execution_count": 31,
   "id": "4d2734cd",
   "metadata": {},
   "outputs": [
    {
     "name": "stdout",
     "output_type": "stream",
     "text": [
      "()\n"
     ]
    }
   ],
   "source": [
    "#Empty tupple\n",
    "a = ()\n",
    "print(a)"
   ]
  },
  {
   "cell_type": "code",
   "execution_count": 33,
   "id": "fc401536",
   "metadata": {},
   "outputs": [
    {
     "name": "stdout",
     "output_type": "stream",
     "text": [
      "1\n"
     ]
    }
   ],
   "source": [
    "\n",
    "a = (1)\n",
    "print(a)"
   ]
  },
  {
   "cell_type": "code",
   "execution_count": 34,
   "id": "19b5fecd",
   "metadata": {},
   "outputs": [
    {
     "name": "stdout",
     "output_type": "stream",
     "text": [
      "(1,)\n"
     ]
    }
   ],
   "source": [
    "#Tuple with only one element needs a com\n",
    "a = (1,)\n",
    "print(a)"
   ]
  },
  {
   "cell_type": "code",
   "execution_count": 36,
   "id": "7eb917f6",
   "metadata": {},
   "outputs": [
    {
     "name": "stdout",
     "output_type": "stream",
     "text": [
      "2\n"
     ]
    }
   ],
   "source": [
    "#Tuple Methods\n",
    "#Count the item '4' from the tuple\n",
    "t = (1, 4, 7, 9, 4)\n",
    "print(t.count(4))"
   ]
  },
  {
   "cell_type": "code",
   "execution_count": 39,
   "id": "4fa16c33",
   "metadata": {},
   "outputs": [
    {
     "name": "stdout",
     "output_type": "stream",
     "text": [
      "0\n"
     ]
    }
   ],
   "source": [
    "t = (1, 4, 7, 9, 4)\n",
    "print(t.index(1))"
   ]
  },
  {
   "cell_type": "code",
   "execution_count": 3,
   "id": "453031c2",
   "metadata": {},
   "outputs": [
    {
     "name": "stdout",
     "output_type": "stream",
     "text": [
      "['mango', 'banana', 'apple', 'lemon', 'onion', 'watermalon']\n"
     ]
    }
   ],
   "source": [
    "#PRACTICE SET\n",
    "f = [\"mango\", \"banana\", \"apple\", \"lemon\", \"onion\", \"watermalon\", ]\n",
    "print(f)"
   ]
  },
  {
   "cell_type": "code",
   "execution_count": 4,
   "id": "551425fe",
   "metadata": {},
   "outputs": [
    {
     "name": "stdout",
     "output_type": "stream",
     "text": [
      "Enter the fruit name1: Mango\n",
      "Enter the fruit name2: Apple\n",
      "Enter the fruit name3: Banana\n",
      "Enter the fruit name4: Orange\n",
      "Enter the fruit name5: Lemon\n",
      "['Mango', 'Apple', 'Banana', 'Orange', 'Lemon']\n"
     ]
    }
   ],
   "source": [
    "f1 = input(\"Enter the fruit name1: \")\n",
    "f2 = input(\"Enter the fruit name2: \")\n",
    "f3 = input(\"Enter the fruit name3: \")\n",
    "f4 = input(\"Enter the fruit name4: \")\n",
    "f5 = input(\"Enter the fruit name5: \")\n",
    "f = [f1, f2, f3, f4, f5]\n",
    "print(f)"
   ]
  },
  {
   "cell_type": "code",
   "execution_count": 6,
   "id": "44d9c528",
   "metadata": {},
   "outputs": [
    {
     "name": "stdout",
     "output_type": "stream",
     "text": [
      "Enter your marks: 235\n",
      "Enter your marks: 356\n",
      "Enter your marks: 145\n",
      "Enter your marks: 403\n",
      "Enter your marks: 450\n",
      "[235, 356, 145, 403, 450]\n"
     ]
    }
   ],
   "source": [
    "m1 = int(input(\"Enter your marks: \"))\n",
    "m2 = int(input(\"Enter your marks: \"))\n",
    "m3 = int(input(\"Enter your marks: \"))\n",
    "m4 = int(input(\"Enter your marks: \"))\n",
    "m5 = int(input(\"Enter your marks: \"))\n",
    "m = [m1, m2, m3, m4, m5]\n",
    "print(m)\n"
   ]
  },
  {
   "cell_type": "code",
   "execution_count": 9,
   "id": "fff7fc49",
   "metadata": {},
   "outputs": [
    {
     "ename": "TypeError",
     "evalue": "'tuple' object does not support item assignment",
     "output_type": "error",
     "traceback": [
      "\u001b[1;31m---------------------------------------------------------------------------\u001b[0m",
      "\u001b[1;31mTypeError\u001b[0m                                 Traceback (most recent call last)",
      "\u001b[1;32m<ipython-input-9-55cbdd6fff66>\u001b[0m in \u001b[0;36m<module>\u001b[1;34m\u001b[0m\n\u001b[0;32m      1\u001b[0m \u001b[0mt\u001b[0m \u001b[1;33m=\u001b[0m \u001b[1;33m(\u001b[0m\u001b[1;36m1\u001b[0m\u001b[1;33m,\u001b[0m \u001b[1;36m3\u001b[0m\u001b[1;33m,\u001b[0m \u001b[1;36m5\u001b[0m\u001b[1;33m,\u001b[0m \u001b[1;36m7\u001b[0m\u001b[1;33m)\u001b[0m\u001b[1;33m\u001b[0m\u001b[1;33m\u001b[0m\u001b[0m\n\u001b[1;32m----> 2\u001b[1;33m \u001b[0mt\u001b[0m\u001b[1;33m[\u001b[0m\u001b[1;36m3\u001b[0m\u001b[1;33m]\u001b[0m \u001b[1;33m=\u001b[0m \u001b[1;36m9\u001b[0m\u001b[1;33m\u001b[0m\u001b[1;33m\u001b[0m\u001b[0m\n\u001b[0m\u001b[0;32m      3\u001b[0m \u001b[0mprint\u001b[0m\u001b[1;33m(\u001b[0m\u001b[0mt\u001b[0m\u001b[1;33m)\u001b[0m\u001b[1;33m\u001b[0m\u001b[1;33m\u001b[0m\u001b[0m\n",
      "\u001b[1;31mTypeError\u001b[0m: 'tuple' object does not support item assignment"
     ]
    }
   ],
   "source": [
    "#TypeError: 'tuple' object does not support item assignment\n",
    "t = (1, 3, 5, 7)\n",
    "t[3] = 9\n",
    "print(t)"
   ]
  },
  {
   "cell_type": "code",
   "execution_count": 12,
   "id": "f9f9bf35",
   "metadata": {},
   "outputs": [
    {
     "name": "stdout",
     "output_type": "stream",
     "text": [
      "223\n"
     ]
    }
   ],
   "source": [
    "l = [21, 34, 78, 90]\n",
    "\n",
    "print(sum(l))"
   ]
  },
  {
   "cell_type": "code",
   "execution_count": 13,
   "id": "0ebff394",
   "metadata": {},
   "outputs": [
    {
     "name": "stdout",
     "output_type": "stream",
     "text": [
      "223\n"
     ]
    }
   ],
   "source": [
    "l = [21, 34, 78, 90]\n",
    "print(l[0]+l[1]+l[2]+l[3])"
   ]
  },
  {
   "cell_type": "code",
   "execution_count": 14,
   "id": "1384bbb3",
   "metadata": {},
   "outputs": [
    {
     "name": "stdout",
     "output_type": "stream",
     "text": [
      "3\n"
     ]
    }
   ],
   "source": [
    "a = (7, 0, 8, 0, 0, 9)\n",
    "print(a.count(0))"
   ]
  },
  {
   "cell_type": "code",
   "execution_count": null,
   "id": "fbbebb54",
   "metadata": {},
   "outputs": [],
   "source": []
  }
 ],
 "metadata": {
  "kernelspec": {
   "display_name": "Python 3",
   "language": "python",
   "name": "python3"
  },
  "language_info": {
   "codemirror_mode": {
    "name": "ipython",
    "version": 3
   },
   "file_extension": ".py",
   "mimetype": "text/x-python",
   "name": "python",
   "nbconvert_exporter": "python",
   "pygments_lexer": "ipython3",
   "version": "3.8.8"
  }
 },
 "nbformat": 4,
 "nbformat_minor": 5
}
