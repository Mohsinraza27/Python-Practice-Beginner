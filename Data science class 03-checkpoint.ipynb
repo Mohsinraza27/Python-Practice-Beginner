{
 "cells": [
  {
   "cell_type": "code",
   "execution_count": 10,
   "id": "f123a2b2",
   "metadata": {},
   "outputs": [
    {
     "name": "stdout",
     "output_type": "stream",
     "text": [
      "Pass\n",
      "Fail! Try next time\n",
      "you are defficult to 'Pass'\n"
     ]
    }
   ],
   "source": [
    "#CONDITIONS\n",
    "marks = 56\n",
    "if marks > 40 :\n",
    "    print(\"Pass\")\n",
    "elif marks < 40:\n",
    "    print(\"Fail! Try next time\")\n",
    "else:\n",
    "    print(\"your result not available\")\n",
    "\n",
    "    \n",
    "marks = 35\n",
    "if marks > 40 :\n",
    "    print(\"Pass\")\n",
    "elif marks == 40:\n",
    "    print(\"you are defficult pass\")\n",
    "else:\n",
    "    print(\"Fail! Try next time\")\n",
    "\n",
    "marks = 40\n",
    "if marks > 40 :\n",
    "    print(\"Pass\")\n",
    "elif marks == 40:\n",
    "    print(\"you are defficult to 'Pass'\")\n",
    "else:\n",
    "    print(\"Fail! Try next time\")\n"
   ]
  },
  {
   "cell_type": "code",
   "execution_count": 15,
   "id": "36d15a64",
   "metadata": {},
   "outputs": [
    {
     "name": "stdout",
     "output_type": "stream",
     "text": [
      "You 'Passed'\n",
      "You aced\n"
     ]
    }
   ],
   "source": [
    "marks = 50\n",
    "if (marks > 50):\n",
    "    if (marks > 80):\n",
    "        print(\"You aced\")\n",
    "    elif (80 > marks > 70):\n",
    "        print(\"B Grade\")\n",
    "else:\n",
    "    print(\"You 'Passed'\")\n",
    "\n",
    "marks = 85\n",
    "if (marks > 50):\n",
    "    if (marks > 80):\n",
    "        print(\"You aced\")\n",
    "    elif (80 > marks > 70):\n",
    "        print(\"B Grade\")\n",
    "else:\n",
    "    print(\"You 'Passed'\")\n",
    "        "
   ]
  },
  {
   "cell_type": "code",
   "execution_count": 18,
   "id": "f32426f3",
   "metadata": {},
   "outputs": [
    {
     "name": "stdout",
     "output_type": "stream",
     "text": [
      "[1, 3, 2, 4, 8, 9, 5, 6, 7, 9]\n",
      "5\n",
      "7\n",
      "9\n",
      "[3, 2, 4, 8, 9, 5]\n",
      "[1, 2, 8]\n",
      "[3, 4, 9, 6]\n",
      "[8, 9, 5, 6, 7]\n",
      "[3, 2, 4, 8, 9, 5, 6, 7]\n",
      "[9, 7, 6, 5, 9, 8, 4, 2, 3, 1]\n"
     ]
    }
   ],
   "source": [
    "#LIST  \n",
    "a = [1,3, 2, 4, 8, 9, 5,6, 7, 9]\n",
    "print(a)\n",
    "\n",
    "#Indexing\n",
    "print(a[6])\n",
    "print(a[8])\n",
    "print(a[-5])\n",
    "\n",
    "#Slicing\n",
    "print(a[1:7])\n",
    "print(a[:5:2])\n",
    "print(a[1:8:2])\n",
    "print(a[-6:-1])\n",
    "print(a[-9:-1])\n",
    "print(a[: :-1])       #Reverce List\n",
    "\n"
   ]
  },
  {
   "cell_type": "code",
   "execution_count": 26,
   "id": "0880f4c1",
   "metadata": {},
   "outputs": [
    {
     "name": "stdout",
     "output_type": "stream",
     "text": [
      "<class 'str'>\n",
      "<class 'int'>\n",
      "<class 'float'>\n",
      "<class 'tuple'>\n",
      "<class 'set'>\n",
      "<class 'list'>\n",
      "<class 'dict'>\n"
     ]
    }
   ],
   "source": [
    "#Type Casting\n",
    "a = \"Mohsin\"\n",
    "b = 27\n",
    "c = 27.0\n",
    "d = (1,3, 6, 8, 5, 6)\n",
    "e = {1, 3, 6, 8, 5, 6}\n",
    "f = [1, 3, 6, 8, 5, 6]\n",
    "g = {\"Mohsin\": \"Raza\",\n",
    "    \"Ali\": \"Ahmed\"}\n",
    "\n",
    "print(type(a))\n",
    "print(type(b))\n",
    "print(type(c))\n",
    "print(type(d))\n",
    "print(type(e))\n",
    "print(type(f))\n",
    "print(type(g))\n",
    "\n",
    "#print(int(a))"
   ]
  },
  {
   "cell_type": "code",
   "execution_count": 2,
   "id": "ba63cd20",
   "metadata": {},
   "outputs": [
    {
     "name": "stdout",
     "output_type": "stream",
     "text": [
      "Enter your value: 34\n",
      "Enter your value: 4\n",
      "Enter your value: 56\n",
      "Enter your value: 67\n",
      "Enter your value: 23\n",
      "['34', '4', '56', '67', '23']\n",
      "Enter your value:\n",
      " 34\n",
      "Enter your value:\n",
      " 4\n",
      "Enter your value:\n",
      " 56\n",
      "Enter your value:\n",
      " 67\n",
      "Enter your value:\n",
      " 78\n",
      "Enter your value:\n",
      " 2\n",
      "[23, 34, 56, 67, 34, 4, 56, 67, 78, 2]\n",
      "Enter your value:\n",
      "43\n"
     ]
    },
    {
     "ename": "AttributeError",
     "evalue": "'tuple' object has no attribute 'append'",
     "output_type": "error",
     "traceback": [
      "\u001b[1;31m---------------------------------------------------------------------------\u001b[0m",
      "\u001b[1;31mAttributeError\u001b[0m                            Traceback (most recent call last)",
      "\u001b[1;32m<ipython-input-2-de7e67a2b9f8>\u001b[0m in \u001b[0;36m<module>\u001b[1;34m\u001b[0m\n\u001b[0;32m     16\u001b[0m \u001b[1;32mfor\u001b[0m \u001b[0mi\u001b[0m \u001b[1;32min\u001b[0m \u001b[0mrange\u001b[0m\u001b[1;33m(\u001b[0m\u001b[1;36m10\u001b[0m\u001b[1;33m)\u001b[0m\u001b[1;33m:\u001b[0m\u001b[1;33m\u001b[0m\u001b[1;33m\u001b[0m\u001b[0m\n\u001b[0;32m     17\u001b[0m     \u001b[0mc\u001b[0m \u001b[1;33m=\u001b[0m \u001b[0minput\u001b[0m\u001b[1;33m(\u001b[0m\u001b[1;34m\"Enter your value:\\n\"\u001b[0m\u001b[1;33m)\u001b[0m\u001b[1;33m\u001b[0m\u001b[1;33m\u001b[0m\u001b[0m\n\u001b[1;32m---> 18\u001b[1;33m     \u001b[0mb\u001b[0m\u001b[1;33m.\u001b[0m\u001b[0mappend\u001b[0m\u001b[1;33m(\u001b[0m\u001b[0mc\u001b[0m\u001b[1;33m)\u001b[0m\u001b[1;33m\u001b[0m\u001b[1;33m\u001b[0m\u001b[0m\n\u001b[0m\u001b[0;32m     19\u001b[0m \u001b[0mprint\u001b[0m\u001b[1;33m(\u001b[0m\u001b[0mb\u001b[0m\u001b[1;33m)\u001b[0m\u001b[1;33m\u001b[0m\u001b[1;33m\u001b[0m\u001b[0m\n",
      "\u001b[1;31mAttributeError\u001b[0m: 'tuple' object has no attribute 'append'"
     ]
    }
   ],
   "source": [
    "#Loop\n",
    "a = []\n",
    "for i in range(5):\n",
    "    temp = input(\"Enter your value: \")\n",
    "    a.append(temp)\n",
    "print(a)\n",
    "\n",
    "c = [23, 34, 56, 67]\n",
    "for i in range(6):\n",
    "    temp = int(input(\"Enter your value:\\n \"))\n",
    "    c.append(temp)\n",
    "print(c)\n",
    "\n",
    "\n",
    "#b = ()                AttributeError: 'tuple' object has no attribute 'append'\n",
    "#for i in range(10):\n",
    "#    c = input(\"Enter your value:\\n\")\n",
    "#    b.append(c)\n",
    "#print(b)  "
   ]
  },
  {
   "cell_type": "markdown",
   "id": "2593f137",
   "metadata": {},
   "source": []
  },
  {
   "cell_type": "code",
   "execution_count": 9,
   "id": "dafd1940",
   "metadata": {},
   "outputs": [
    {
     "name": "stdout",
     "output_type": "stream",
     "text": [
      "\n",
      "*\n",
      "**\n",
      "***\n",
      "****\n",
      "*****\n",
      "******\n",
      "0\n",
      "1\n",
      "2\n",
      "3\n",
      "4\n",
      "5\n",
      "6\n",
      "0\n",
      "1\n",
      "2\n",
      "3\n",
      "4\n",
      "5\n",
      "6\n",
      "7\n",
      "8\n",
      "9\n",
      "10\n",
      "11\n",
      "12\n",
      "13\n",
      "14\n",
      "15\n",
      "16\n",
      "17\n",
      "18\n",
      "19\n",
      "20\n",
      "21\n",
      "22\n",
      "23\n",
      "24\n",
      "25\n",
      "26\n",
      "27\n",
      "28\n",
      "29\n",
      "30\n",
      "31\n",
      "32\n",
      "33\n",
      "34\n",
      "35\n",
      "36\n",
      "37\n",
      "38\n",
      "39\n",
      "40\n",
      "41\n",
      "42\n",
      "43\n",
      "44\n",
      "45\n",
      "46\n",
      "47\n",
      "48\n",
      "49\n"
     ]
    }
   ],
   "source": [
    "a = []\n",
    "for i in range(7):\n",
    "    print(\"*\"*i)\n",
    "    \n",
    "b = []\n",
    "for i in range(7):\n",
    "    i + 1\n",
    "    print(i)\n",
    "    \n",
    "c = []\n",
    "for i in range(50):\n",
    "    i + 1\n",
    "    print(i)"
   ]
  },
  {
   "cell_type": "code",
   "execution_count": 14,
   "id": "efbfee27",
   "metadata": {},
   "outputs": [
    {
     "name": "stdout",
     "output_type": "stream",
     "text": [
      "Enter the number:\n",
      " 1\n",
      "Enter the number:\n",
      " 2\n",
      "Enter the number:\n",
      " 3\n",
      "Enter the number:\n",
      " 4\n",
      "Enter the number:\n",
      " 5\n"
     ]
    }
   ],
   "source": [
    "\n",
    "for i in range(8):\n",
    "    int(input(\"Enter the number:\\n \"))\n",
    "    if (i==4):\n",
    "        break    "
   ]
  },
  {
   "cell_type": "code",
   "execution_count": 16,
   "id": "ed9dd9a8",
   "metadata": {},
   "outputs": [
    {
     "name": "stdout",
     "output_type": "stream",
     "text": [
      "10\n",
      "1\n",
      "2\n",
      "3\n",
      "4\n",
      "5\n",
      "6\n",
      "7\n",
      "8\n",
      "9\n"
     ]
    }
   ],
   "source": [
    "a = [1, 2, 3, 4, 5, 6, 7, 8, 9, 10]\n",
    "for i in range(len(a)):\n",
    "    print(a[i-1])"
   ]
  },
  {
   "cell_type": "code",
   "execution_count": 19,
   "id": "c74aa297",
   "metadata": {},
   "outputs": [
    {
     "name": "stdout",
     "output_type": "stream",
     "text": [
      "Enter any word:\n",
      "DAD\n",
      "Its Palindrome \n",
      "Enter any word:\n",
      "DADA\n",
      "Its not Palindrome\n"
     ]
    }
   ],
   "source": [
    "a = input(\"Enter any word:\\n\")\n",
    "if (a == a[::-1]):\n",
    "    print(\"Its Palindrome \")\n",
    "else:\n",
    "    print(\"Its not Palindrome\")\n",
    "    \n",
    "b = input(\"Enter any word:\\n\")\n",
    "if (b == b[::-1]):\n",
    "    print(\"Its Palindrome \")\n",
    "else:\n",
    "    print(\"Its not Palindrome\")"
   ]
  },
  {
   "cell_type": "code",
   "execution_count": null,
   "id": "628b39d5",
   "metadata": {},
   "outputs": [],
   "source": []
  },
  {
   "cell_type": "code",
   "execution_count": null,
   "id": "c816d2bb",
   "metadata": {},
   "outputs": [],
   "source": []
  }
 ],
 "metadata": {
  "kernelspec": {
   "display_name": "Python 3",
   "language": "python",
   "name": "python3"
  },
  "language_info": {
   "codemirror_mode": {
    "name": "ipython",
    "version": 3
   },
   "file_extension": ".py",
   "mimetype": "text/x-python",
   "name": "python",
   "nbconvert_exporter": "python",
   "pygments_lexer": "ipython3",
   "version": "3.8.8"
  }
 },
 "nbformat": 4,
 "nbformat_minor": 5
}
