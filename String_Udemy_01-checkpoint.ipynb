{
 "cells": [
  {
   "cell_type": "markdown",
   "id": "5b5b3857",
   "metadata": {},
   "source": [
    "# String"
   ]
  },
  {
   "cell_type": "markdown",
   "id": "d29222b3",
   "metadata": {},
   "source": [
    "## String"
   ]
  },
  {
   "cell_type": "markdown",
   "id": "079bc8ca",
   "metadata": {},
   "source": [
    "### String and their methods"
   ]
  },
  {
   "cell_type": "markdown",
   "id": "c0f22c3d",
   "metadata": {},
   "source": [
    "#### String"
   ]
  },
  {
   "cell_type": "markdown",
   "id": "f1add533",
   "metadata": {},
   "source": [
    "##### String"
   ]
  },
  {
   "cell_type": "markdown",
   "id": "59b94d0c",
   "metadata": {},
   "source": [
    "###### String"
   ]
  },
  {
   "cell_type": "markdown",
   "id": "32f6652b",
   "metadata": {},
   "source": [
    "*String*"
   ]
  },
  {
   "cell_type": "markdown",
   "id": "3c4c7e36",
   "metadata": {},
   "source": [
    "**String**"
   ]
  },
  {
   "cell_type": "markdown",
   "id": "d118e175",
   "metadata": {},
   "source": [
    "***String***"
   ]
  },
  {
   "cell_type": "markdown",
   "id": "d324c237",
   "metadata": {},
   "source": [
    "****String****"
   ]
  },
  {
   "cell_type": "code",
   "execution_count": 4,
   "id": "06d26da6",
   "metadata": {},
   "outputs": [
    {
     "name": "stdout",
     "output_type": "stream",
     "text": [
      "This is a string 1\n",
      "This is a string 2\n",
      "This is a string 3\n",
      "This is a string 4\n"
     ]
    }
   ],
   "source": [
    "a = 'This is a string 1'\n",
    "print(a)\n",
    "b = '''This is a string 2'''\n",
    "print(b)\n",
    "c = \"This is a string 3\"\n",
    "print(c)\n",
    "d = \"\"\"This is a string 4\"\"\"\n",
    "print(d)"
   ]
  },
  {
   "cell_type": "code",
   "execution_count": 6,
   "id": "52d0b6d6",
   "metadata": {},
   "outputs": [
    {
     "name": "stdout",
     "output_type": "stream",
     "text": [
      "I'm a programmer\n"
     ]
    }
   ],
   "source": [
    "a = \"I'm a programmer\"\n",
    "print(a)"
   ]
  },
  {
   "cell_type": "code",
   "execution_count": 7,
   "id": "78c49e9d",
   "metadata": {},
   "outputs": [
    {
     "name": "stdout",
     "output_type": "stream",
     "text": [
      "I\"m a programmer\n"
     ]
    }
   ],
   "source": [
    "b = 'I\"m a programmer'\n",
    "print(b)"
   ]
  },
  {
   "cell_type": "code",
   "execution_count": 8,
   "id": "86efcdb8",
   "metadata": {},
   "outputs": [
    {
     "ename": "SyntaxError",
     "evalue": "invalid syntax (Temp/ipykernel_1936/2377822900.py, line 1)",
     "output_type": "error",
     "traceback": [
      "\u001b[1;36m  File \u001b[1;32m\"C:\\Users\\razat\\AppData\\Local\\Temp/ipykernel_1936/2377822900.py\"\u001b[1;36m, line \u001b[1;32m1\u001b[0m\n\u001b[1;33m    c = 'I'm a programmer'\u001b[0m\n\u001b[1;37m           ^\u001b[0m\n\u001b[1;31mSyntaxError\u001b[0m\u001b[1;31m:\u001b[0m invalid syntax\n"
     ]
    }
   ],
   "source": [
    "c = 'I'm a programmer'\n",
    "print(c)"
   ]
  },
  {
   "cell_type": "code",
   "execution_count": 10,
   "id": "82454b64",
   "metadata": {},
   "outputs": [
    {
     "name": "stdout",
     "output_type": "stream",
     "text": [
      "I'm a programmer\n"
     ]
    }
   ],
   "source": [
    "d = \"I\\'m a programmer\"\n",
    "print(d)"
   ]
  },
  {
   "cell_type": "code",
   "execution_count": 11,
   "id": "5f39d72e",
   "metadata": {},
   "outputs": [
    {
     "name": "stdout",
     "output_type": "stream",
     "text": [
      "I\\'m a programmer\n"
     ]
    }
   ],
   "source": [
    "e = \"I\\\\'m a programmer\"\n",
    "print(e)"
   ]
  },
  {
   "cell_type": "code",
   "execution_count": 13,
   "id": "37878bce",
   "metadata": {},
   "outputs": [
    {
     "name": "stdout",
     "output_type": "stream",
     "text": [
      "I'm a programmer\n"
     ]
    }
   ],
   "source": [
    "f = 'I\\'m a programmer'\n",
    "print(f)"
   ]
  },
  {
   "cell_type": "code",
   "execution_count": 14,
   "id": "5fc621ec",
   "metadata": {},
   "outputs": [
    {
     "name": "stdout",
     "output_type": "stream",
     "text": [
      "I'm a \n",
      "programmer\n"
     ]
    }
   ],
   "source": [
    "g = 'I\\'m a \\nprogrammer'\n",
    "print(g)"
   ]
  },
  {
   "cell_type": "code",
   "execution_count": 15,
   "id": "ba2f9b77",
   "metadata": {},
   "outputs": [
    {
     "name": "stdout",
     "output_type": "stream",
     "text": [
      "I'm a \tprogrammer\n"
     ]
    }
   ],
   "source": [
    "h = \"I'm a \\tprogrammer\"\n",
    "print(h)"
   ]
  },
  {
   "cell_type": "code",
   "execution_count": 16,
   "id": "eba1f92e",
   "metadata": {},
   "outputs": [
    {
     "name": "stdout",
     "output_type": "stream",
     "text": [
      "I'm a \bprogrammer\n"
     ]
    }
   ],
   "source": [
    "i = \"I'm a \\bprogrammer\"\n",
    "print(i)"
   ]
  },
  {
   "cell_type": "code",
   "execution_count": 17,
   "id": "1c7eaa3a",
   "metadata": {},
   "outputs": [
    {
     "name": "stdout",
     "output_type": "stream",
     "text": [
      "I'm a \f",
      "programmer\n"
     ]
    }
   ],
   "source": [
    "j = \"I'm a \\fprogrammer\"\n",
    "print(j)"
   ]
  },
  {
   "cell_type": "code",
   "execution_count": 18,
   "id": "29f8ac29",
   "metadata": {},
   "outputs": [
    {
     "ename": "SyntaxError",
     "evalue": "invalid syntax (Temp/ipykernel_1936/448422805.py, line 1)",
     "output_type": "error",
     "traceback": [
      "\u001b[1;36m  File \u001b[1;32m\"C:\\Users\\razat\\AppData\\Local\\Temp/ipykernel_1936/448422805.py\"\u001b[1;36m, line \u001b[1;32m1\u001b[0m\n\u001b[1;33m    k = R'I'm a programmer'\u001b[0m\n\u001b[1;37m            ^\u001b[0m\n\u001b[1;31mSyntaxError\u001b[0m\u001b[1;31m:\u001b[0m invalid syntax\n"
     ]
    }
   ],
   "source": [
    "k = R'I'm a programmer'\n",
    "print(k)"
   ]
  },
  {
   "cell_type": "code",
   "execution_count": 19,
   "id": "75ca8e90",
   "metadata": {},
   "outputs": [
    {
     "name": "stdout",
     "output_type": "stream",
     "text": [
      "I'm a \\nprogrammer\n"
     ]
    }
   ],
   "source": [
    "k = R\"I'm a \\nprogrammer\"\n",
    "print(k)"
   ]
  },
  {
   "cell_type": "code",
   "execution_count": 21,
   "id": "a935934d",
   "metadata": {},
   "outputs": [
    {
     "name": "stdout",
     "output_type": "stream",
     "text": [
      "I'm a \\\\tprogrammer\n"
     ]
    }
   ],
   "source": [
    "k = r\"I'm a \\\\tprogrammer\"\n",
    "print(k)"
   ]
  },
  {
   "cell_type": "code",
   "execution_count": 23,
   "id": "6a9daa92",
   "metadata": {},
   "outputs": [
    {
     "name": "stdout",
     "output_type": "stream",
     "text": [
      "I'm learning \"programming\"\n"
     ]
    }
   ],
   "source": [
    "l = '''I'm learning \"programming\"'''\n",
    "print(l)"
   ]
  },
  {
   "cell_type": "code",
   "execution_count": 25,
   "id": "d8bc3cb2",
   "metadata": {},
   "outputs": [
    {
     "name": "stdout",
     "output_type": "stream",
     "text": [
      "I'm learning \"programming\"\n"
     ]
    }
   ],
   "source": [
    "m = \"\"\"I'm learning \\\"programming\\\"\"\"\"\n",
    "print(m)"
   ]
  },
  {
   "cell_type": "markdown",
   "id": "48022805",
   "metadata": {},
   "source": [
    "### String and their Functions"
   ]
  },
  {
   "cell_type": "code",
   "execution_count": 1,
   "id": "a5b0de43",
   "metadata": {},
   "outputs": [
    {
     "name": "stdout",
     "output_type": "stream",
     "text": [
      "this is a python programme for string function\n"
     ]
    }
   ],
   "source": [
    "a = \"this is a python programme for string function\"\n",
    "print(a)"
   ]
  },
  {
   "cell_type": "code",
   "execution_count": 3,
   "id": "675d4e9a",
   "metadata": {},
   "outputs": [
    {
     "name": "stdout",
     "output_type": "stream",
     "text": [
      "This is a python programme for string function\n"
     ]
    }
   ],
   "source": [
    "print(a.capitalize())"
   ]
  },
  {
   "cell_type": "code",
   "execution_count": 4,
   "id": "c6713120",
   "metadata": {},
   "outputs": [
    {
     "name": "stdout",
     "output_type": "stream",
     "text": [
      "this is a python programme for string function\n"
     ]
    }
   ],
   "source": [
    "print(a.casefold())"
   ]
  },
  {
   "cell_type": "code",
   "execution_count": 8,
   "id": "da9ffb90",
   "metadata": {},
   "outputs": [
    {
     "name": "stdout",
     "output_type": "stream",
     "text": [
      "46\n",
      "this is a python programme for string function\n"
     ]
    }
   ],
   "source": [
    "b = len(a)\n",
    "print(b)\n",
    "print(a.center(b))"
   ]
  },
  {
   "cell_type": "code",
   "execution_count": 11,
   "id": "74850361",
   "metadata": {},
   "outputs": [
    {
     "name": "stdout",
     "output_type": "stream",
     "text": [
      "4\n"
     ]
    }
   ],
   "source": [
    "print(a.count(\"o\"))"
   ]
  },
  {
   "cell_type": "code",
   "execution_count": 12,
   "id": "b20e64f8",
   "metadata": {},
   "outputs": [
    {
     "name": "stdout",
     "output_type": "stream",
     "text": [
      "b'this is a python programme for string function'\n"
     ]
    }
   ],
   "source": [
    "print(a.encode())"
   ]
  },
  {
   "cell_type": "code",
   "execution_count": 15,
   "id": "947355e2",
   "metadata": {},
   "outputs": [
    {
     "name": "stdout",
     "output_type": "stream",
     "text": [
      "False\n",
      "True\n"
     ]
    }
   ],
   "source": [
    "print(a.endswith(\"e\"))\n",
    "print(a.endswith(\"n\"))"
   ]
  },
  {
   "cell_type": "code",
   "execution_count": 16,
   "id": "a6dbe2c4",
   "metadata": {},
   "outputs": [
    {
     "name": "stdout",
     "output_type": "stream",
     "text": [
      "this is a python programme for string function\n"
     ]
    }
   ],
   "source": [
    "print(a.expandtabs())"
   ]
  },
  {
   "cell_type": "code",
   "execution_count": 18,
   "id": "734c0c6e",
   "metadata": {},
   "outputs": [
    {
     "name": "stdout",
     "output_type": "stream",
     "text": [
      "Help on built-in function expandtabs:\n",
      "\n",
      "expandtabs(tabsize=8) method of builtins.str instance\n",
      "    Return a copy where all tab characters are expanded using spaces.\n",
      "    \n",
      "    If tabsize is not given, a tab size of 8 characters is assumed.\n",
      "\n"
     ]
    }
   ],
   "source": [
    "help(a.expandtabs)"
   ]
  },
  {
   "cell_type": "code",
   "execution_count": 20,
   "id": "21f265ea",
   "metadata": {},
   "outputs": [
    {
     "name": "stdout",
     "output_type": "stream",
     "text": [
      "14\n"
     ]
    }
   ],
   "source": [
    "print(a.find(\"o\"))"
   ]
  },
  {
   "cell_type": "code",
   "execution_count": 21,
   "id": "6d5d8d17",
   "metadata": {},
   "outputs": [
    {
     "name": "stdout",
     "output_type": "stream",
     "text": [
      "25\n"
     ]
    }
   ],
   "source": [
    "print(a.find(\"e\"))"
   ]
  },
  {
   "cell_type": "code",
   "execution_count": 22,
   "id": "82718e81",
   "metadata": {},
   "outputs": [
    {
     "name": "stdout",
     "output_type": "stream",
     "text": [
      "this is a python programme for string function\n"
     ]
    }
   ],
   "source": [
    "print(a.format())"
   ]
  },
  {
   "cell_type": "code",
   "execution_count": 26,
   "id": "a10c248d",
   "metadata": {},
   "outputs": [
    {
     "name": "stdout",
     "output_type": "stream",
     "text": [
      "this is a python programme for string function\n"
     ]
    }
   ],
   "source": [
    "print(a.format_map(\"function\"))"
   ]
  },
  {
   "cell_type": "code",
   "execution_count": 27,
   "id": "22265873",
   "metadata": {},
   "outputs": [
    {
     "name": "stdout",
     "output_type": "stream",
     "text": [
      "10\n"
     ]
    }
   ],
   "source": [
    "print(a.index(\"p\"))"
   ]
  },
  {
   "cell_type": "code",
   "execution_count": 28,
   "id": "661717e7",
   "metadata": {},
   "outputs": [
    {
     "name": "stdout",
     "output_type": "stream",
     "text": [
      "False\n"
     ]
    }
   ],
   "source": [
    "print(a.isalnum())"
   ]
  },
  {
   "cell_type": "code",
   "execution_count": 33,
   "id": "14da0f3a",
   "metadata": {},
   "outputs": [
    {
     "name": "stdout",
     "output_type": "stream",
     "text": [
      "False\n"
     ]
    }
   ],
   "source": [
    "print(a.isalpha())"
   ]
  },
  {
   "cell_type": "code",
   "execution_count": 34,
   "id": "f12d1a57",
   "metadata": {},
   "outputs": [
    {
     "name": "stdout",
     "output_type": "stream",
     "text": [
      "Help on built-in function isalpha:\n",
      "\n",
      "isalpha() method of builtins.str instance\n",
      "    Return True if the string is an alphabetic string, False otherwise.\n",
      "    \n",
      "    A string is alphabetic if all characters in the string are alphabetic and there\n",
      "    is at least one character in the string.\n",
      "\n"
     ]
    }
   ],
   "source": [
    "help(a.isalpha)"
   ]
  },
  {
   "cell_type": "code",
   "execution_count": 32,
   "id": "e0dcdf8f",
   "metadata": {},
   "outputs": [
    {
     "name": "stdout",
     "output_type": "stream",
     "text": [
      "True\n"
     ]
    }
   ],
   "source": [
    "print(a.isascii())"
   ]
  },
  {
   "cell_type": "code",
   "execution_count": 35,
   "id": "e8957bd7",
   "metadata": {},
   "outputs": [
    {
     "name": "stdout",
     "output_type": "stream",
     "text": [
      "False\n"
     ]
    }
   ],
   "source": [
    "print(a.isdecimal())"
   ]
  },
  {
   "cell_type": "code",
   "execution_count": 38,
   "id": "279bfcf4",
   "metadata": {},
   "outputs": [
    {
     "name": "stdout",
     "output_type": "stream",
     "text": [
      "False\n"
     ]
    }
   ],
   "source": [
    "print(a.isdigit())"
   ]
  },
  {
   "cell_type": "code",
   "execution_count": 39,
   "id": "1c9e984f",
   "metadata": {},
   "outputs": [
    {
     "name": "stdout",
     "output_type": "stream",
     "text": [
      "False\n"
     ]
    }
   ],
   "source": [
    "print(a.isidentifier())"
   ]
  },
  {
   "cell_type": "code",
   "execution_count": 40,
   "id": "6e7c32e8",
   "metadata": {},
   "outputs": [
    {
     "name": "stdout",
     "output_type": "stream",
     "text": [
      "Help on built-in function isidentifier:\n",
      "\n",
      "isidentifier() method of builtins.str instance\n",
      "    Return True if the string is a valid Python identifier, False otherwise.\n",
      "    \n",
      "    Call keyword.iskeyword(s) to test whether string s is a reserved identifier,\n",
      "    such as \"def\" or \"class\".\n",
      "\n"
     ]
    }
   ],
   "source": [
    "help(a.isidentifier)"
   ]
  },
  {
   "cell_type": "code",
   "execution_count": 41,
   "id": "4e314420",
   "metadata": {},
   "outputs": [
    {
     "name": "stdout",
     "output_type": "stream",
     "text": [
      "True\n"
     ]
    }
   ],
   "source": [
    "print(a.islower())"
   ]
  },
  {
   "cell_type": "code",
   "execution_count": 42,
   "id": "5c510aa1",
   "metadata": {},
   "outputs": [
    {
     "name": "stdout",
     "output_type": "stream",
     "text": [
      "False\n"
     ]
    }
   ],
   "source": [
    "print(a.isnumeric())"
   ]
  },
  {
   "cell_type": "code",
   "execution_count": 43,
   "id": "145b716b",
   "metadata": {},
   "outputs": [
    {
     "name": "stdout",
     "output_type": "stream",
     "text": [
      "True\n"
     ]
    }
   ],
   "source": [
    "print(a.isprintable())"
   ]
  },
  {
   "cell_type": "code",
   "execution_count": 44,
   "id": "ad293e3e",
   "metadata": {},
   "outputs": [
    {
     "name": "stdout",
     "output_type": "stream",
     "text": [
      "False\n"
     ]
    }
   ],
   "source": [
    "print(a.isspace())"
   ]
  },
  {
   "cell_type": "code",
   "execution_count": 45,
   "id": "a806aed7",
   "metadata": {},
   "outputs": [
    {
     "name": "stdout",
     "output_type": "stream",
     "text": [
      "False\n"
     ]
    }
   ],
   "source": [
    "print(a.istitle())"
   ]
  },
  {
   "cell_type": "code",
   "execution_count": 46,
   "id": "6226b093",
   "metadata": {},
   "outputs": [
    {
     "name": "stdout",
     "output_type": "stream",
     "text": [
      "False\n"
     ]
    }
   ],
   "source": [
    "print(a.isupper())"
   ]
  },
  {
   "cell_type": "code",
   "execution_count": 49,
   "id": "45d01eb5",
   "metadata": {},
   "outputs": [
    {
     "name": "stdout",
     "output_type": "stream",
     "text": [
      " this is a python programme for string functionfthis is a python programme for string functionuthis is a python programme for string functionnthis is a python programme for string functioncthis is a python programme for string functiontthis is a python programme for string functionithis is a python programme for string functionothis is a python programme for string functionnthis is a python programme for string function \n"
     ]
    }
   ],
   "source": [
    "print(a.join(\" function \"))"
   ]
  },
  {
   "cell_type": "code",
   "execution_count": 55,
   "id": "447b13fb",
   "metadata": {},
   "outputs": [
    {
     "name": "stdout",
     "output_type": "stream",
     "text": [
      "this is a python programme for string function\n"
     ]
    }
   ],
   "source": [
    "print(a.lower())"
   ]
  },
  {
   "cell_type": "code",
   "execution_count": 56,
   "id": "4e2088ec",
   "metadata": {},
   "outputs": [
    {
     "name": "stdout",
     "output_type": "stream",
     "text": [
      "this is a python programme for string function\n"
     ]
    }
   ],
   "source": [
    "print(a.lstrip())"
   ]
  },
  {
   "cell_type": "code",
   "execution_count": 59,
   "id": "5613d366",
   "metadata": {},
   "outputs": [
    {
     "name": "stdout",
     "output_type": "stream",
     "text": [
      "('this is a python programme for ', 'string', ' function')\n"
     ]
    }
   ],
   "source": [
    "print(a.partition(\"string\"))"
   ]
  },
  {
   "cell_type": "code",
   "execution_count": 61,
   "id": "3396bd33",
   "metadata": {},
   "outputs": [
    {
     "name": "stdout",
     "output_type": "stream",
     "text": [
      "-1\n"
     ]
    }
   ],
   "source": [
    "print(a.rfind(\"Programme\"))"
   ]
  },
  {
   "cell_type": "code",
   "execution_count": 63,
   "id": "9e03e953",
   "metadata": {},
   "outputs": [
    {
     "name": "stdout",
     "output_type": "stream",
     "text": [
      "31\n"
     ]
    }
   ],
   "source": [
    "print(a.rindex(\"string\"))"
   ]
  },
  {
   "cell_type": "code",
   "execution_count": 67,
   "id": "7d99d1e6",
   "metadata": {},
   "outputs": [
    {
     "name": "stdout",
     "output_type": "stream",
     "text": [
      "43\n"
     ]
    }
   ],
   "source": [
    "print(a.rindex(\"i\"))"
   ]
  },
  {
   "cell_type": "code",
   "execution_count": 71,
   "id": "ec707ed1",
   "metadata": {},
   "outputs": [
    {
     "name": "stdout",
     "output_type": "stream",
     "text": [
      "('this is a ', 'python', ' programme for string function')\n"
     ]
    }
   ],
   "source": [
    "print(a.rpartition(\"python\"))"
   ]
  },
  {
   "cell_type": "code",
   "execution_count": 72,
   "id": "ec58f670",
   "metadata": {},
   "outputs": [
    {
     "name": "stdout",
     "output_type": "stream",
     "text": [
      "['this', 'is', 'a', 'python', 'programme', 'for', 'string', 'function']\n"
     ]
    }
   ],
   "source": [
    "print(a.rsplit())"
   ]
  },
  {
   "cell_type": "code",
   "execution_count": 73,
   "id": "78d2b1e4",
   "metadata": {},
   "outputs": [
    {
     "name": "stdout",
     "output_type": "stream",
     "text": [
      "this is a python programme for string function\n"
     ]
    }
   ],
   "source": [
    "print(a.rstrip())"
   ]
  },
  {
   "cell_type": "code",
   "execution_count": 74,
   "id": "cf6aa702",
   "metadata": {},
   "outputs": [
    {
     "name": "stdout",
     "output_type": "stream",
     "text": [
      "['this', 'is', 'a', 'python', 'programme', 'for', 'string', 'function']\n"
     ]
    }
   ],
   "source": [
    "print(a.split())"
   ]
  },
  {
   "cell_type": "code",
   "execution_count": 76,
   "id": "ef3f5b44",
   "metadata": {},
   "outputs": [
    {
     "name": "stdout",
     "output_type": "stream",
     "text": [
      "['this is a python programme for string function']\n"
     ]
    }
   ],
   "source": [
    "print(a.splitlines())"
   ]
  },
  {
   "cell_type": "code",
   "execution_count": 78,
   "id": "beb5279d",
   "metadata": {},
   "outputs": [
    {
     "name": "stdout",
     "output_type": "stream",
     "text": [
      "True\n"
     ]
    }
   ],
   "source": [
    "print(a.startswith(\"t\"))"
   ]
  },
  {
   "cell_type": "code",
   "execution_count": 80,
   "id": "856274ae",
   "metadata": {},
   "outputs": [
    {
     "name": "stdout",
     "output_type": "stream",
     "text": [
      "this is a python programme for string function\n"
     ]
    }
   ],
   "source": [
    "print(a.strip())"
   ]
  },
  {
   "cell_type": "code",
   "execution_count": 82,
   "id": "3154d282",
   "metadata": {},
   "outputs": [
    {
     "name": "stdout",
     "output_type": "stream",
     "text": [
      "THIS IS A PYTHON PROGRAMME FOR STRING FUNCTION\n"
     ]
    }
   ],
   "source": [
    "print(a.swapcase())"
   ]
  },
  {
   "cell_type": "code",
   "execution_count": 84,
   "id": "f0790290",
   "metadata": {},
   "outputs": [
    {
     "name": "stdout",
     "output_type": "stream",
     "text": [
      "This Is A Python Programme For String Function\n"
     ]
    }
   ],
   "source": [
    "print(a.title())"
   ]
  },
  {
   "cell_type": "code",
   "execution_count": 87,
   "id": "544bcac3",
   "metadata": {},
   "outputs": [
    {
     "name": "stdout",
     "output_type": "stream",
     "text": [
      "this is a python programme for string function\n"
     ]
    }
   ],
   "source": [
    "print(a.translate(\"for\"))"
   ]
  },
  {
   "cell_type": "code",
   "execution_count": 89,
   "id": "e028e81f",
   "metadata": {},
   "outputs": [
    {
     "name": "stdout",
     "output_type": "stream",
     "text": [
      "THIS IS A PYTHON PROGRAMME FOR STRING FUNCTION\n"
     ]
    }
   ],
   "source": [
    "print(a.upper())"
   ]
  },
  {
   "cell_type": "code",
   "execution_count": 93,
   "id": "fc4ff45a",
   "metadata": {},
   "outputs": [
    {
     "name": "stdout",
     "output_type": "stream",
     "text": [
      "Help on built-in function zfill:\n",
      "\n",
      "zfill(width, /) method of builtins.str instance\n",
      "    Pad a numeric string with zeros on the left, to fill a field of the given width.\n",
      "    \n",
      "    The string is never truncated.\n",
      "\n"
     ]
    }
   ],
   "source": [
    "help(a.zfill)"
   ]
  },
  {
   "cell_type": "markdown",
   "id": "780952a9",
   "metadata": {},
   "source": [
    "### String Slicing"
   ]
  },
  {
   "cell_type": "code",
   "execution_count": 95,
   "id": "460bc4b4",
   "metadata": {},
   "outputs": [
    {
     "data": {
      "text/plain": [
       "'this is a python programme for string function'"
      ]
     },
     "execution_count": 95,
     "metadata": {},
     "output_type": "execute_result"
    }
   ],
   "source": [
    "a"
   ]
  },
  {
   "cell_type": "code",
   "execution_count": 97,
   "id": "9dbb464e",
   "metadata": {},
   "outputs": [
    {
     "name": "stdout",
     "output_type": "stream",
     "text": [
      "t\n"
     ]
    }
   ],
   "source": [
    "print(a[12])"
   ]
  },
  {
   "cell_type": "code",
   "execution_count": 99,
   "id": "c6150658",
   "metadata": {},
   "outputs": [
    {
     "name": "stdout",
     "output_type": "stream",
     "text": [
      "his is a python pro\n"
     ]
    }
   ],
   "source": [
    "print(a[1:20])"
   ]
  },
  {
   "cell_type": "code",
   "execution_count": 101,
   "id": "c8787d66",
   "metadata": {},
   "outputs": [
    {
     "name": "stdout",
     "output_type": "stream",
     "text": [
      "is a python programme for\n"
     ]
    }
   ],
   "source": [
    "print(a[5:30])"
   ]
  },
  {
   "cell_type": "code",
   "execution_count": 103,
   "id": "98d258c2",
   "metadata": {},
   "outputs": [
    {
     "name": "stdout",
     "output_type": "stream",
     "text": [
      "hsi  yhnpormefrsrn ucin\n"
     ]
    }
   ],
   "source": [
    "print(a[1: :2])"
   ]
  },
  {
   "cell_type": "code",
   "execution_count": 107,
   "id": "4f88d3aa",
   "metadata": {},
   "outputs": [
    {
     "name": "stdout",
     "output_type": "stream",
     "text": [
      "ss tnrrmf \n"
     ]
    }
   ],
   "source": [
    "print(a[3:33:3])"
   ]
  },
  {
   "cell_type": "code",
   "execution_count": 109,
   "id": "ed597285",
   "metadata": {},
   "outputs": [
    {
     "name": "stdout",
     "output_type": "stream",
     "text": [
      "string functi\n"
     ]
    }
   ],
   "source": [
    "print(a[-15:-2])"
   ]
  },
  {
   "cell_type": "code",
   "execution_count": 111,
   "id": "acd34599",
   "metadata": {},
   "outputs": [
    {
     "name": "stdout",
     "output_type": "stream",
     "text": [
      "oitcnuf gnirts rof emma\n"
     ]
    }
   ],
   "source": [
    "print(a[-2:-25:-1])"
   ]
  }
 ],
 "metadata": {
  "kernelspec": {
   "display_name": "Python 3 (ipykernel)",
   "language": "python",
   "name": "python3"
  },
  "language_info": {
   "codemirror_mode": {
    "name": "ipython",
    "version": 3
   },
   "file_extension": ".py",
   "mimetype": "text/x-python",
   "name": "python",
   "nbconvert_exporter": "python",
   "pygments_lexer": "ipython3",
   "version": "3.8.8"
  }
 },
 "nbformat": 4,
 "nbformat_minor": 5
}
