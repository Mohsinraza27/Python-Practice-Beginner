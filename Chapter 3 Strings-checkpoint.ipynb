{
 "cells": [
  {
   "cell_type": "code",
   "execution_count": 5,
   "id": "78b91bcb",
   "metadata": {},
   "outputs": [
    {
     "name": "stdout",
     "output_type": "stream",
     "text": [
      "Mohsin Raza\n",
      "Mohsin Raza\n",
      "Mohsin \n",
      "       Raza\n"
     ]
    }
   ],
   "source": [
    "a = 'Mohsin Raza'\n",
    "b = \"Mohsin Raza\"\n",
    "c = '''Mohsin \n",
    "       Raza'''\n",
    "print(a)\n",
    "print(b)\n",
    "print(c)"
   ]
  },
  {
   "cell_type": "code",
   "execution_count": 6,
   "id": "e1426cb0",
   "metadata": {},
   "outputs": [
    {
     "name": "stdout",
     "output_type": "stream",
     "text": [
      "ohs\n"
     ]
    }
   ],
   "source": [
    "a = \"Mohsin Raza\"\n",
    "b = a[1:4]\n",
    "print(b)"
   ]
  },
  {
   "cell_type": "code",
   "execution_count": 7,
   "id": "1dd8f016",
   "metadata": {},
   "outputs": [
    {
     "name": "stdout",
     "output_type": "stream",
     "text": [
      "Mohsin R\n"
     ]
    }
   ],
   "source": [
    "a = \"Mohsin Raza\"\n",
    "b = a[0:8]\n",
    "print(b)"
   ]
  },
  {
   "cell_type": "code",
   "execution_count": 8,
   "id": "e08c3a62",
   "metadata": {},
   "outputs": [
    {
     "name": "stdout",
     "output_type": "stream",
     "text": [
      "sin Ra\n"
     ]
    }
   ],
   "source": [
    "a = \"Mohsin Raza\"\n",
    "b = a[3:9]\n",
    "print(b)"
   ]
  },
  {
   "cell_type": "code",
   "execution_count": 9,
   "id": "f0547307",
   "metadata": {},
   "outputs": [
    {
     "name": "stdout",
     "output_type": "stream",
     "text": [
      " Raz\n"
     ]
    }
   ],
   "source": [
    "a = \"Mohsin Raza\"\n",
    "b = a[-5:-1]\n",
    "print(b)"
   ]
  },
  {
   "cell_type": "code",
   "execution_count": 10,
   "id": "b449fb53",
   "metadata": {},
   "outputs": [
    {
     "name": "stdout",
     "output_type": "stream",
     "text": [
      "hsin Raza\n"
     ]
    }
   ],
   "source": [
    "a = \"Mohsin Raza\"\n",
    "b = a[-9:]\n",
    "print(b)"
   ]
  },
  {
   "cell_type": "code",
   "execution_count": 11,
   "id": "b7931c20",
   "metadata": {},
   "outputs": [
    {
     "name": "stdout",
     "output_type": "stream",
     "text": [
      "Mohs\n"
     ]
    }
   ],
   "source": [
    "a = \"Mohsin Raza\"\n",
    "b = a[:4]\n",
    "print(b)"
   ]
  },
  {
   "cell_type": "code",
   "execution_count": 12,
   "id": "3ee35523",
   "metadata": {},
   "outputs": [
    {
     "name": "stdout",
     "output_type": "stream",
     "text": [
      "os\n"
     ]
    }
   ],
   "source": [
    "#String with skip value\n",
    "a = \"Mohsin Raza\"\n",
    "b = a[1:4:2]\n",
    "print(b)"
   ]
  },
  {
   "cell_type": "code",
   "execution_count": 13,
   "id": "87d7f3c2",
   "metadata": {},
   "outputs": [
    {
     "name": "stdout",
     "output_type": "stream",
     "text": [
      "osnR\n"
     ]
    }
   ],
   "source": [
    "a = \"Mohsin Raza\"\n",
    "b = a[1:8:2]\n",
    "print(b)"
   ]
  },
  {
   "cell_type": "code",
   "execution_count": 14,
   "id": "e5b738d1",
   "metadata": {},
   "outputs": [
    {
     "name": "stdout",
     "output_type": "stream",
     "text": [
      "in Raz\n"
     ]
    }
   ],
   "source": [
    "a = \"Mohsin Raza\"\n",
    "b = a[-7:-1:1]\n",
    "print(b)"
   ]
  },
  {
   "cell_type": "code",
   "execution_count": 15,
   "id": "5d2e113d",
   "metadata": {},
   "outputs": [
    {
     "name": "stdout",
     "output_type": "stream",
     "text": [
      "Ms\n"
     ]
    }
   ],
   "source": [
    "a = \"Mohsin Raza\"\n",
    "b = a[:6:3]\n",
    "print(b)"
   ]
  },
  {
   "cell_type": "code",
   "execution_count": 16,
   "id": "7b4f5cfe",
   "metadata": {},
   "outputs": [
    {
     "name": "stdout",
     "output_type": "stream",
     "text": [
      "osnRz\n"
     ]
    }
   ],
   "source": [
    "a = \"Mohsin Raza\"\n",
    "b = a[1: :2]\n",
    "print(b)"
   ]
  },
  {
   "cell_type": "code",
   "execution_count": 17,
   "id": "427b8b1e",
   "metadata": {},
   "outputs": [
    {
     "name": "stdout",
     "output_type": "stream",
     "text": [
      "n Raza\n"
     ]
    }
   ],
   "source": [
    "a = \"Mohsin Raza\"\n",
    "b = a[-6: :1]\n",
    "print(b)"
   ]
  },
  {
   "cell_type": "code",
   "execution_count": 18,
   "id": "f5c2d241",
   "metadata": {},
   "outputs": [
    {
     "name": "stdout",
     "output_type": "stream",
     "text": [
      "11\n"
     ]
    }
   ],
   "source": [
    "#String Functions\n",
    "a = \"Mohsin Raza\"\n",
    "#b = a[1:4]\n",
    "print(len(a))"
   ]
  },
  {
   "cell_type": "code",
   "execution_count": 22,
   "id": "30a7ad51",
   "metadata": {},
   "outputs": [
    {
     "name": "stdout",
     "output_type": "stream",
     "text": [
      "True\n"
     ]
    }
   ],
   "source": [
    "a = \"Mohsin Raza\"\n",
    "\n",
    "print(a.endswith(\"za\"))"
   ]
  },
  {
   "cell_type": "code",
   "execution_count": 24,
   "id": "02736d83",
   "metadata": {},
   "outputs": [
    {
     "name": "stdout",
     "output_type": "stream",
     "text": [
      "True\n"
     ]
    }
   ],
   "source": [
    "a = \"Mohsin Raza\"\n",
    "\n",
    "print(a.endswith(\"a\"))"
   ]
  },
  {
   "cell_type": "code",
   "execution_count": 25,
   "id": "b741ed0c",
   "metadata": {},
   "outputs": [
    {
     "name": "stdout",
     "output_type": "stream",
     "text": [
      "False\n"
     ]
    }
   ],
   "source": [
    "a = \"Mohsin Raza\"\n",
    "\n",
    "print(a.endswith(\"R\"))"
   ]
  },
  {
   "cell_type": "code",
   "execution_count": 28,
   "id": "b49a32c1",
   "metadata": {},
   "outputs": [
    {
     "name": "stdout",
     "output_type": "stream",
     "text": [
      "2\n"
     ]
    }
   ],
   "source": [
    "a = \"Mohsin Raza\"\n",
    "\n",
    "print(a.count(\"a\"))"
   ]
  },
  {
   "cell_type": "code",
   "execution_count": 29,
   "id": "ce78676c",
   "metadata": {},
   "outputs": [
    {
     "name": "stdout",
     "output_type": "stream",
     "text": [
      "1\n"
     ]
    }
   ],
   "source": [
    "a = \"Mohsin Raza\"\n",
    "\n",
    "print(a.count(\"R\"))"
   ]
  },
  {
   "cell_type": "code",
   "execution_count": 30,
   "id": "4f174f78",
   "metadata": {},
   "outputs": [
    {
     "name": "stdout",
     "output_type": "stream",
     "text": [
      "Mohsin raza\n"
     ]
    }
   ],
   "source": [
    "a = \"mohsin raza\"\n",
    "\n",
    "print(a.capitalize())"
   ]
  },
  {
   "cell_type": "code",
   "execution_count": 31,
   "id": "3c2a5247",
   "metadata": {},
   "outputs": [
    {
     "name": "stdout",
     "output_type": "stream",
     "text": [
      "8\n"
     ]
    }
   ],
   "source": [
    "a = \"Mohsin Raza\"\n",
    "\n",
    "print(a.find(\"a\"))"
   ]
  },
  {
   "cell_type": "code",
   "execution_count": 32,
   "id": "fc8e7073",
   "metadata": {},
   "outputs": [
    {
     "name": "stdout",
     "output_type": "stream",
     "text": [
      "7\n"
     ]
    }
   ],
   "source": [
    "a = \"Mohsin Raza\"\n",
    "\n",
    "print(a.find(\"R\"))"
   ]
  },
  {
   "cell_type": "code",
   "execution_count": 33,
   "id": "2b635cb7",
   "metadata": {},
   "outputs": [
    {
     "name": "stdout",
     "output_type": "stream",
     "text": [
      "1\n"
     ]
    }
   ],
   "source": [
    "a = \"Mohsin Raza\"\n",
    "\n",
    "print(a.find(\"o\"))"
   ]
  },
  {
   "cell_type": "code",
   "execution_count": 34,
   "id": "94ebcabf",
   "metadata": {},
   "outputs": [
    {
     "name": "stdout",
     "output_type": "stream",
     "text": [
      "Mohsin RAzA\n"
     ]
    }
   ],
   "source": [
    "a = \"Mohsin Raza\"\n",
    "\n",
    "print(a.replace(\"a\", \"A\"))"
   ]
  },
  {
   "cell_type": "code",
   "execution_count": 35,
   "id": "45f7ac39",
   "metadata": {},
   "outputs": [
    {
     "name": "stdout",
     "output_type": "stream",
     "text": [
      "Mohsin RaZa\n"
     ]
    }
   ],
   "source": [
    "a = \"Mohsin Raza\"\n",
    "\n",
    "print(a.replace(\"z\", \"Z\"))"
   ]
  },
  {
   "cell_type": "code",
   "execution_count": 38,
   "id": "56d75c2f",
   "metadata": {},
   "outputs": [
    {
     "name": "stdout",
     "output_type": "stream",
     "text": [
      "Mohsin\n",
      " Raza\n"
     ]
    }
   ],
   "source": [
    "#Escape sequence characters\n",
    "a = \"Mohsin\\n Raza\"\n",
    "print(a)\n"
   ]
  },
  {
   "cell_type": "code",
   "execution_count": 40,
   "id": "5f5bf4d5",
   "metadata": {},
   "outputs": [
    {
     "name": "stdout",
     "output_type": "stream",
     "text": [
      " Mohsin\n",
      "\tRaza\n"
     ]
    }
   ],
   "source": [
    "a = \" Mohsin\\n\\tRaza\"\n",
    "print(a)\n"
   ]
  },
  {
   "cell_type": "code",
   "execution_count": 42,
   "id": "3f485f6d",
   "metadata": {},
   "outputs": [
    {
     "name": "stdout",
     "output_type": "stream",
     "text": [
      "Mohsin\\ \n",
      "\tRaza\n"
     ]
    }
   ],
   "source": [
    "a = \"Mohsin\\ \\n\\tRaza\"\n",
    "print(a)\n"
   ]
  },
  {
   "cell_type": "code",
   "execution_count": 43,
   "id": "82ac5588",
   "metadata": {},
   "outputs": [
    {
     "name": "stdout",
     "output_type": "stream",
     "text": [
      "Mohsin\\ \n",
      "\tRaza'\n"
     ]
    }
   ],
   "source": [
    "a = \"Mohsin\\ \\n\\tRaza\\'\"\n",
    "print(a)\n"
   ]
  },
  {
   "cell_type": "code",
   "execution_count": 44,
   "id": "b8853ab3",
   "metadata": {},
   "outputs": [
    {
     "name": "stdout",
     "output_type": "stream",
     "text": [
      "Enter your name: Mohsin raza\n",
      "Good afternoon Mohsin raza\n"
     ]
    }
   ],
   "source": [
    "#PRACTICE SET\n",
    "a = input(\"Enter your name: \")\n",
    "print(\"Good afternoon \" + a)"
   ]
  },
  {
   "cell_type": "code",
   "execution_count": 45,
   "id": "b24f4ece",
   "metadata": {},
   "outputs": [
    {
     "name": "stdout",
     "output_type": "stream",
     "text": [
      "Enter your name: Ali raza\n",
      "Good Morning Ali raza\n"
     ]
    }
   ],
   "source": [
    "a = input(\"Enter your name: \")\n",
    "print(\"Good Morning \" + a)\n"
   ]
  },
  {
   "cell_type": "code",
   "execution_count": 51,
   "id": "50a9717f",
   "metadata": {},
   "outputs": [
    {
     "name": "stdout",
     "output_type": "stream",
     "text": [
      "Enter your name:\n",
      " Mohsin RAza\n",
      "Enter the date:\n",
      " 07/11/2021\n",
      "Dear Mohsin RAza,\n",
      "Congratulations \n",
      "        You are selected!\n",
      " The company of ABC in the new york city\n",
      "        \n",
      "07/11/2021\n"
     ]
    }
   ],
   "source": [
    "letter = '''Dear <|NAME|>,\n",
    "Congratulations \n",
    "        You are selected!\\n The company of ABC in the new york city\n",
    "        \n",
    "<|DATE|>'''\n",
    "\n",
    "name = input(\"Enter your name:\\n \")\n",
    "date = input(\"Enter the date:\\n \")\n",
    "letter = letter.replace(\"<|NAME|>\", name)\n",
    "letter = letter.replace(\"<|DATE|>\", date)\n",
    "print(letter)"
   ]
  },
  {
   "cell_type": "code",
   "execution_count": 52,
   "id": "72c02e32",
   "metadata": {},
   "outputs": [
    {
     "name": "stdout",
     "output_type": "stream",
     "text": [
      "6\n"
     ]
    }
   ],
   "source": [
    "a = \"Mohsin  Raza\"\n",
    "print(a.find(\"  \"))"
   ]
  },
  {
   "cell_type": "code",
   "execution_count": 53,
   "id": "aa413b1d",
   "metadata": {},
   "outputs": [
    {
     "name": "stdout",
     "output_type": "stream",
     "text": [
      "Mohsin Raza\n"
     ]
    }
   ],
   "source": [
    "a = \"Mohsin  Raza\"\n",
    "print(a.replace(\"  \", \" \"))"
   ]
  },
  {
   "cell_type": "code",
   "execution_count": 54,
   "id": "51fe4299",
   "metadata": {},
   "outputs": [
    {
     "name": "stdout",
     "output_type": "stream",
     "text": [
      "Dear Harry's, \n",
      "This Python Course is Helpful. \n",
      "\tTHANKS! \n"
     ]
    }
   ],
   "source": [
    "letter = \"Dear Harry\\'s, \\nThis Python Course is Helpful. \\n\\tTHANKS! \"\n",
    "print(letter)"
   ]
  },
  {
   "cell_type": "code",
   "execution_count": null,
   "id": "650a451c",
   "metadata": {},
   "outputs": [],
   "source": []
  }
 ],
 "metadata": {
  "kernelspec": {
   "display_name": "Python 3",
   "language": "python",
   "name": "python3"
  },
  "language_info": {
   "codemirror_mode": {
    "name": "ipython",
    "version": 3
   },
   "file_extension": ".py",
   "mimetype": "text/x-python",
   "name": "python",
   "nbconvert_exporter": "python",
   "pygments_lexer": "ipython3",
   "version": "3.8.8"
  }
 },
 "nbformat": 4,
 "nbformat_minor": 5
}
