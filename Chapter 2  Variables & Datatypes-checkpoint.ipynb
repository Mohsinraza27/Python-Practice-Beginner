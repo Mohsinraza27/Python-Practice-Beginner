{
 "cells": [
  {
   "cell_type": "code",
   "execution_count": 1,
   "id": "21a6e3df",
   "metadata": {},
   "outputs": [
    {
     "name": "stdout",
     "output_type": "stream",
     "text": [
      "30\n",
      "Mohsin\n",
      "23.5\n",
      "True\n",
      "None\n"
     ]
    }
   ],
   "source": [
    "a = 30\n",
    "b = \"Mohsin\"\n",
    "c = 23.5\n",
    "d = True\n",
    "e = None\n",
    "print(a)\n",
    "print(b)\n",
    "print(c)\n",
    "print(d)\n",
    "print(e)"
   ]
  },
  {
   "cell_type": "code",
   "execution_count": 2,
   "id": "264585b5",
   "metadata": {},
   "outputs": [
    {
     "name": "stdout",
     "output_type": "stream",
     "text": [
      "<class 'int'>\n",
      "<class 'str'>\n",
      "<class 'float'>\n",
      "<class 'bool'>\n",
      "<class 'NoneType'>\n"
     ]
    }
   ],
   "source": [
    "a = 30\n",
    "b = \"Mohsin\"\n",
    "c = 23.5\n",
    "d = True\n",
    "e = None\n",
    "print(type(a))\n",
    "print(type(b))\n",
    "print(type(c))\n",
    "print(type(d))\n",
    "print(type(e))"
   ]
  },
  {
   "cell_type": "code",
   "execution_count": 6,
   "id": "6e57fad1",
   "metadata": {},
   "outputs": [
    {
     "name": "stdout",
     "output_type": "stream",
     "text": [
      "35\n",
      "<class 'int'>\n"
     ]
    }
   ],
   "source": [
    "a = \"30\"\n",
    "a = int(a)\n",
    "print(a + 5)\n",
    "print(type(a))"
   ]
  },
  {
   "cell_type": "code",
   "execution_count": 7,
   "id": "d35feab3",
   "metadata": {},
   "outputs": [
    {
     "name": "stdout",
     "output_type": "stream",
     "text": [
      "21\n",
      "<class 'str'>\n"
     ]
    }
   ],
   "source": [
    "b = 21\n",
    "b = str(b)\n",
    "print(b)\n",
    "print(type(b))"
   ]
  },
  {
   "cell_type": "code",
   "execution_count": 9,
   "id": "0e94001f",
   "metadata": {},
   "outputs": [
    {
     "name": "stdout",
     "output_type": "stream",
     "text": [
      "The value of a + b is:  145\n",
      "The value of a - b is:  -33\n",
      "The value of a * b is:  4984\n",
      "The value of a / b is:  0.6292134831460674\n"
     ]
    }
   ],
   "source": [
    "#Arithmetic operators\n",
    "a = 56\n",
    "b = 89\n",
    "print(\"The value of a + b is: \", a + b)\n",
    "print(\"The value of a - b is: \", a - b)\n",
    "print(\"The value of a * b is: \", a * b)\n",
    "print(\"The value of a / b is: \", a / b)"
   ]
  },
  {
   "cell_type": "code",
   "execution_count": 25,
   "id": "0df2a686",
   "metadata": {},
   "outputs": [
    {
     "name": "stdout",
     "output_type": "stream",
     "text": [
      "22.5\n"
     ]
    }
   ],
   "source": [
    "#Assignment Operators\n",
    "a = 12\n",
    "a += 12\n",
    "a -= 9\n",
    "a *= 3\n",
    "a /= 2\n",
    "\n",
    "print(a)"
   ]
  },
  {
   "cell_type": "code",
   "execution_count": 13,
   "id": "2916a75b",
   "metadata": {},
   "outputs": [
    {
     "name": "stdout",
     "output_type": "stream",
     "text": [
      "The value of a == b is:  False\n",
      "The value of a != b is:  True\n",
      "The value of a > b is:  False\n",
      "The value of a >= b is:  False\n",
      "The value of a < b is: True\n",
      "The value of a <= b is:  True\n"
     ]
    }
   ],
   "source": [
    "#Comparison Operators\n",
    "a = 24\n",
    "b = 56\n",
    "print(\"The value of a == b is: \", a == b)\n",
    "print(\"The value of a != b is: \", a != b)\n",
    "print(\"The value of a > b is: \", a > b)\n",
    "print(\"The value of a >= b is: \", a >= b)\n",
    "print(\"The value of a < b is:\", a < b)\n",
    "print(\"The value of a <= b is: \", a <= b)"
   ]
  },
  {
   "cell_type": "code",
   "execution_count": 15,
   "id": "8a8a5e14",
   "metadata": {},
   "outputs": [
    {
     "name": "stdout",
     "output_type": "stream",
     "text": [
      "The value of bool1 and bool2 is:  False\n",
      "The value of bool1 or bool2 is:  True\n",
      "The value of not bool2 is:  True\n"
     ]
    }
   ],
   "source": [
    "#Logical Operators\n",
    "bool1 = True\n",
    "bool2 = False\n",
    "print(\"The value of bool1 and bool2 is: \", bool1 and bool2)\n",
    "print(\"The value of bool1 or bool2 is: \", bool1 or bool2)\n",
    "print(\"The value of not bool2 is: \", not bool2)"
   ]
  },
  {
   "cell_type": "code",
   "execution_count": 16,
   "id": "9fe73624",
   "metadata": {},
   "outputs": [
    {
     "name": "stdout",
     "output_type": "stream",
     "text": [
      "Enter your name: Mohsin\n",
      "Mohsin\n"
     ]
    }
   ],
   "source": [
    "a = input(\"Enter your name: \")\n",
    "print(a)"
   ]
  },
  {
   "cell_type": "code",
   "execution_count": 17,
   "id": "a00be39a",
   "metadata": {},
   "outputs": [
    {
     "name": "stdout",
     "output_type": "stream",
     "text": [
      "Enter your name: Mohsin Raza\n",
      "Enter your age: 20\n",
      "Enter your marks: 2664\n",
      "Enter your city: Gujrat\n",
      "Mohsin Raza\n",
      "20\n",
      "2664\n",
      "Gujrat\n"
     ]
    }
   ],
   "source": [
    "#Input Function\n",
    "a = input(\"Enter your name: \")\n",
    "b = input(\"Enter your age: \")\n",
    "c = input(\"Enter your marks: \")\n",
    "d = input(\"Enter your city: \")\n",
    "print(a)\n",
    "print(b)\n",
    "print(c)\n",
    "print(d)"
   ]
  },
  {
   "cell_type": "code",
   "execution_count": 18,
   "id": "20d9ecf8",
   "metadata": {},
   "outputs": [
    {
     "name": "stdout",
     "output_type": "stream",
     "text": [
      "The value of a + b is:  46\n"
     ]
    }
   ],
   "source": [
    "#CHAPTER 2 PRACTICE SET\n",
    "a = 34\n",
    "b = 12\n",
    "print(\"The value of a + b is: \", a + b)"
   ]
  },
  {
   "cell_type": "code",
   "execution_count": 19,
   "id": "7838d2cf",
   "metadata": {},
   "outputs": [
    {
     "name": "stdout",
     "output_type": "stream",
     "text": [
      "Enter your details: Mohsin Raza\n",
      "<class 'str'>\n",
      "Mohsin Raza\n"
     ]
    }
   ],
   "source": [
    "a = input(\"Enter your details: \")\n",
    "print(type(a))\n",
    "print(a)"
   ]
  },
  {
   "cell_type": "code",
   "execution_count": 22,
   "id": "37e2624d",
   "metadata": {},
   "outputs": [
    {
     "name": "stdout",
     "output_type": "stream",
     "text": [
      "57.0\n"
     ]
    }
   ],
   "source": [
    "a = 34\n",
    "b = 80\n",
    "avg = (a + b)/2\n",
    "print(avg)"
   ]
  },
  {
   "cell_type": "code",
   "execution_count": 26,
   "id": "21734577",
   "metadata": {},
   "outputs": [
    {
     "name": "stdout",
     "output_type": "stream",
     "text": [
      "Enter the first number: 45\n",
      "Enter the second number: 21\n",
      "33.0\n"
     ]
    }
   ],
   "source": [
    "a = input(\"Enter the first number: \")\n",
    "b = input(\"Enter the second number: \")\n",
    "a = int(a)\n",
    "b = int(b)\n",
    "avg = (a+b)/2\n",
    "print(avg)"
   ]
  },
  {
   "cell_type": "code",
   "execution_count": 30,
   "id": "91fb561f",
   "metadata": {},
   "outputs": [
    {
     "name": "stdout",
     "output_type": "stream",
     "text": [
      "The remainder of a divided by b is:  0\n"
     ]
    }
   ],
   "source": [
    "a = 990\n",
    "b = 30\n",
    "print(\"The remainder of a divided by b is: \", a%b)"
   ]
  },
  {
   "cell_type": "code",
   "execution_count": 31,
   "id": "fab3beb7",
   "metadata": {},
   "outputs": [
    {
     "name": "stdout",
     "output_type": "stream",
     "text": [
      "The remainder of a divided by b is:  20\n"
     ]
    }
   ],
   "source": [
    "a = 890\n",
    "b = 30\n",
    "print(\"The remainder of a divided by b is: \", a%b)"
   ]
  },
  {
   "cell_type": "code",
   "execution_count": null,
   "id": "05fb363e",
   "metadata": {},
   "outputs": [],
   "source": []
  }
 ],
 "metadata": {
  "kernelspec": {
   "display_name": "Python 3",
   "language": "python",
   "name": "python3"
  },
  "language_info": {
   "codemirror_mode": {
    "name": "ipython",
    "version": 3
   },
   "file_extension": ".py",
   "mimetype": "text/x-python",
   "name": "python",
   "nbconvert_exporter": "python",
   "pygments_lexer": "ipython3",
   "version": "3.8.8"
  }
 },
 "nbformat": 4,
 "nbformat_minor": 5
}
