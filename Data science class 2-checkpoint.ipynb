{
 "cells": [
  {
   "cell_type": "code",
   "execution_count": 1,
   "id": "aa49133a",
   "metadata": {},
   "outputs": [
    {
     "name": "stdout",
     "output_type": "stream",
     "text": [
      "Helo word\n"
     ]
    }
   ],
   "source": [
    "print(\"Helo word\")"
   ]
  },
  {
   "cell_type": "code",
   "execution_count": 4,
   "id": "9e5a8566",
   "metadata": {},
   "outputs": [
    {
     "name": "stdout",
     "output_type": "stream",
     "text": [
      "47\n",
      "-43\n",
      "90\n",
      "0.044444444444444446\n"
     ]
    }
   ],
   "source": [
    "a = 2\n",
    "b = 45\n",
    "c = a + b\n",
    "print(c)\n",
    "\n",
    "a = 2\n",
    "b = 45\n",
    "c = a - b\n",
    "print(c)\n",
    "\n",
    "a = 2\n",
    "b = 45\n",
    "c = a * b\n",
    "print(c)\n",
    "\n",
    "a = 2\n",
    "b = 45\n",
    "c = a / b\n",
    "print(c)"
   ]
  },
  {
   "cell_type": "code",
   "execution_count": 14,
   "id": "c048c3dd",
   "metadata": {},
   "outputs": [
    {
     "name": "stdout",
     "output_type": "stream",
     "text": [
      "16.363636363636363\n",
      "36.333333333333336\n",
      "55.666666666666664\n"
     ]
    }
   ],
   "source": [
    "a = 12\n",
    "b = 45\n",
    "c = (b * a)/(b - a)\n",
    "d = a + 25 - 15 * 2 /b      # [12 + 25 - { 15 * (2/45) } ] \n",
    "print(c)\n",
    "print(d)\n",
    "\n",
    "x = 12 - 4/3 + 9*5          # (12 - 1.333) + 45\n",
    "print(x)\n"
   ]
  },
  {
   "cell_type": "code",
   "execution_count": 10,
   "id": "9db50997",
   "metadata": {},
   "outputs": [
    {
     "name": "stdout",
     "output_type": "stream",
     "text": [
      "mohsin raza\n"
     ]
    }
   ],
   "source": [
    "a = 'mohsin'\n",
    "b = \" raza\"\n",
    "print(a + b)"
   ]
  },
  {
   "cell_type": "code",
   "execution_count": 11,
   "id": "5dde3051",
   "metadata": {},
   "outputs": [
    {
     "name": "stdout",
     "output_type": "stream",
     "text": [
      "mohsin 27 \n"
     ]
    }
   ],
   "source": [
    "a = 'mohsin'\n",
    "b = \" 27 \"\n",
    "print(a + b)"
   ]
  },
  {
   "cell_type": "code",
   "execution_count": 12,
   "id": "e0281f8e",
   "metadata": {},
   "outputs": [
    {
     "ename": "TypeError",
     "evalue": "can only concatenate str (not \"int\") to str",
     "output_type": "error",
     "traceback": [
      "\u001b[1;31m---------------------------------------------------------------------------\u001b[0m",
      "\u001b[1;31mTypeError\u001b[0m                                 Traceback (most recent call last)",
      "\u001b[1;32m<ipython-input-12-be01781fdde8>\u001b[0m in \u001b[0;36m<module>\u001b[1;34m\u001b[0m\n\u001b[0;32m      1\u001b[0m \u001b[0ma\u001b[0m \u001b[1;33m=\u001b[0m \u001b[1;34m'23'\u001b[0m\u001b[1;33m\u001b[0m\u001b[1;33m\u001b[0m\u001b[0m\n\u001b[0;32m      2\u001b[0m \u001b[0mb\u001b[0m \u001b[1;33m=\u001b[0m \u001b[1;36m11\u001b[0m\u001b[1;33m\u001b[0m\u001b[1;33m\u001b[0m\u001b[0m\n\u001b[1;32m----> 3\u001b[1;33m \u001b[0mprint\u001b[0m\u001b[1;33m(\u001b[0m\u001b[0ma\u001b[0m \u001b[1;33m+\u001b[0m \u001b[0mb\u001b[0m\u001b[1;33m)\u001b[0m\u001b[1;33m\u001b[0m\u001b[1;33m\u001b[0m\u001b[0m\n\u001b[0m",
      "\u001b[1;31mTypeError\u001b[0m: can only concatenate str (not \"int\") to str"
     ]
    }
   ],
   "source": [
    "a = '23'\n",
    "b = 11         # type error\n",
    "print(a + b)   # can only concatenate str (not \"int\") to str\n"
   ]
  },
  {
   "cell_type": "code",
   "execution_count": 13,
   "id": "bc2c78a4",
   "metadata": {},
   "outputs": [
    {
     "name": "stdout",
     "output_type": "stream",
     "text": [
      "-36\n"
     ]
    }
   ],
   "source": [
    "a = 75\n",
    "b = 12\n",
    "c = 23 + b + 4 -a\n",
    "print(c)"
   ]
  },
  {
   "cell_type": "code",
   "execution_count": 15,
   "id": "896fad6f",
   "metadata": {},
   "outputs": [
    {
     "name": "stdout",
     "output_type": "stream",
     "text": [
      "67\n"
     ]
    }
   ],
   "source": [
    "a = 23\n",
    "a =34\n",
    "a = 67\n",
    "print(a)"
   ]
  },
  {
   "cell_type": "code",
   "execution_count": 16,
   "id": "026b6f44",
   "metadata": {},
   "outputs": [
    {
     "name": "stdout",
     "output_type": "stream",
     "text": [
      "101\n",
      "-33\n",
      "0.5074626865671642\n",
      "204\n"
     ]
    }
   ],
   "source": [
    "x = 34\n",
    "x += 67\n",
    "print(x)\n",
    "\n",
    "\n",
    "x = 34\n",
    "x -= 67\n",
    "print(x)\n",
    "\n",
    "\n",
    "x = 34\n",
    "x /= 67\n",
    "print(x)\n",
    "\n",
    "\n",
    "x = 34\n",
    "x *= 6\n",
    "print(x)\n"
   ]
  },
  {
   "cell_type": "code",
   "execution_count": null,
   "id": "19ff7782",
   "metadata": {},
   "outputs": [],
   "source": []
  }
 ],
 "metadata": {
  "kernelspec": {
   "display_name": "Python 3",
   "language": "python",
   "name": "python3"
  },
  "language_info": {
   "codemirror_mode": {
    "name": "ipython",
    "version": 3
   },
   "file_extension": ".py",
   "mimetype": "text/x-python",
   "name": "python",
   "nbconvert_exporter": "python",
   "pygments_lexer": "ipython3",
   "version": "3.8.8"
  }
 },
 "nbformat": 4,
 "nbformat_minor": 5
}
