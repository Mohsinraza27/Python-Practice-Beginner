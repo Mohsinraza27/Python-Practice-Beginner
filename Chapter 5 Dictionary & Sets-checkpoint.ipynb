{
 "cells": [
  {
   "cell_type": "code",
   "execution_count": 1,
   "id": "eae592d2",
   "metadata": {},
   "outputs": [
    {
     "name": "stdout",
     "output_type": "stream",
     "text": [
      "{'mohsin': 'Raza', 'key': 'Vlue', 'harry': 'Coder', 'marks': '100'}\n"
     ]
    }
   ],
   "source": [
    "d = {\"mohsin\": \"Raza\",\n",
    "    \"key\": \"Vlue\",\n",
    "    \"harry\": \"Coder\",\n",
    "    \"marks\": \"100\",\n",
    "    }\n",
    "\n",
    "print(d)"
   ]
  },
  {
   "cell_type": "code",
   "execution_count": 4,
   "id": "de99a10b",
   "metadata": {},
   "outputs": [
    {
     "name": "stdout",
     "output_type": "stream",
     "text": [
      "<class 'dict'>\n"
     ]
    }
   ],
   "source": [
    "#Dictionary is a Changeable\n",
    "d = {\"mohsin\": \"Raza\",\n",
    "    \"key\": \"Vlue\",\n",
    "    \"harry\": \"Coder\",\n",
    "    \"marks\": \"100\",\n",
    "     \"list\": \"[2, 5, 7, 9]\"\n",
    "    }\n",
    "\n",
    "print(type(d))"
   ]
  },
  {
   "cell_type": "code",
   "execution_count": 5,
   "id": "3453c7d1",
   "metadata": {},
   "outputs": [
    {
     "name": "stdout",
     "output_type": "stream",
     "text": [
      "Vlue\n"
     ]
    }
   ],
   "source": [
    "d = {\"mohsin\": \"Raza\",\n",
    "    \"key\": \"Vlue\",\n",
    "    \"harry\": \"Coder\",\n",
    "    \"marks\": \"100\",\n",
    "     \"list\": \"[2, 5, 7, 9]\"\n",
    "    }\n",
    "\n",
    "print(d[\"key\"])"
   ]
  },
  {
   "cell_type": "code",
   "execution_count": 6,
   "id": "b195b3b3",
   "metadata": {},
   "outputs": [
    {
     "name": "stdout",
     "output_type": "stream",
     "text": [
      "[2, 5, 7, 9]\n"
     ]
    }
   ],
   "source": [
    "#Dictionary is a Unordered\n",
    "d = {\"mohsin\": \"Raza\",\n",
    "    \"key\": \"Vlue\",\n",
    "    \"harry\": \"Coder\",\n",
    "    \"marks\": \"100\",\n",
    "     \"list\": \"[2, 5, 7, 9]\"\n",
    "    }\n",
    "\n",
    "print(d[\"list\"])"
   ]
  },
  {
   "cell_type": "code",
   "execution_count": 7,
   "id": "3d769be8",
   "metadata": {},
   "outputs": [
    {
     "name": "stdout",
     "output_type": "stream",
     "text": [
      "Raza\n"
     ]
    }
   ],
   "source": [
    "d = {\"mohsin\": \"Raza\",\n",
    "    \"key\": \"Vlue\",\n",
    "    \"harry\": \"Coder\",\n",
    "    \"marks\": \"100\",\n",
    "     \"list\": \"[2, 5, 7, 9]\"\n",
    "    }\n",
    "\n",
    "print(d[\"mohsin\"])"
   ]
  },
  {
   "cell_type": "code",
   "execution_count": 8,
   "id": "537b92fd",
   "metadata": {},
   "outputs": [
    {
     "name": "stdout",
     "output_type": "stream",
     "text": [
      "Coder\n"
     ]
    }
   ],
   "source": [
    "d = {\"mohsin\": \"Raza\",\n",
    "    \"key\": \"Vlue\",\n",
    "    \"harry\": \"Coder\",\n",
    "    \"marks\": \"100\",\n",
    "     \"list\": \"[2, 5, 7, 9]\"\n",
    "    }\n",
    "\n",
    "print(d[\"harry\"])"
   ]
  },
  {
   "cell_type": "code",
   "execution_count": 9,
   "id": "ffabbb6b",
   "metadata": {},
   "outputs": [
    {
     "name": "stdout",
     "output_type": "stream",
     "text": [
      "100\n"
     ]
    }
   ],
   "source": [
    "d = {\"mohsin\": \"Raza\",\n",
    "    \"key\": \"Vlue\",\n",
    "    \"harry\": \"Coder\",\n",
    "    \"marks\": \"100\",\n",
    "     \"list\": \"[2, 5, 7, 9]\"\n",
    "    }\n",
    "\n",
    "print(d[\"marks\"])"
   ]
  },
  {
   "cell_type": "code",
   "execution_count": 11,
   "id": "1731c6a7",
   "metadata": {},
   "outputs": [
    {
     "name": "stdout",
     "output_type": "stream",
     "text": [
      "Lock\n"
     ]
    }
   ],
   "source": [
    "#Cannot Contain Dublicate keys\n",
    "d = {\"mohsin\": \"Raza\",\n",
    "    \"key\": \"Vlue\",\n",
    "     \"key\": \"Lock\",\n",
    "    \"harry\": \"Coder\",\n",
    "    \"marks\": \"100\",\n",
    "     \"list\": \"[2, 5, 7, 9]\"\n",
    "    }\n",
    "\n",
    "print(d[\"key\"])"
   ]
  },
  {
   "cell_type": "code",
   "execution_count": 12,
   "id": "2eb8b1d9",
   "metadata": {},
   "outputs": [
    {
     "name": "stdout",
     "output_type": "stream",
     "text": [
      "dict_items([('name', 'Harry'), ('from', 'India'), ('marks', '[93, 98, 97]'), ('passion', 'Coding')])\n"
     ]
    }
   ],
   "source": [
    "#METHODS\n",
    "a = {\"name\": \"Harry\",\n",
    "    \"from\": \"India\",\n",
    "    \"marks\": \"[93, 98, 97]\",\n",
    "    \"passion\": \"Coding\"}\n",
    "print(a.items())"
   ]
  },
  {
   "cell_type": "code",
   "execution_count": 13,
   "id": "8daca7b0",
   "metadata": {},
   "outputs": [
    {
     "name": "stdout",
     "output_type": "stream",
     "text": [
      "dict_keys(['name', 'from', 'marks', 'passion'])\n"
     ]
    }
   ],
   "source": [
    "a = {\"name\": \"Harry\",\n",
    "    \"from\": \"India\",\n",
    "    \"marks\": \"[93, 98, 97]\",\n",
    "    \"passion\": \"Coding\"}\n",
    "print(a.keys())"
   ]
  },
  {
   "cell_type": "code",
   "execution_count": 15,
   "id": "ac251d95",
   "metadata": {},
   "outputs": [
    {
     "name": "stdout",
     "output_type": "stream",
     "text": [
      "{'name': 'Harry', 'from': 'India', 'marks': '980', 'passion': 'Coding'}\n"
     ]
    }
   ],
   "source": [
    "a = {\"name\": \"Harry\",\n",
    "    \"from\": \"India\",\n",
    "    \"marks\": \"[93, 98, 97]\",\n",
    "    \"passion\": \"Coding\"}\n",
    "a.update({\"marks\": \"980\"})\n",
    "\n",
    "print(a)"
   ]
  },
  {
   "cell_type": "code",
   "execution_count": 16,
   "id": "7f858665",
   "metadata": {},
   "outputs": [
    {
     "name": "stdout",
     "output_type": "stream",
     "text": [
      "Harry\n"
     ]
    }
   ],
   "source": [
    "a = {\"name\": \"Harry\",\n",
    "    \"from\": \"India\",\n",
    "    \"marks\": \"[93, 98, 97]\",\n",
    "    \"passion\": \"Coding\"}\n",
    "\n",
    "print(a.get(\"name\"))"
   ]
  },
  {
   "cell_type": "code",
   "execution_count": 18,
   "id": "5c2f52f6",
   "metadata": {},
   "outputs": [
    {
     "name": "stdout",
     "output_type": "stream",
     "text": [
      "None\n"
     ]
    }
   ],
   "source": [
    "a = {\"name\": \"Harry\",\n",
    "    \"from\": \"India\",\n",
    "    \"marks\": \"[93, 98, 97]\",\n",
    "    \"passion\": \"Coding\"}\n",
    "print(a.get(\"name2\"))"
   ]
  },
  {
   "cell_type": "code",
   "execution_count": 21,
   "id": "eb974e0d",
   "metadata": {},
   "outputs": [
    {
     "name": "stdout",
     "output_type": "stream",
     "text": [
      "<class 'set'>\n"
     ]
    }
   ],
   "source": [
    "#SET in python\n",
    "s = {2, 4, 5, 8, 9, 24, 4, 2, 67}\n",
    "print(type(s))\n"
   ]
  },
  {
   "cell_type": "code",
   "execution_count": 23,
   "id": "5d46dafe",
   "metadata": {},
   "outputs": [
    {
     "name": "stdout",
     "output_type": "stream",
     "text": [
      "{2, 67, 4, 5, 8, 9, 24}\n"
     ]
    }
   ],
   "source": [
    "s = {2, 4, 5, 8, 9, 24, 4, 2, 67}\n",
    "print(s)"
   ]
  },
  {
   "cell_type": "code",
   "execution_count": 25,
   "id": "94c40b64",
   "metadata": {},
   "outputs": [
    {
     "name": "stdout",
     "output_type": "stream",
     "text": [
      "<class 'tuple'>\n"
     ]
    }
   ],
   "source": [
    "s = ()\n",
    "#print(s)\n",
    "print(type(s))"
   ]
  },
  {
   "cell_type": "code",
   "execution_count": 27,
   "id": "07350c39",
   "metadata": {},
   "outputs": [
    {
     "name": "stdout",
     "output_type": "stream",
     "text": [
      "<class 'set'>\n"
     ]
    }
   ],
   "source": [
    "s = set()\n",
    "#print(s)\n",
    "print(type(s))"
   ]
  },
  {
   "cell_type": "code",
   "execution_count": 29,
   "id": "31731356",
   "metadata": {},
   "outputs": [
    {
     "name": "stdout",
     "output_type": "stream",
     "text": [
      "None\n"
     ]
    }
   ],
   "source": [
    "s = {2, 4, 5, 8, 9, 24, 4, 2, 67}\n",
    "print(s.add(90))"
   ]
  },
  {
   "cell_type": "code",
   "execution_count": 31,
   "id": "0689e812",
   "metadata": {},
   "outputs": [
    {
     "name": "stdout",
     "output_type": "stream",
     "text": [
      "{1, 3}\n"
     ]
    }
   ],
   "source": [
    "s = set()\n",
    "s.add(1)\n",
    "s.add(3)\n",
    "print(s)"
   ]
  },
  {
   "cell_type": "code",
   "execution_count": 32,
   "id": "6fee2b18",
   "metadata": {},
   "outputs": [
    {
     "name": "stdout",
     "output_type": "stream",
     "text": [
      "7\n"
     ]
    }
   ],
   "source": [
    "#Methods\n",
    "s = {2, 4, 5, 8, 9, 24, 4, 2, 67}\n",
    "print(len(s))"
   ]
  },
  {
   "cell_type": "code",
   "execution_count": 34,
   "id": "f53c9afb",
   "metadata": {},
   "outputs": [
    {
     "name": "stdout",
     "output_type": "stream",
     "text": [
      "{2, 4, 5, 8, 9, 24}\n"
     ]
    }
   ],
   "source": [
    "s = {2, 4, 5, 8, 9, 24, 4, 2, 67}\n",
    "s.remove(67)\n",
    "print(s)"
   ]
  },
  {
   "cell_type": "code",
   "execution_count": 35,
   "id": "a3869b2a",
   "metadata": {},
   "outputs": [
    {
     "name": "stdout",
     "output_type": "stream",
     "text": [
      "2\n"
     ]
    }
   ],
   "source": [
    "s = {2, 4, 5, 8, 9, 24, 4, 2, 67}\n",
    "print(s.pop())"
   ]
  },
  {
   "cell_type": "code",
   "execution_count": 37,
   "id": "c14a4588",
   "metadata": {},
   "outputs": [
    {
     "name": "stdout",
     "output_type": "stream",
     "text": [
      "set()\n"
     ]
    }
   ],
   "source": [
    "s = {2, 4, 5, 8, 9, 24, 4, 2, 67}\n",
    "s.clear()\n",
    "print(s)"
   ]
  },
  {
   "cell_type": "code",
   "execution_count": 41,
   "id": "e4e7cd65",
   "metadata": {},
   "outputs": [
    {
     "name": "stdout",
     "output_type": "stream",
     "text": [
      "{2, 67, 4, 5, 8, 9, 24}\n"
     ]
    }
   ],
   "source": [
    "s = {2, 4, 5, 8, 9, 24, 4, 2, 67}\n",
    "s.union({78, 45, 23, 24, 3, 7})\n",
    "print(s)"
   ]
  },
  {
   "cell_type": "code",
   "execution_count": 2,
   "id": "a71fdd1c",
   "metadata": {},
   "outputs": [
    {
     "name": "stdout",
     "output_type": "stream",
     "text": [
      "{2, 67, 4, 5, 8, 9, 24}\n",
      "<class 'set'>\n"
     ]
    }
   ],
   "source": [
    "s = {2, 4, 5, 8, 9, 24, 4, 2, 67}\n",
    "s.intersection({78, 45, 23, 24, 3, 7, 8, 67})\n",
    "\n",
    "print(s)\n",
    "print(type(s))"
   ]
  },
  {
   "cell_type": "code",
   "execution_count": 11,
   "id": "2e0078b7",
   "metadata": {},
   "outputs": [
    {
     "name": "stdout",
     "output_type": "stream",
     "text": [
      "Opetions are  dict_keys(['pankha', 'daba', 'drwaza', 'joota'])\n",
      "Enter the Hindi word:  daba\n",
      "The hindi word meaning is:  Box\n"
     ]
    }
   ],
   "source": [
    "#PRACTIC SET\n",
    "d = {\"pankha\": \"Fan\",\n",
    "    \"daba\": \"Box\",\n",
    "    \"drwaza\": \"Door\",\n",
    "    \"joota\": \"Shoes\"}\n",
    "print(\"Opetions are \", d.keys())\n",
    "d2 = input(\"Enter the Hindi word:  \")\n",
    "print(\"The hindi word meaning is: \", d[d2])"
   ]
  },
  {
   "cell_type": "code",
   "execution_count": 13,
   "id": "978fc84f",
   "metadata": {},
   "outputs": [
    {
     "name": "stdout",
     "output_type": "stream",
     "text": [
      "Enter the word: kagaz\n",
      "The word meaning is:  Paper\n"
     ]
    }
   ],
   "source": [
    "d = {\"kagaz\": \"Paper\",\n",
    "    \"ghataa\": \"Box\",\n",
    "    \"lakri\": \"Wood\"}\n",
    "d2 = input(\"Enter the word: \")\n",
    "print(\"The word meaning is: \", d[d2])"
   ]
  },
  {
   "cell_type": "code",
   "execution_count": 14,
   "id": "9f971f33",
   "metadata": {},
   "outputs": [
    {
     "name": "stdout",
     "output_type": "stream",
     "text": [
      "Enter the num1:\n",
      " 23\n",
      "Enter the num2:\n",
      " 45\n",
      "Enter the num3:\n",
      " 16\n",
      "Enter the num4:\n",
      " 77\n",
      "Enter the num5:\n",
      " 45\n",
      "Enter the num6:\n",
      " 19\n",
      "Enter the num7:\n",
      " 67\n",
      "Enter the num8:\n",
      " 23\n",
      "{'19', '23', '45', '67', '77', '16'}\n"
     ]
    }
   ],
   "source": [
    "num1 = input(\"Enter the num1:\\n \")\n",
    "num2 = input(\"Enter the num2:\\n \")\n",
    "num3 = input(\"Enter the num3:\\n \")\n",
    "num4 = input(\"Enter the num4:\\n \")\n",
    "num5 = input(\"Enter the num5:\\n \")\n",
    "num6 = input(\"Enter the num6:\\n \")\n",
    "num7 = input(\"Enter the num7:\\n \")\n",
    "num8 = input(\"Enter the num8:\\n \")\n",
    "\n",
    "s = {num1, num2, num3, num4, num5, num6, num7, num8}\n",
    "print(s)\n",
    "print(s.count())"
   ]
  },
  {
   "cell_type": "code",
   "execution_count": 15,
   "id": "bd7129fa",
   "metadata": {},
   "outputs": [
    {
     "name": "stdout",
     "output_type": "stream",
     "text": [
      "{18, '18'}\n"
     ]
    }
   ],
   "source": [
    "s = {18, \"18\"}\n",
    "print(s)"
   ]
  },
  {
   "cell_type": "code",
   "execution_count": 20,
   "id": "fba66b8a",
   "metadata": {},
   "outputs": [
    {
     "name": "stdout",
     "output_type": "stream",
     "text": [
      "{'23', 10}\n",
      "2\n"
     ]
    }
   ],
   "source": [
    "s = set()\n",
    "s.add(10)\n",
    "s.add(10.0)\n",
    "s.add(\"23\")\n",
    "print(s)\n",
    "\n",
    "print(len(s))"
   ]
  },
  {
   "cell_type": "code",
   "execution_count": 21,
   "id": "03ecdfc4",
   "metadata": {},
   "outputs": [
    {
     "name": "stdout",
     "output_type": "stream",
     "text": [
      "<class 'dict'>\n"
     ]
    }
   ],
   "source": [
    "s = {}\n",
    "print(type(s))"
   ]
  },
  {
   "cell_type": "code",
   "execution_count": 27,
   "id": "9c73fc94",
   "metadata": {},
   "outputs": [
    {
     "name": "stdout",
     "output_type": "stream",
     "text": [
      "Raza enter your favourite language: python\n",
      "Ali enter your favourite language: \n",
      "Hassan enter your favourite language: c\n",
      "Hamza enter your favourite language: python\n",
      "{'Raza': 'python', 'Ali': '', 'Hassan': 'c', 'Hamza': 'python'}\n"
     ]
    }
   ],
   "source": [
    "d = {}\n",
    "f1 = input(\"Raza enter your favourite language: \")\n",
    "f2 = input(\"Ali enter your favourite language: \")\n",
    "f3 = input(\"Hassan enter your favourite language: \")\n",
    "f4 = input(\"Hamza enter your favourite language: \")\n",
    " \n",
    "d['Raza']=f1 \n",
    "d['Ali']=f2\n",
    "d['Hassan']=f3\n",
    "d['Hamza']=f4\n",
    "\n",
    "print(d)"
   ]
  },
  {
   "cell_type": "code",
   "execution_count": 28,
   "id": "4161fef9",
   "metadata": {},
   "outputs": [
    {
     "name": "stdout",
     "output_type": "stream",
     "text": [
      "Raza enter your favourite language: c\n",
      "Ali enter your favourite language: c#\n",
      "Hamza enter your favourite language: java\n",
      "Hamza enter your favourite language: c\n",
      "{'Raza': 'c', 'Ali': 'c#', 'Hamza': 'c'}\n"
     ]
    }
   ],
   "source": [
    "d = {}\n",
    "f1 = input(\"Raza enter your favourite language: \")\n",
    "f2 = input(\"Ali enter your favourite language: \")\n",
    "f3 = input(\"Hamza enter your favourite language: \")\n",
    "f4 = input(\"Hamza enter your favourite language: \")\n",
    " \n",
    "d['Raza']=f1 \n",
    "d['Ali']=f2\n",
    "d['Hamza']=f3\n",
    "d['Hamza']=f4\n",
    "\n",
    "print(d)"
   ]
  },
  {
   "cell_type": "code",
   "execution_count": 29,
   "id": "f7c17ac6",
   "metadata": {},
   "outputs": [
    {
     "ename": "TypeError",
     "evalue": "unhashable type: 'list'",
     "output_type": "error",
     "traceback": [
      "\u001b[1;31m---------------------------------------------------------------------------\u001b[0m",
      "\u001b[1;31mTypeError\u001b[0m                                 Traceback (most recent call last)",
      "\u001b[1;32m<ipython-input-29-f4ab67172078>\u001b[0m in \u001b[0;36m<module>\u001b[1;34m\u001b[0m\n\u001b[1;32m----> 1\u001b[1;33m \u001b[0ms\u001b[0m \u001b[1;33m=\u001b[0m \u001b[1;33m{\u001b[0m\u001b[1;36m8\u001b[0m\u001b[1;33m,\u001b[0m \u001b[1;36m7\u001b[0m\u001b[1;33m,\u001b[0m \u001b[1;36m12\u001b[0m\u001b[1;33m,\u001b[0m \u001b[1;33m[\u001b[0m\u001b[1;36m1\u001b[0m\u001b[1;33m,\u001b[0m \u001b[1;36m2\u001b[0m\u001b[1;33m]\u001b[0m\u001b[1;33m}\u001b[0m\u001b[1;33m\u001b[0m\u001b[1;33m\u001b[0m\u001b[0m\n\u001b[0m\u001b[0;32m      2\u001b[0m \u001b[0mprint\u001b[0m\u001b[1;33m(\u001b[0m\u001b[0ms\u001b[0m\u001b[1;33m)\u001b[0m\u001b[1;33m\u001b[0m\u001b[1;33m\u001b[0m\u001b[0m\n",
      "\u001b[1;31mTypeError\u001b[0m: unhashable type: 'list'"
     ]
    }
   ],
   "source": [
    "s = {8, 7, 12, [1, 2]}\n",
    "print(s)"
   ]
  },
  {
   "cell_type": "code",
   "execution_count": null,
   "id": "85919d90",
   "metadata": {},
   "outputs": [],
   "source": []
  }
 ],
 "metadata": {
  "kernelspec": {
   "display_name": "Python 3",
   "language": "python",
   "name": "python3"
  },
  "language_info": {
   "codemirror_mode": {
    "name": "ipython",
    "version": 3
   },
   "file_extension": ".py",
   "mimetype": "text/x-python",
   "name": "python",
   "nbconvert_exporter": "python",
   "pygments_lexer": "ipython3",
   "version": "3.8.8"
  }
 },
 "nbformat": 4,
 "nbformat_minor": 5
}
